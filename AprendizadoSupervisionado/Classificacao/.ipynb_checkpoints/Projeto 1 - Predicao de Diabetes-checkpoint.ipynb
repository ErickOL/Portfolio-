{
 "cells": [
  {
   "cell_type": "markdown",
   "metadata": {},
   "source": [
    "<div style=\"background-color:#3b5998; border-radius:2px; border:#000000 solid; padding: 15px; font-size:100%; text-align:center\">\n",
    "    <h1 align=\"center\" style=\"color:#ffffff;\"><b>Sistema de Diagnóstico Médico 🔬💙💊</b></h1>\n",
    "</div>"
   ]
  },
  {
   "cell_type": "markdown",
   "metadata": {},
   "source": [
    "<img src=\"https://assets.newatlas.com/dims4/default/3461759/2147483647/strip/true/crop/7360x4907+0+3/resize/840x560!/quality/90/?url=http%3A%2F%2Fnewatlas-brightspot.s3.amazonaws.com%2F10%2F7f%2F5e48f79245c0b831a58d7cf8fb1d%2Fdepositphotos-228244172-xl.jpg\" width=\"900\" align=\"center\">"
   ]
  },
  {
   "cell_type": "markdown",
   "metadata": {},
   "source": [
    "<a id=\"top\"></a>\n",
    "# <div style=\"padding:20px;color:white;margin:0;font-size:30px;font-family:Georgia;text-align:left;display:fill;border-radius:5px;background-color:#254E58;overflow:hidden\">Tabela de Conteúdo</div>\n",
    "\n",
    "<div style=\"background-color:aliceblue; padding:30px; font-size:15px;color:#034914\">\n",
    "    \n",
    "* [1. Introdução](#1)\n",
    "    - [Problem statement](#1.1)\n",
    "    - [Data description](#1.2)\n",
    "    \n",
    "* [2. Import libraries](#2)    \n",
    "* [3. Basic Exploration](#3)\n",
    "    - [Read dataset](#3.0)\n",
    "    - [Some information](#3.1)\n",
    "    - [Data visualization](#3.3)\n",
    "* [4. Data preprocessing](#4)\n",
    "* [5. Machine Learning model](#5)\n",
    "    - [Logistic Regression](#5.1)\n",
    "    - [Random Forest Classifier](#5.2)\n",
    "    - [Hyperparameter Tuning of Random Forest](#5.3)\n",
    "    - [Decision Tree Classifier](#5.4)\n",
    "    - [Hyperparameter Tuning of Decision Tree](#5.5)\n",
    "    - [KNeighborsClassifier Model](#5.6)\n",
    "    - [Hyperparameter Tuning of KNN](#5.7)\n",
    "    - [Support Vector Classifier](#5.8)\n",
    "    - [AdaBoost Classifier](#5.9)\n",
    "    - [Gradient Boosting Classifier](#5.10)\n",
    "    - [xgboost Classifier](#5.11)\n",
    "    \n",
    "    \n",
    "* [6. Conclusion](#6)\n",
    "    - [Conclusion](#6.1)\n",
    "    - [Future Possible Work](#6.2)\n",
    "* [7. Author Message](#7)"
   ]
  },
  {
   "cell_type": "markdown",
   "metadata": {},
   "source": [
    "<a id=\"1\"></a>\n",
    "# <div style=\"padding:20px;color:white;margin:0;font-size:30px;font-family:Georgia;text-align:left;display:fill;border-radius:5px;background-color:#254E58;overflow:hidden\">1 | Introdução</div>"
   ]
  },
  {
   "cell_type": "markdown",
   "metadata": {},
   "source": [
    "<a id=\"1.1\"></a>\n",
    "<h2 style=\"font-family: Verdana; font-size: 25px; font-style: normal; font-weight: normal; text-decoration: none; text-transform: none; letter-spacing: 2px; color: #254E58; background-color: #ffffff;\"><b>1.1 | Problema de </b> Negócio"
   ]
  },
  {
   "cell_type": "markdown",
   "metadata": {},
   "source": [
    "<span style=\"font-size:14px; font-family:Verdana;\"> O objetivo deste problema é construir um modelo preditivo para prever o diagnóstico de diabetes em pacientes do sexo feminino com pelo menos 21 anos de idade e de ascendência indígena Pima. O modelo deve prever se um paciente tem diabetes $(Resultado = 1)$ ou não tem diabetes $(Resultado = 0)$ com base em diversas medidas de diagnóstico,como:</span>"
   ]
  },
  {
   "cell_type": "markdown",
   "metadata": {},
   "source": [
    "- *nível de glicose*;\n",
    "- *pressão arterial*;\n",
    "- *espessura da pele*;\n",
    "- *nível de insulina*;\n",
    "- *IMC*;\n",
    "- *função hereditária do diabetes*;\n",
    "- *idade*."
   ]
  },
  {
   "cell_type": "markdown",
   "metadata": {},
   "source": [
    "<a id=\"1.2\"></a>\n",
    "<h2 style=\"font-family: Verdana; font-size: 25px; font-style: normal; font-weight: normal; text-decoration: none; text-transform: none; letter-spacing: 2px; color: #254E58; background-color: #ffffff;\"><b>1.2 | Descrição das </b> Variáveis"
   ]
  },
  {
   "cell_type": "markdown",
   "metadata": {},
   "source": [
    "<table style=\"width: 100%; border-collapse: collapse;\">\n",
    "  <thead>\n",
    "    <tr>\n",
    "      <th style=\"min-width: 10px; width: 30px; background-color: #333333; color: white; font-weight: bold; text-align: left; padding: 8px;\">No</th>\n",
    "      <th style=\"background-color: #333333; color: white; font-weight: bold; text-align: left; padding: 8px;\">Column Name</th>\n",
    "      <th style=\"background-color: #333333; color: white; font-weight: bold; text-align: left; padding: 8px;\">Meaning</th>\n",
    "    </tr>\n",
    "  </thead>\n",
    "  <tbody>\n",
    "    <tr>\n",
    "      <td style=\"font-weight: bold; font-size: 14px; color: #254441; text-align: left;\">1</td>\n",
    "      <td style=\"font-weight: bold; font-size: 14px; color: #254441; text-align: left;\">Pregnancies</td>\n",
    "      <td style=\"font-size: 14px; text-align: left;\">Number of pregnancies</td>\n",
    "    </tr>\n",
    "    <tr>\n",
    "      <td style=\"font-weight: bold; font-size: 14px; color: #3850A0; text-align: left;\">2</td>\n",
    "      <td style=\"font-weight: bold; font-size: 14px; color: #3850A0; text-align: left;\">Glucose</td>\n",
    "      <td style=\"font-size: 14px; text-align: left;\">Glucose level in blood</td>\n",
    "    </tr>\n",
    "    <tr>\n",
    "      <td style=\"font-weight: bold; font-size: 14px; color: #8C001A; text-align: left;\">3</td>\n",
    "      <td style=\"font-weight: bold; font-size: 14px; color: #8C001A; text-align: left;\">BloodPressure</td>\n",
    "      <td style=\"font-size: 14px; text-align: left;\">Blood pressure measurement</td>\n",
    "    </tr>\n",
    "    <tr>\n",
    "      <td style=\"font-weight: bold; font-size: 14px; color: #FFAA33; text-align: left;\">4</td>\n",
    "      <td style=\"font-weight: bold; font-size: 14px; color: #FFAA33; text-align: left;\">SkinThickness</td>\n",
    "      <td style=\"font-size: 14px; text-align: left;\">Thickness of the skin</td>\n",
    "    </tr>\n",
    "    <tr>\n",
    "      <td style=\"font-weight: bold; font-size: 14px; color: #FF0077; text-align: left;\">5</td>\n",
    "      <td style=\"font-weight: bold; font-size: 14px; color: #FF0077; text-align: left;\">Insulin</td>\n",
    "      <td style=\"font-size: 14px; text-align: left;\">Insulin level in blood</td>\n",
    "    </tr>\n",
    "    <tr>\n",
    "      <td style=\"font-weight: bold; font-size: 14px; color: #009A80; text-align: left;\">6</td>\n",
    "      <td style=\"font-weight: bold; font-size: 14px; color: #009A80; text-align: left;\">BMI</td>\n",
    "      <td style=\"font-size: 14px; text-align: left;\">Body mass index</td>\n",
    "    </tr>\n",
    "    <tr>\n",
    "      <td style=\"font-weight: bold; font-size: 14px; color: #660099; text-align: left;\">7</td>\n",
    "      <td style=\"font-weight: bold; font-size: 14px; color: #660099; text-align: left;\">DiabetesPedigreeFunction</td>\n",
    "      <td style=\"font-size: 14px; text-align: left;\">Diabetes percentage</td>\n",
    "    </tr>\n",
    "    <tr>\n",
    "      <td style=\"font-weight: bold; font-size: 14px; color: #4B0082; text-align: left;\">8</td>\n",
    "      <td style=\"font-weight: bold; font-size: 14px; color: #4B0082; text-align: left;\">Age</td>\n",
    "      <td style=\"font-size: 14px; text-align: left;\">Age</td>\n",
    "    </tr>\n",
    "    <tr>\n",
    "      <td style=\"font-weight: bold; font-size: 14px; color: #0000FF; text-align: left;\">9</td>\n",
    "      <td style=\"font-weight: bold; font-size: 14px; color: #0000FF; text-align: left;\">Outcome</td>\n",
    "      <td style=\"font-size: 14px; text-align: left;\">Final result (<font color=\"#008000\">1</font>: Yes, the individual has diabetes; <font color=\"#FF0000\">0</font>: No, the individual does not have diabetes)</td>\n",
    "    </tr>\n",
    "  </tbody>\n",
    "</table>\n"
   ]
  },
  {
   "cell_type": "markdown",
   "metadata": {},
   "source": [
    "<a id=\"2\"></a>\n",
    "# <div style=\"padding:20px;color:white;margin:0;font-size:30px;font-family:Georgia;text-align:left;display:fill;border-radius:5px;background-color:#254E58;overflow:hidden\">2 | Importando as Bibliotecas</div>"
   ]
  },
  {
   "cell_type": "code",
   "execution_count": null,
   "metadata": {
    "execution": {
     "iopub.execute_input": "2023-08-27T17:36:46.366913Z",
     "iopub.status.busy": "2023-08-27T17:36:46.366076Z",
     "iopub.status.idle": "2023-08-27T17:36:49.953534Z",
     "shell.execute_reply": "2023-08-27T17:36:49.952267Z",
     "shell.execute_reply.started": "2023-08-27T17:36:46.366852Z"
    }
   },
   "outputs": [],
   "source": [
    "import pandas as pd\n",
    "import numpy as np\n",
    "import matplotlib.pyplot as plt\n",
    "%matplotlib inline\n",
    "import seaborn as sns\n",
    "from sklearn.model_selection import GridSearchCV, cross_val_score\n",
    "from sklearn.preprocessing import StandardScaler\n",
    "from sklearn.ensemble import RandomForestClassifier, VotingClassifier\n",
    "from sklearn.tree import DecisionTreeClassifier\n",
    "from sklearn.svm import SVC\n",
    "from sklearn.neighbors import KNeighborsClassifier\n",
    "from sklearn.linear_model import LogisticRegression\n",
    "from xgboost import XGBClassifier\n",
    "from lightgbm import LGBMClassifier\n",
    "from sklearn.ensemble import AdaBoostClassifier, GradientBoostingClassifier\n",
    "import joblib\n",
    "import warnings\n",
    "warnings.filterwarnings('ignore')"
   ]
  },
  {
   "cell_type": "markdown",
   "metadata": {},
   "source": [
    "<a id=\"3\"></a>\n",
    "# <div style=\"padding:20px;color:white;margin:0;font-size:30px;font-family:Georgia;text-align:left;display:fill;border-radius:5px;background-color:#254E58;overflow:hidden\">3 | Análise Exploratória</div>"
   ]
  },
  {
   "cell_type": "markdown",
   "metadata": {},
   "source": [
    "<a id=\"3.1\"></a>\n",
    "<h2 style=\"font-family: Verdana; font-size: 25px; font-style: normal; font-weight: normal; text-decoration: none; text-transform: none; letter-spacing: 2px; color: #254E58; background-color: #ffffff;\"><b>3.1 | Lendo os </b> Dados"
   ]
  },
  {
   "cell_type": "code",
   "execution_count": null,
   "metadata": {
    "execution": {
     "iopub.execute_input": "2023-08-27T17:36:49.956004Z",
     "iopub.status.busy": "2023-08-27T17:36:49.955639Z",
     "iopub.status.idle": "2023-08-27T17:36:49.986614Z",
     "shell.execute_reply": "2023-08-27T17:36:49.985394Z",
     "shell.execute_reply.started": "2023-08-27T17:36:49.955972Z"
    }
   },
   "outputs": [],
   "source": [
    "df = pd.read_csv('diabetes.csv')"
   ]
  },
  {
   "cell_type": "markdown",
   "metadata": {},
   "source": [
    "> <span style='font-size:15px; font-family:Verdana;color: #254E58; border-bottom: solid 3px'><b>3.2.1 | Display data content</b></span>"
   ]
  },
  {
   "cell_type": "code",
   "execution_count": null,
   "metadata": {
    "execution": {
     "iopub.execute_input": "2023-12-30T14:22:01.910355Z",
     "iopub.status.busy": "2023-12-30T14:22:01.910063Z",
     "iopub.status.idle": "2023-12-30T14:22:01.946754Z",
     "shell.execute_reply": "2023-12-30T14:22:01.945043Z",
     "shell.execute_reply.started": "2023-12-30T14:22:01.910332Z"
    }
   },
   "outputs": [],
   "source": [
    "styled_df = df.head(5).style\n",
    "\n",
    "# Set background color, text color, and border for the entire DataFrame\n",
    "styled_df.set_properties(**{\"background-color\": \"#254E58\", \"color\": \"#e9c46a\", \"border\": \"1.5px solid black\"})\n",
    "\n",
    "# Modify the color and background color of the table headers (th)\n",
    "styled_df.set_table_styles([\n",
    "    {\"selector\": \"th\", \"props\": [(\"color\", 'white'), (\"background-color\", \"#333333\")]}\n",
    "])\n"
   ]
  },
  {
   "cell_type": "markdown",
   "metadata": {},
   "source": [
    "<a id=\"3.2\"></a>\n",
    "<h2 style=\"font-family: Verdana; font-size: 25px; font-style: normal; font-weight: normal; text-decoration: none; text-transform: none; letter-spacing: 2px; color: #254E58; background-color: #ffffff;\"><b>3.2 | Obtendo algumas</b> Informações"
   ]
  },
  {
   "cell_type": "markdown",
   "metadata": {},
   "source": [
    "> <span style='font-size:15px; font-family:Verdana;color: #254E58; border-bottom: solid 3px'><b>3.2.2 | \n",
    "Number of rows, number of columns</b></span>"
   ]
  },
  {
   "cell_type": "code",
   "execution_count": null,
   "metadata": {},
   "outputs": [],
   "source": [
    "# Verificando o Tamanho da Base de Dados\n",
    "linhas , colunas =  df.shape\n",
    "print(\"Número de Linhas : {} \\nNúmero de Colunas : {}\".format(linhas , colunas))"
   ]
  },
  {
   "cell_type": "markdown",
   "metadata": {},
   "source": [
    "> <span style='font-size:15px; font-family:Verdana;color: #254E58; border-bottom: solid 3px'><b>3.2.3 | Informações Básicas</b></span>"
   ]
  },
  {
   "cell_type": "code",
   "execution_count": null,
   "metadata": {
    "execution": {
     "iopub.execute_input": "2023-08-27T17:36:50.23831Z",
     "iopub.status.busy": "2023-08-27T17:36:50.237851Z",
     "iopub.status.idle": "2023-08-27T17:36:50.267503Z",
     "shell.execute_reply": "2023-08-27T17:36:50.266105Z",
     "shell.execute_reply.started": "2023-08-27T17:36:50.238269Z"
    }
   },
   "outputs": [],
   "source": [
    "df.info()"
   ]
  },
  {
   "cell_type": "code",
   "execution_count": null,
   "metadata": {},
   "outputs": [],
   "source": [
    "df.dtypes"
   ]
  },
  {
   "cell_type": "markdown",
   "metadata": {},
   "source": [
    "> <span style='font-size:15px; font-family:Verdana;color: #254E58; border-bottom: solid 3px'><b>3.2.4 | Verificando Valores Ausentes/Nulos</b></span>"
   ]
  },
  {
   "cell_type": "code",
   "execution_count": null,
   "metadata": {
    "execution": {
     "iopub.execute_input": "2023-08-27T17:36:50.270081Z",
     "iopub.status.busy": "2023-08-27T17:36:50.269575Z",
     "iopub.status.idle": "2023-08-27T17:36:50.285443Z",
     "shell.execute_reply": "2023-08-27T17:36:50.284159Z",
     "shell.execute_reply.started": "2023-08-27T17:36:50.270038Z"
    },
    "scrolled": true
   },
   "outputs": [],
   "source": [
    "df.isnull().sum()"
   ]
  },
  {
   "cell_type": "markdown",
   "metadata": {},
   "source": [
    "<div style=\"background-color:white;font-size:20px;font-family:Georgia;border-style: solid;border-color: #254E58;border-width:3px;padding:10px;margin: 1px;color:#254E58;overflow:hidden\"><i>Sem valores ausentes/Nulos</i></div>"
   ]
  },
  {
   "cell_type": "markdown",
   "metadata": {},
   "source": [
    "> <span style='font-size:15px; font-family:Verdana;color: #254E58; border-bottom: solid 3px'><b>3.2.5 | Verificando Valores Duplicados</b></span>"
   ]
  },
  {
   "cell_type": "code",
   "execution_count": null,
   "metadata": {},
   "outputs": [],
   "source": [
    "df.duplicated().sum()"
   ]
  },
  {
   "cell_type": "markdown",
   "metadata": {},
   "source": [
    "<a id=\"3.3\"></a>\n",
    "<h4 style=\"font-family: Verdana; font-size: 25px; font-style: normal; font-weight: normal; text-decoration: none; text-transform: none; letter-spacing: 2px; color: #254E58; background-color: #ffffff;\"><b>3.3 | Estatística Descritiva </b> → Análise Matemática "
   ]
  },
  {
   "cell_type": "code",
   "execution_count": null,
   "metadata": {
    "execution": {
     "iopub.execute_input": "2023-08-27T17:36:50.288091Z",
     "iopub.status.busy": "2023-08-27T17:36:50.287692Z",
     "iopub.status.idle": "2023-08-27T17:36:50.338141Z",
     "shell.execute_reply": "2023-08-27T17:36:50.336825Z",
     "shell.execute_reply.started": "2023-08-27T17:36:50.288059Z"
    }
   },
   "outputs": [],
   "source": [
    "styled_df = df.describe().style \\\n",
    "    .set_table_styles([\n",
    "        {'selector': 'th', 'props': [('background-color', '#254E58'), ('color', 'white'), ('font-weight', 'bold'), ('text-align', 'left'), ('padding', '8px')]},\n",
    "        {'selector': 'td', 'props': [('padding', '8px')]}\n",
    "    ]) \\\n",
    "    .set_properties(**{'font-size': '14px', 'background-color': '#F5F5F5', 'border-collapse': 'collapse', 'margin': '10px'})\n",
    "\n",
    "# Display the styled DataFrame\n",
    "styled_df"
   ]
  },
  {
   "cell_type": "markdown",
   "metadata": {},
   "source": [
    "<a id=\"3.4\"></a>\n",
    "<h4 style=\"font-family: Verdana; font-size: 25px; font-style: normal; font-weight: normal; text-decoration: none; text-transform: none; letter-spacing: 2px; color: #254E58; background-color: #ffffff;\"><b>3.4 | Visualização </b>de Dados"
   ]
  },
  {
   "cell_type": "markdown",
   "metadata": {},
   "source": [
    "> <span style='font-size:15px; font-family:Verdana;color: #254E58;'><b>3.4.1 |Distribuições dos Atributos</b></span>"
   ]
  },
  {
   "cell_type": "code",
   "execution_count": null,
   "metadata": {
    "execution": {
     "iopub.execute_input": "2023-08-27T17:36:51.789424Z",
     "iopub.status.busy": "2023-08-27T17:36:51.788974Z",
     "iopub.status.idle": "2023-08-27T17:36:53.717914Z",
     "shell.execute_reply": "2023-08-27T17:36:53.716898Z",
     "shell.execute_reply.started": "2023-08-27T17:36:51.789384Z"
    }
   },
   "outputs": [],
   "source": [
    "df.hist(figsize = (10,10))\n",
    "plt.show();"
   ]
  },
  {
   "cell_type": "markdown",
   "metadata": {},
   "source": [
    "> <span style='font-size:15px; font-family:Verdana;color: #254E58;'><b>3.4.2 | Boxplot</b></span>"
   ]
  },
  {
   "cell_type": "code",
   "execution_count": null,
   "metadata": {
    "execution": {
     "iopub.execute_input": "2023-08-27T17:36:53.724018Z",
     "iopub.status.busy": "2023-08-27T17:36:53.723514Z",
     "iopub.status.idle": "2023-08-27T17:36:55.60991Z",
     "shell.execute_reply": "2023-08-27T17:36:55.608447Z",
     "shell.execute_reply.started": "2023-08-27T17:36:53.723973Z"
    }
   },
   "outputs": [],
   "source": [
    "num_rows, num_cols = 3, 3\n",
    "\n",
    "# Create subplots\n",
    "fig, axes = plt.subplots(num_rows, num_cols, figsize=(15, 10))\n",
    "\n",
    "# Flatten the axes for easier iteration\n",
    "axes = axes.flatten()\n",
    "\n",
    "# Loop through numeric columns and create boxplots\n",
    "for i, column in enumerate(df.columns):\n",
    "    sns.boxplot(data=df, x=column, ax=axes[i])\n",
    "    axes[i].set_title(f'Boxplot for {column}')\n",
    "\n",
    "# Remove any remaining empty subplots\n",
    "for j in range(len(df.columns), len(axes)):\n",
    "    fig.delaxes(axes[j])\n",
    "\n",
    "# Adjust layout\n",
    "plt.tight_layout()\n",
    "plt.show();"
   ]
  },
  {
   "cell_type": "code",
   "execution_count": null,
   "metadata": {},
   "outputs": [],
   "source": [
    "# Configurações iniciais do seaborn\n",
    "sns.set(style=\"whitegrid\")\n",
    "\n",
    "# Lendo os dados do dataset de diabetes\n",
    "diabetes_df = pd.read_csv('diabetes.csv')\n",
    "\n",
    "# Visualização de histogramas para os atributos\n",
    "plt.figure(figsize=(20, 10))\n",
    "features = ['Pregnancies', 'Glucose', 'BloodPressure', 'SkinThickness', 'Insulin', 'BMI', 'DiabetesPedigreeFunction', 'Age']\n",
    "for i, feature in enumerate(features):\n",
    "    plt.subplot(2, 4, i+1)\n",
    "    sns.histplot(diabetes_df[feature], kde=True, bins=30)\n",
    "    plt.title(f'Distribuição de {feature}')\n",
    "    plt.xlabel(feature)\n",
    "    plt.ylabel('Count')\n",
    "plt.tight_layout()\n",
    "plt.show();"
   ]
  },
  {
   "cell_type": "markdown",
   "metadata": {},
   "source": [
    "> <span style='font-size:15px; font-family:Verdana;color: #254E58;'><b>3.3.3 | Pairplot of attributes</b></span>"
   ]
  },
  {
   "cell_type": "code",
   "execution_count": null,
   "metadata": {
    "execution": {
     "iopub.execute_input": "2023-08-27T17:36:55.611911Z",
     "iopub.status.busy": "2023-08-27T17:36:55.611434Z",
     "iopub.status.idle": "2023-08-27T17:37:25.685808Z",
     "shell.execute_reply": "2023-08-27T17:37:25.681025Z",
     "shell.execute_reply.started": "2023-08-27T17:36:55.611849Z"
    }
   },
   "outputs": [],
   "source": [
    "sns.pairplot(data = df, hue = 'Outcome' )\n",
    "plt.show();"
   ]
  },
  {
   "cell_type": "markdown",
   "metadata": {},
   "source": [
    "<a id=\"3.5\"></a>\n",
    "<h4 style=\"font-family: Verdana; font-size: 25px; font-style: normal; font-weight: normal; text-decoration: none; text-transform: none; letter-spacing: 2px; color: #254E58; background-color: #ffffff;\"><b>3.5 | Associação </b>de Variáveis"
   ]
  },
  {
   "cell_type": "code",
   "execution_count": null,
   "metadata": {},
   "outputs": [],
   "source": [
    "# Scatter plot de Glicose vs. BMI com cores por resultado\n",
    "plt.figure(figsize=(8, 6))\n",
    "sns.scatterplot(x='Glucose', y='BMI', hue='Outcome', data=diabetes_df)\n",
    "plt.title('Glucose vs. BMI Colored by Outcome')\n",
    "plt.show();"
   ]
  },
  {
   "cell_type": "markdown",
   "metadata": {},
   "source": [
    "$Conclusão$: Percebe-se que um índice de massa corporal $(IMC)$ mais elevado e níveis elevados de glicose são fatores de risco significativos para diabetes, especialmente em mulheres."
   ]
  },
  {
   "cell_type": "markdown",
   "metadata": {},
   "source": [
    "> <span style='font-size:15px; font-family:Verdana;color: #254E58;'><b>3.5.1 | Idade e o Target</b></span>"
   ]
  },
  {
   "cell_type": "code",
   "execution_count": null,
   "metadata": {
    "execution": {
     "iopub.execute_input": "2023-08-27T17:37:25.688507Z",
     "iopub.status.busy": "2023-08-27T17:37:25.687781Z",
     "iopub.status.idle": "2023-08-27T17:37:26.081656Z",
     "shell.execute_reply": "2023-08-27T17:37:26.080471Z",
     "shell.execute_reply.started": "2023-08-27T17:37:25.688466Z"
    }
   },
   "outputs": [],
   "source": [
    "sns.set(rc={\"axes.facecolor\":\"#EAE7F9\",\"figure.facecolor\":\"#EAE7F9\"})\n",
    "p=sns.catplot(x=\"Outcome\",y=\"Age\", data=df, kind='box')\n",
    "plt.title(\"Idade x Target\", size=20, y=1.0);"
   ]
  },
  {
   "cell_type": "markdown",
   "metadata": {},
   "source": [
    "> <span style='font-size:15px; font-family:Verdana;color: #254E58;'><b>3.5.2 | Glucose e o Target</b></span>"
   ]
  },
  {
   "cell_type": "code",
   "execution_count": null,
   "metadata": {
    "execution": {
     "iopub.execute_input": "2023-08-27T17:37:26.083945Z",
     "iopub.status.busy": "2023-08-27T17:37:26.083472Z",
     "iopub.status.idle": "2023-08-27T17:37:26.464064Z",
     "shell.execute_reply": "2023-08-27T17:37:26.462569Z",
     "shell.execute_reply.started": "2023-08-27T17:37:26.083902Z"
    }
   },
   "outputs": [],
   "source": [
    "sns.set(rc={\"axes.facecolor\":\"#EAE7F9\",\"figure.facecolor\":\"#EAE7F9\"})\n",
    "p=sns.catplot(x=\"Outcome\",y=\"Glucose\", data=df, kind='box')\n",
    "plt.title(\"Glucose x Target\", size=20, y=1.0);"
   ]
  },
  {
   "cell_type": "code",
   "execution_count": null,
   "metadata": {},
   "outputs": [],
   "source": [
    "# Criação de box plots para os atributos por resultado\n",
    "plt.figure(figsize=(20, 10))\n",
    "feature_columns = [col for col in diabetes_df.columns if col != 'Outcome']\n",
    "n_cols = 3\n",
    "n_rows = (len(feature_columns) + n_cols - 1) // n_cols\n",
    "for i, feature in enumerate(feature_columns):\n",
    "    plt.subplot(n_rows, n_cols, i+1)\n",
    "    sns.boxplot(x='Outcome', y=feature, data=diabetes_df)\n",
    "    plt.title(f'{feature} by Outcome')\n",
    "plt.tight_layout()\n",
    "plt.show();"
   ]
  },
  {
   "cell_type": "code",
   "execution_count": null,
   "metadata": {},
   "outputs": [],
   "source": [
    "# Criação do gráfico de barras para a distribuição de 'Outcome'\n",
    "ax = sns.countplot(data=diabetes_df, x='Outcome')\n",
    "# Anota cada barra com a contagem\n",
    "for p in ax.patches:\n",
    "    ax.annotate(str(p.get_height()), (p.get_x() + 0.4, p.get_height() + 5))\n",
    "plt.title('Distribuição do rótulo da classe em Dados de Diabetes')\n",
    "plt.show();"
   ]
  },
  {
   "cell_type": "markdown",
   "metadata": {},
   "source": [
    "> <span style='font-size:15px; font-family:Verdana;color: #254E58;'><b>3.5.3 | Correlação</b></span>"
   ]
  },
  {
   "cell_type": "code",
   "execution_count": null,
   "metadata": {
    "execution": {
     "iopub.execute_input": "2023-08-27T17:37:26.466676Z",
     "iopub.status.busy": "2023-08-27T17:37:26.466246Z",
     "iopub.status.idle": "2023-08-27T17:37:27.422965Z",
     "shell.execute_reply": "2023-08-27T17:37:27.421623Z",
     "shell.execute_reply.started": "2023-08-27T17:37:26.466635Z"
    }
   },
   "outputs": [],
   "source": [
    "plt.figure(figsize=(20, 17))\n",
    "matrix = np.triu(df.corr())\n",
    "sns.heatmap(df.corr(), annot=True, linewidth=.8, mask=matrix, cmap=\"rocket\");"
   ]
  },
  {
   "cell_type": "code",
   "execution_count": null,
   "metadata": {
    "execution": {
     "iopub.execute_input": "2023-08-27T17:37:27.424818Z",
     "iopub.status.busy": "2023-08-27T17:37:27.42439Z",
     "iopub.status.idle": "2023-08-27T17:37:28.643804Z",
     "shell.execute_reply": "2023-08-27T17:37:28.642647Z",
     "shell.execute_reply.started": "2023-08-27T17:37:27.424776Z"
    }
   },
   "outputs": [],
   "source": [
    "plt.figure(figsize=(16,9))\n",
    "sns.heatmap(df.corr(), annot=True);"
   ]
  },
  {
   "cell_type": "code",
   "execution_count": null,
   "metadata": {
    "execution": {
     "iopub.execute_input": "2023-08-27T17:37:28.645657Z",
     "iopub.status.busy": "2023-08-27T17:37:28.645314Z",
     "iopub.status.idle": "2023-08-27T17:37:28.656412Z",
     "shell.execute_reply": "2023-08-27T17:37:28.65508Z",
     "shell.execute_reply.started": "2023-08-27T17:37:28.645618Z"
    },
    "scrolled": true
   },
   "outputs": [],
   "source": [
    "hig_corr = df.corr()\n",
    "hig_corr_features = hig_corr.index[abs(hig_corr[\"Outcome\"]) >= 0.2]\n",
    "hig_corr_features"
   ]
  },
  {
   "cell_type": "markdown",
   "metadata": {},
   "source": [
    "> <span style='font-size:15px; font-family:Verdana;color: #254E58;'><b>3.5.4 | Desvio Padrão</b></span>"
   ]
  },
  {
   "cell_type": "code",
   "execution_count": null,
   "metadata": {
    "execution": {
     "iopub.execute_input": "2023-08-27T17:37:28.659141Z",
     "iopub.status.busy": "2023-08-27T17:37:28.658673Z",
     "iopub.status.idle": "2023-08-27T17:37:28.670794Z",
     "shell.execute_reply": "2023-08-27T17:37:28.669594Z",
     "shell.execute_reply.started": "2023-08-27T17:37:28.6591Z"
    }
   },
   "outputs": [],
   "source": [
    "# Desvio Padrão\n",
    "df.var()"
   ]
  },
  {
   "cell_type": "markdown",
   "metadata": {},
   "source": [
    "<a id=\"4\"></a>\n",
    "# <div style=\"padding:20px;color:white;margin:0;font-size:30px;font-family:Georgia;text-align:left;display:fill;border-radius:5px;background-color:#254E58;overflow:hidden\">4 | Pré-Processamnteo de Dados</div>"
   ]
  },
  {
   "cell_type": "markdown",
   "metadata": {},
   "source": [
    "> <span style='font-size:15px; font-family:Verdana;color: #254E58;'><b>Tratamento de valores discrepantes ou Outliers</b></span>"
   ]
  },
  {
   "cell_type": "code",
   "execution_count": null,
   "metadata": {
    "execution": {
     "iopub.execute_input": "2023-08-27T17:37:28.673442Z",
     "iopub.status.busy": "2023-08-27T17:37:28.672517Z",
     "iopub.status.idle": "2023-08-27T17:37:28.688619Z",
     "shell.execute_reply": "2023-08-27T17:37:28.687221Z",
     "shell.execute_reply.started": "2023-08-27T17:37:28.673397Z"
    }
   },
   "outputs": [],
   "source": [
    "numeric_columns = ['Insulin', 'DiabetesPedigreeFunction',]\n",
    "\n",
    "for column_name in numeric_columns:\n",
    "    Q1 = np.percentile(df[column_name], 25, interpolation='midpoint')\n",
    "    Q3 = np.percentile(df[column_name], 75, interpolation='midpoint')\n",
    "\n",
    "    IQR = Q3 - Q1\n",
    "    low_lim = Q1 - 1.5 * IQR # Calculando o limite Inferior\n",
    "    up_lim = Q3 + 1.5 * IQR  # Calculando o limite Superior\n",
    "\n",
    "    # Encontre valores discrepantes na coluna especificada\n",
    "    outliers = df[(df[column_name] < low_lim) | (df[column_name] > up_lim)][column_name]\n",
    "\n",
    "    # Substituindo os valores discrepantes pelo respectivo limite inferior ou superior\n",
    "    df[column_name] = np.where(df[column_name] < low_lim, low_lim, df[column_name])\n",
    "    df[column_name] = np.where(df[column_name] > up_lim, up_lim, df[column_name])"
   ]
  },
  {
   "cell_type": "markdown",
   "metadata": {},
   "source": [
    "> <span style='font-size:15px; font-family:Verdana;color: #254E58;'><b>Separando os Dados em $X$ e $y$</b></span>"
   ]
  },
  {
   "cell_type": "code",
   "execution_count": null,
   "metadata": {
    "execution": {
     "iopub.execute_input": "2023-08-27T17:37:28.690703Z",
     "iopub.status.busy": "2023-08-27T17:37:28.690301Z",
     "iopub.status.idle": "2023-08-27T17:37:28.699514Z",
     "shell.execute_reply": "2023-08-27T17:37:28.69813Z",
     "shell.execute_reply.started": "2023-08-27T17:37:28.690672Z"
    }
   },
   "outputs": [],
   "source": [
    "X = df.drop('Outcome', axis = 1)\n",
    "y = df['Outcome']"
   ]
  },
  {
   "cell_type": "markdown",
   "metadata": {},
   "source": [
    "> <span style='font-size:15px; font-family:Verdana;color: #254E58;'><b>Separando os dados em $Treino$ e $Teste$</b></span>"
   ]
  },
  {
   "cell_type": "code",
   "execution_count": null,
   "metadata": {
    "execution": {
     "iopub.execute_input": "2023-08-27T17:37:28.701599Z",
     "iopub.status.busy": "2023-08-27T17:37:28.7012Z",
     "iopub.status.idle": "2023-08-27T17:37:28.717421Z",
     "shell.execute_reply": "2023-08-27T17:37:28.71609Z",
     "shell.execute_reply.started": "2023-08-27T17:37:28.70156Z"
    },
    "scrolled": true
   },
   "outputs": [],
   "source": [
    "from sklearn.model_selection import train_test_split\n",
    "\n",
    "X_train, X_test, y_train, y_test = train_test_split(X,y, test_size = 0.20)"
   ]
  },
  {
   "cell_type": "markdown",
   "metadata": {},
   "source": [
    "<a id=\"5\"></a>\n",
    "# <div style=\"padding:20px;color:white;margin:0;font-size:30px;font-family:Georgia;text-align:left;display:fill;border-radius:5px;background-color:#254E58;overflow:hidden\">5 | Machine Learning models</div>"
   ]
  },
  {
   "cell_type": "markdown",
   "metadata": {},
   "source": [
    "<a id=\"5.1\"></a>\n",
    "<h2 style=\"font-family: Verdana; font-size: 25px; font-style: normal; font-weight: normal; text-decoration: none; text-transform: none; letter-spacing: 2px; color: #254E58; background-color: #ffffff;\"><b>5.1 | Logistic</b> Regression"
   ]
  },
  {
   "cell_type": "code",
   "execution_count": null,
   "metadata": {
    "execution": {
     "iopub.execute_input": "2023-08-27T17:37:28.719436Z",
     "iopub.status.busy": "2023-08-27T17:37:28.718916Z",
     "iopub.status.idle": "2023-08-27T17:37:28.749328Z",
     "shell.execute_reply": "2023-08-27T17:37:28.748137Z",
     "shell.execute_reply.started": "2023-08-27T17:37:28.719401Z"
    }
   },
   "outputs": [],
   "source": [
    "from sklearn.linear_model import LogisticRegression\n",
    "log_reg = LogisticRegression(C=1, penalty='l2', solver='liblinear', max_iter=200)\n",
    "log_reg.fit(X_train, y_train)"
   ]
  },
  {
   "cell_type": "code",
   "execution_count": null,
   "metadata": {
    "execution": {
     "iopub.execute_input": "2023-08-27T17:37:28.751816Z",
     "iopub.status.busy": "2023-08-27T17:37:28.751071Z",
     "iopub.status.idle": "2023-08-27T17:37:29.612899Z",
     "shell.execute_reply": "2023-08-27T17:37:29.611583Z",
     "shell.execute_reply.started": "2023-08-27T17:37:28.751773Z"
    }
   },
   "outputs": [],
   "source": [
    "from sklearn.metrics import confusion_matrix, accuracy_score\n",
    "import matplotlib.pyplot as plt\n",
    "import seaborn as sns\n",
    "\n",
    "def predict_and_plot(model, inputs, targets, name=''):\n",
    "    preds = model.predict(inputs)\n",
    "    accuracy = accuracy_score(targets, preds)\n",
    "    print(\"Accuracy: {:.2f}%\".format(accuracy * 100))\n",
    "    \n",
    "    cf = confusion_matrix(targets, preds, normalize='true')\n",
    "    plt.figure()\n",
    "    sns.heatmap(cf, annot=True)\n",
    "    plt.xlabel('Prediction')\n",
    "    plt.ylabel('Target')\n",
    "    plt.title('{} Confusion Matrix'.format(name))\n",
    "    \n",
    "    return preds\n",
    "\n",
    "# Prever e plotar nos dados de treinamento\n",
    "train_preds = predict_and_plot(log_reg, X_train, y_train, 'Train')\n",
    "\n",
    "# Prever e plotar nos dados de Validação ou Teste\n",
    "val_preds = predict_and_plot(log_reg, X_test, y_test, 'Validation')"
   ]
  },
  {
   "cell_type": "markdown",
   "metadata": {},
   "source": [
    "<div style=\"background-color:white;font-size:15px;font-family:Georgia;border-style: solid;border-color: #254E58;border-width:3px;padding:10px;margin: 1px;color:#254E58;overflow:hidden\"> <b>Modelo de Regressão Logistica</b><br>\n",
    "Acurácia de Treino $→  77.69$% <br>\n",
    "Acurácia de Teste $→ 74.68$%</div>"
   ]
  },
  {
   "cell_type": "markdown",
   "metadata": {},
   "source": [
    "<a id=\"5.2\"></a>\n",
    "<h2 style=\"font-family: Verdana; font-size: 25px; font-style: normal; font-weight: normal; text-decoration: none; text-transform: none; letter-spacing: 2px; color: #254E58; background-color: #ffffff;\"><b>5.2 | Random</b> Forest"
   ]
  },
  {
   "cell_type": "code",
   "execution_count": null,
   "metadata": {
    "execution": {
     "iopub.execute_input": "2023-08-27T17:37:29.615714Z",
     "iopub.status.busy": "2023-08-27T17:37:29.615239Z",
     "iopub.status.idle": "2023-08-27T17:37:29.980946Z",
     "shell.execute_reply": "2023-08-27T17:37:29.979958Z",
     "shell.execute_reply.started": "2023-08-27T17:37:29.615669Z"
    }
   },
   "outputs": [],
   "source": [
    "from sklearn.ensemble import RandomForestClassifier\n",
    "model_2 = RandomForestClassifier(n_jobs =-1, random_state = 42)\n",
    "model_2.fit(X_train,y_train)"
   ]
  },
  {
   "cell_type": "code",
   "execution_count": null,
   "metadata": {
    "execution": {
     "iopub.execute_input": "2023-08-27T17:37:29.982726Z",
     "iopub.status.busy": "2023-08-27T17:37:29.982385Z",
     "iopub.status.idle": "2023-08-27T17:37:30.034508Z",
     "shell.execute_reply": "2023-08-27T17:37:30.033235Z",
     "shell.execute_reply.started": "2023-08-27T17:37:29.982697Z"
    }
   },
   "outputs": [],
   "source": [
    "model_2.score(X_train,y_train)"
   ]
  },
  {
   "cell_type": "code",
   "execution_count": null,
   "metadata": {
    "execution": {
     "iopub.execute_input": "2023-08-27T17:37:30.036643Z",
     "iopub.status.busy": "2023-08-27T17:37:30.036211Z",
     "iopub.status.idle": "2023-08-27T17:37:30.932235Z",
     "shell.execute_reply": "2023-08-27T17:37:30.931004Z",
     "shell.execute_reply.started": "2023-08-27T17:37:30.036603Z"
    }
   },
   "outputs": [],
   "source": [
    "def predict_and_plot(model, inputs,targets, name = ''):\n",
    "    preds = model.predict(inputs)\n",
    "    accuracy = accuracy_score(targets, preds)\n",
    "    print(\"Accuracy: {:.2f}%\".format(accuracy*100))\n",
    "    \n",
    "    cf = confusion_matrix(targets, preds, normalize = 'true')\n",
    "    plt.figure()\n",
    "    sns.heatmap(cf, annot = True)\n",
    "    plt.xlabel('Prediction')\n",
    "    plt.ylabel('Target')\n",
    "    plt.title('{} Confusion Matrix'. format(name))\n",
    "    \n",
    "    return preds\n",
    "\n",
    "# Predict and plot on the training data\n",
    "train_preds = predict_and_plot(model_2, X_train, y_train, 'Train')\n",
    "\n",
    "# Predict and plot on the validation data\n",
    "val_preds = predict_and_plot(model_2, X_test, y_test, 'Validation')"
   ]
  },
  {
   "cell_type": "markdown",
   "metadata": {},
   "source": [
    "<div style=\"background-color:white;font-size:15px;font-family:Georgia;border-style: solid;border-color: #254E58;border-width:3px;padding:10px;margin: 1px;color:#254E58;overflow:hidden\"> <b>Modelo de Random Forest Model</b><br>\n",
    "Acurácia de Treino $→ 100$% <br>\n",
    "Acurácia de Teste$→ 73.38$%<br>\n",
    "<b>Este modelo parece estar sobreajustado, pois a precisão do treinamento é muito alta e a precisão da validação não é tão.</b></div>"
   ]
  },
  {
   "cell_type": "markdown",
   "metadata": {},
   "source": [
    "<a id=\"5.3\"></a>\n",
    "> <span style='font-size:15px; font-family:Verdana;color: #254E58;'><b>Ajustando os Hyperparameter do Random Forest </b></span>"
   ]
  },
  {
   "cell_type": "code",
   "execution_count": null,
   "metadata": {
    "execution": {
     "iopub.execute_input": "2023-08-27T17:37:30.934231Z",
     "iopub.status.busy": "2023-08-27T17:37:30.933758Z",
     "iopub.status.idle": "2023-08-27T17:38:05.227248Z",
     "shell.execute_reply": "2023-08-27T17:38:05.225887Z",
     "shell.execute_reply.started": "2023-08-27T17:37:30.934199Z"
    }
   },
   "outputs": [],
   "source": [
    "from sklearn.ensemble import RandomForestClassifier\n",
    "from sklearn.model_selection import GridSearchCV\n",
    "from sklearn.ensemble import RandomForestClassifier\n",
    "from sklearn.metrics import accuracy_score\n",
    "\n",
    "param_grid = {\n",
    "    'n_estimators': [10, 20, 30],  # Adjust the number of trees in the forest\n",
    "    'max_depth': [10, 20, 30],  # Adjust the maximum depth of each tree\n",
    "    'min_samples_split': [2, 5, 10, 15, 20],  # Adjust the minimum samples required to split a node\n",
    "    'min_samples_leaf': [1, 2, 4, 6, 8]  # Adjust the minimum samples required in a leaf node\n",
    "}\n",
    "\n",
    "model = RandomForestClassifier(random_state=42, n_jobs=-1)\n",
    "grid_search = GridSearchCV(model, param_grid, cv=5, n_jobs=-1, scoring='accuracy')\n",
    "grid_search.fit(X_train, y_train)\n",
    "best_model = grid_search.best_estimator_\n",
    "\n",
    "best_model.fit(X_train, y_train)\n",
    "\n",
    "# Evaluate the model on the training and validation data\n",
    "train_accuracy = best_model.score(X_train, y_train)\n",
    "val_accuracy = best_model.score(X_test, y_test)\n",
    "\n",
    "# Print the results\n",
    "print(\"Acurácia de Treino:\", train_accuracy)\n",
    "print(\"Acurácia de Teste:\", val_accuracy)"
   ]
  },
  {
   "cell_type": "markdown",
   "metadata": {},
   "source": [
    "<div style=\"background-color:white;font-size:15px;font-family:Georgia;border-style: solid;border-color: #254E58;border-width:3px;padding:10px;margin: 1px;color:#254E58;overflow:hidden\"> <b>Evolução do Modelo de Random Forest</b><br>\n",
    "Acurácia de Treino $→ 90.8$% <br>\n",
    "Acurácia de Teste $→  75.3$%<br>\n",
    "<b>Reduziu o overfitting em comparação com o modelo inicial. E melhorou a precisão</b></div>"
   ]
  },
  {
   "cell_type": "markdown",
   "metadata": {},
   "source": [
    "<a id=\"5.4\"></a>\n",
    "<h2 style=\"font-family: Verdana; font-size: 25px; font-style: normal; font-weight: normal; text-decoration: none; text-transform: none; letter-spacing: 2px; color: #254E58; background-color: #ffffff;\"><b>5.3 |Decision</b> Tree"
   ]
  },
  {
   "cell_type": "code",
   "execution_count": null,
   "metadata": {
    "execution": {
     "iopub.execute_input": "2023-08-27T17:38:05.230547Z",
     "iopub.status.busy": "2023-08-27T17:38:05.229647Z",
     "iopub.status.idle": "2023-08-27T17:38:05.254746Z",
     "shell.execute_reply": "2023-08-27T17:38:05.249982Z",
     "shell.execute_reply.started": "2023-08-27T17:38:05.230497Z"
    }
   },
   "outputs": [],
   "source": [
    "from sklearn.tree import DecisionTreeClassifier\n",
    "from sklearn.metrics import accuracy_score\n",
    "\n",
    "# Create the Decision Tree model\n",
    "decision_tree_model = DecisionTreeClassifier(random_state=42)\n",
    "\n",
    "# Fit the model to the training data\n",
    "decision_tree_model.fit(X_train, y_train)\n",
    "\n",
    "# Evaluate the model on the training and validation data\n",
    "train_accuracy = decision_tree_model.score(X_train, y_train)\n",
    "val_accuracy = decision_tree_model.score(X_test, y_test)\n",
    "\n",
    "# Print the results\n",
    "print(\"Acurácia de Treino: \", train_accuracy)\n",
    "print(\"Acurácia de Teste: \", val_accuracy)"
   ]
  },
  {
   "cell_type": "markdown",
   "metadata": {},
   "source": [
    "<div style=\"background-color:white;font-size:15px;font-family:Georgia;border-style: solid;border-color: #254E58;border-width:3px;padding:10px;margin: 1px;color:#254E58;overflow:hidden\"> <b>Modelo: Decision Tree </b><br>\n",
    "Acurácia de Treino $→ 100$% <br>\n",
    "Acurácia de Teste $→ 65.5$%<br>\n",
    "<b>O modelo de árvore está com overfitting nos dados de treinamento, pois alcança precisão perfeita nos dados de treinamento, mas menor precisão nos dados de teste</b></div>"
   ]
  },
  {
   "cell_type": "markdown",
   "metadata": {},
   "source": [
    "<a id=\"5.5\"></a>\n",
    "> <span style='font-size:15px; font-family:Verdana;color: #254E58;'><b> Ajustando os Hyperparameter do Decision Tree </b></span>"
   ]
  },
  {
   "cell_type": "code",
   "execution_count": null,
   "metadata": {
    "execution": {
     "iopub.execute_input": "2023-08-27T17:38:05.262621Z",
     "iopub.status.busy": "2023-08-27T17:38:05.261499Z",
     "iopub.status.idle": "2023-08-27T17:38:08.830029Z",
     "shell.execute_reply": "2023-08-27T17:38:08.829178Z",
     "shell.execute_reply.started": "2023-08-27T17:38:05.262582Z"
    }
   },
   "outputs": [],
   "source": [
    "from sklearn.tree import DecisionTreeClassifier\n",
    "from sklearn.model_selection import GridSearchCV\n",
    "\n",
    "param_grid = {\n",
    "    'max_depth': [None, 5, 10, 15, 20],\n",
    "    'min_samples_split': [2, 5, 10, 15, 20, 25],\n",
    "    'min_samples_leaf': [1, 3, 5, 7],\n",
    "    'criterion': ['gini', 'entropy']  # Add criterion hyperparameter\n",
    "}\n",
    "\n",
    "\n",
    "# Create the Decision Tree model\n",
    "decision_tree_model = DecisionTreeClassifier(random_state=42)\n",
    "\n",
    "# Perform GridSearchCV for hyperparameter tuning\n",
    "grid_search = GridSearchCV(decision_tree_model, param_grid, cv=5, n_jobs=-1, scoring='accuracy')\n",
    "grid_search.fit(X_train, y_train)\n",
    "\n",
    "# Get the best estimator with tuned hyperparameters\n",
    "best_model = grid_search.best_estimator_\n",
    "\n",
    "# Fit the final model to the training data\n",
    "best_model.fit(X_train, y_train)\n",
    "\n",
    "# Evaluate the final model on the training and validation data\n",
    "train_accuracy = best_model.score(X_train, y_train)\n",
    "val_accuracy = best_model.score(X_test, y_test)\n",
    "\n",
    "# Print the results\n",
    "print(\"Acurácia de Treino: \", train_accuracy)\n",
    "print(\"Acurácia de Teste: \", val_accuracy)"
   ]
  },
  {
   "cell_type": "markdown",
   "metadata": {},
   "source": [
    "<div style=\"background-color:white;font-size:15px;font-family:Georgia;border-style: solid;border-color: #254E58;border-width:3px;padding:10px;margin: 1px;color:#254E58;overflow:hidden\"> <b>Evolução do Modelo Decision Tree </b><br>\n",
    "Acurácia de Treino $→ 82.2$% <br>\n",
    "Acurácia de Teste $→ 72.7$%<br>\n",
    "<b>Reduziu o overfitting em comparação com o modelo inicial e melhorou o resultado</b></div>"
   ]
  },
  {
   "cell_type": "markdown",
   "metadata": {},
   "source": [
    "<a id=\"5.6\"></a>\n",
    "<h2 style=\"font-family: Verdana; font-size: 25px; font-style: normal; font-weight: normal; text-decoration: none; text-transform: none; letter-spacing: 2px; color: #254E58; background-color: #ffffff;\"><b>5.4 |KNeighborsClassifier</b> Model"
   ]
  },
  {
   "cell_type": "code",
   "execution_count": null,
   "metadata": {
    "execution": {
     "iopub.execute_input": "2023-08-27T17:38:08.831948Z",
     "iopub.status.busy": "2023-08-27T17:38:08.831402Z",
     "iopub.status.idle": "2023-08-27T17:38:09.121781Z",
     "shell.execute_reply": "2023-08-27T17:38:09.120505Z",
     "shell.execute_reply.started": "2023-08-27T17:38:08.831917Z"
    }
   },
   "outputs": [],
   "source": [
    "from sklearn.neighbors import KNeighborsClassifier\n",
    "from sklearn.model_selection import train_test_split\n",
    "from sklearn.metrics import accuracy_score, confusion_matrix\n",
    "\n",
    "# Split the data into training and validation sets\n",
    "X_train, X_val, y_train, y_val = train_test_split(X, y, test_size=0.2, random_state=42)\n",
    "\n",
    "# Create a KNN classifier (you can adjust the number of neighbors 'n_neighbors')\n",
    "knn_model = KNeighborsClassifier(n_neighbors=5)\n",
    "\n",
    "# Fit the KNN model to the training data\n",
    "knn_model.fit(X_train, y_train)\n",
    "\n",
    "# Make predictions on the training data\n",
    "y_train_pred = knn_model.predict(X_train)\n",
    "\n",
    "# Make predictions on the validation data\n",
    "y_val_pred = knn_model.predict(X_val)\n",
    "\n",
    "# Calculate the training and validation accuracies\n",
    "train_accuracy = accuracy_score(y_train, y_train_pred)\n",
    "val_accuracy = accuracy_score(y_val, y_val_pred)\n",
    "\n",
    "print(\"Acurácia de Treino:\", train_accuracy)\n",
    "print(\"Acurácia de Teste:\", val_accuracy)\n",
    "\n",
    "# Create a confusion matrix for validation data\n",
    "confusion = confusion_matrix(y_val, y_val_pred)\n",
    "\n",
    "# Plot the confusion matrix\n",
    "plt.figure(figsize=(6, 4))\n",
    "sns.heatmap(confusion, annot=True, fmt='d', cmap='Blues', cbar=False)\n",
    "plt.xlabel('Predicted')\n",
    "plt.ylabel('Actual')\n",
    "plt.title('Confusion Matrix (Validation)')\n",
    "plt.show();"
   ]
  },
  {
   "cell_type": "markdown",
   "metadata": {},
   "source": [
    "<div style=\"background-color:white;font-size:15px;font-family:Georgia;border-style: solid;border-color: #254E58;border-width:3px;padding:10px;margin: 1px;color:#254E58;overflow:hidden\"> <b>Modelo: KNeighborsClassifier</b><br>\n",
    "Acurácia de Treino $→ 80.45$% <br>\n",
    "Acurácia de Treino $→ 66.88$%</div>"
   ]
  },
  {
   "cell_type": "markdown",
   "metadata": {},
   "source": [
    "<a id=\"5.7\"></a>\n",
    "> <span style='font-size:15px; font-family:Verdana;color: #254E58;'><b> Ajustando os Hyperparameter do KNN </b></span>"
   ]
  },
  {
   "cell_type": "code",
   "execution_count": null,
   "metadata": {
    "execution": {
     "iopub.execute_input": "2023-08-27T17:38:09.123378Z",
     "iopub.status.busy": "2023-08-27T17:38:09.123043Z",
     "iopub.status.idle": "2023-08-27T17:38:09.470435Z",
     "shell.execute_reply": "2023-08-27T17:38:09.469071Z",
     "shell.execute_reply.started": "2023-08-27T17:38:09.123349Z"
    },
    "scrolled": true
   },
   "outputs": [],
   "source": [
    "from sklearn.neighbors import KNeighborsClassifier\n",
    "from sklearn.model_selection import GridSearchCV\n",
    "from sklearn.metrics import accuracy_score\n",
    "\n",
    "# Define the hyperparameter grid to search\n",
    "param_grid = {\n",
    "    'n_neighbors': [1, 3, 5, 7, 9]  # Adjust the number of neighbors to explore\n",
    "}\n",
    "\n",
    "# Create the KNN classifier\n",
    "knn_model = KNeighborsClassifier()\n",
    "\n",
    "# Perform GridSearchCV for hyperparameter tuning\n",
    "grid_search = GridSearchCV(knn_model, param_grid, cv=5, scoring='accuracy')\n",
    "grid_search.fit(X_train, y_train)\n",
    "\n",
    "# Get the best estimator with tuned hyperparameters\n",
    "best_model = grid_search.best_estimator_\n",
    "\n",
    "# Make predictions on the training data using the best model\n",
    "y_train_pred = best_model.predict(X_train)\n",
    "\n",
    "# Make predictions on the validation data using the best model\n",
    "y_val_pred = best_model.predict(X_val)\n",
    "\n",
    "# Calculate the training and validation accuracies\n",
    "train_accuracy = accuracy_score(y_train, y_train_pred)\n",
    "val_accuracy = accuracy_score(y_val, y_val_pred)\n",
    "\n",
    "print(\"Precisão de treinamento com os melhores hiperparâmetros:\", train_accuracy)\n",
    "print(\"Precisão de validação com os melhores hiperparâmetros:\", val_accuracy)"
   ]
  },
  {
   "cell_type": "markdown",
   "metadata": {},
   "source": [
    "<div style=\"background-color:white;font-size:15px;font-family:Georgia;border-style: solid;border-color: #254E58;border-width:3px;padding:10px;margin: 1px;color:#254E58;overflow:hidden\"> <b>Evolução do Modelo KNN</b><br>\n",
    "Acurácia de Treino $→ 79.4$% <br>\n",
    "Acurácia de Teste $→ 72.7$%</div>"
   ]
  },
  {
   "cell_type": "markdown",
   "metadata": {},
   "source": [
    "<a id=\"5.8\"></a>\n",
    "<h2 style=\"font-family: Verdana; font-size: 25px; font-style: normal; font-weight: normal; text-decoration: none; text-transform: none; letter-spacing: 2px; color: #254E58; background-color: #ffffff;\"><b>5.5 |Support Vector </b> Classifier"
   ]
  },
  {
   "cell_type": "code",
   "execution_count": null,
   "metadata": {
    "execution": {
     "iopub.execute_input": "2023-08-27T17:38:09.473007Z",
     "iopub.status.busy": "2023-08-27T17:38:09.472039Z",
     "iopub.status.idle": "2023-08-27T17:38:12.19701Z",
     "shell.execute_reply": "2023-08-27T17:38:12.195747Z",
     "shell.execute_reply.started": "2023-08-27T17:38:09.472973Z"
    }
   },
   "outputs": [],
   "source": [
    "X_train, X_val, y_train, y_val = train_test_split(X, y, test_size=0.2, random_state=42)\n",
    "\n",
    "svm_model = SVC(kernel='linear')\n",
    "\n",
    "# Fit the SVM model to the training data\n",
    "svm_model.fit(X_train, y_train)\n",
    "\n",
    "# Make predictions on the training data\n",
    "y_train_pred = svm_model.predict(X_train)\n",
    "\n",
    "# Make predictions on the validation data\n",
    "y_val_pred = svm_model.predict(X_val)\n",
    "\n",
    "# Calculate the training accuracy\n",
    "train_accuracy = accuracy_score(y_train, y_train_pred)\n",
    "\n",
    "# Calculate the validation accuracy\n",
    "val_accuracy = accuracy_score(y_val, y_val_pred)\n",
    "\n",
    "print(\"Acurácia de Treino:\", train_accuracy)\n",
    "print(\"Acurácia de Teste:\", val_accuracy)\n",
    "\n",
    "# Create confusion matrices\n",
    "train_confusion = confusion_matrix(y_train, y_train_pred)\n",
    "val_confusion = confusion_matrix(y_val, y_val_pred)\n",
    "\n",
    "# Plot the confusion matrices\n",
    "plt.figure(figsize=(12, 5))\n",
    "plt.subplot(1, 2, 1)\n",
    "sns.heatmap(train_confusion, annot=True, fmt='d', cmap='Blues', cbar=False)\n",
    "plt.xlabel('Predicted')\n",
    "plt.ylabel('Actual')\n",
    "plt.title('Confusion Matrix (Training)')\n",
    "\n",
    "plt.subplot(1, 2, 2)\n",
    "sns.heatmap(val_confusion, annot=True, fmt='d', cmap='Blues', cbar=False)\n",
    "plt.xlabel('Predicted')\n",
    "plt.ylabel('Actual')\n",
    "plt.title('Confusion Matrix (Validation)')\n",
    "plt.show();"
   ]
  },
  {
   "cell_type": "markdown",
   "metadata": {},
   "source": [
    "<div style=\"background-color:white;font-size:15px;font-family:Georgia;border-style: solid;border-color: #254E58;border-width:3px;padding:10px;margin: 1px;color:#254E58;overflow:hidden\"> <b>Modelo SVC </b><br>\n",
    "Acurácia de Treino $→ 77.8$% <br>\n",
    "Acurácia de Treino $→ 77.2$%</div>"
   ]
  },
  {
   "cell_type": "markdown",
   "metadata": {},
   "source": [
    "<a id=\"5.9\"></a>\n",
    "<h2 style=\"font-family: Verdana; font-size: 25px; font-style: normal; font-weight: normal; text-decoration: none; text-transform: none; letter-spacing: 2px; color: #254E58; background-color: #ffffff;\"><b>5.6 |AdaBoost</b> Classifier"
   ]
  },
  {
   "cell_type": "code",
   "execution_count": null,
   "metadata": {
    "execution": {
     "iopub.execute_input": "2023-08-27T17:38:12.199984Z",
     "iopub.status.busy": "2023-08-27T17:38:12.199051Z",
     "iopub.status.idle": "2023-08-27T17:38:12.604706Z",
     "shell.execute_reply": "2023-08-27T17:38:12.603449Z",
     "shell.execute_reply.started": "2023-08-27T17:38:12.199941Z"
    }
   },
   "outputs": [],
   "source": [
    "from sklearn.ensemble import AdaBoostClassifier\n",
    "from sklearn.metrics import accuracy_score, confusion_matrix\n",
    "\n",
    "# Create an AdaBoost classifier\n",
    "adaboost_model = AdaBoostClassifier(n_estimators=50, random_state=42)\n",
    "\n",
    "# Fit the AdaBoost model to the training data\n",
    "adaboost_model.fit(X_train, y_train)\n",
    "\n",
    "# Make predictions on the training data\n",
    "y_train_pred_adaboost = adaboost_model.predict(X_train)\n",
    "\n",
    "# Make predictions on the validation data\n",
    "y_val_pred_adaboost = adaboost_model.predict(X_val)\n",
    "\n",
    "# Calculate the training accuracy\n",
    "train_accuracy_adaboost = accuracy_score(y_train, y_train_pred_adaboost)\n",
    "\n",
    "# Calculate the validation accuracy\n",
    "val_accuracy_adaboost = accuracy_score(y_val, y_val_pred_adaboost)\n",
    "\n",
    "# Print the training and validation accuracies\n",
    "print(\"Acurácia de Treino:\", train_accuracy_adaboost)\n",
    "print(\"Acurácia de Teste:\", val_accuracy_adaboost)\n",
    "\n",
    "# Create a confusion matrix for validation\n",
    "confusion_adaboost = confusion_matrix(y_val, y_val_pred_adaboost)\n",
    "\n",
    "# Plot the confusion matrix\n",
    "plt.figure()\n",
    "sns.heatmap(confusion_adaboost, annot=True, fmt='d', cmap='Blues', cbar=False)\n",
    "plt.xlabel('Predicted')\n",
    "plt.ylabel('Actual')\n",
    "plt.title('AdaBoost Confusion Matrix (Validation)')\n",
    "plt.show();"
   ]
  },
  {
   "cell_type": "markdown",
   "metadata": {},
   "source": [
    "<div style=\"background-color:white;font-size:15px;font-family:Georgia;border-style: solid;border-color: #254E58;border-width:3px;padding:10px;margin: 1px;color:#254E58;overflow:hidden\"> <b>Modelo AdaBoost Classifier</b><br>\n",
    "Acurácia de Treino $→ 82.2$% <br>\n",
    "Acurácia de Treino $→ 74.0$%</div>"
   ]
  },
  {
   "cell_type": "markdown",
   "metadata": {},
   "source": [
    "<a id=\"5.10\"></a>\n",
    "<h2 style=\"font-family: Verdana; font-size: 25px; font-style: normal; font-weight: normal; text-decoration: none; text-transform: none; letter-spacing: 2px; color: #254E58; background-color: #ffffff;\"><b>5.7 | Gradient Boosting </b> Classifier\n"
   ]
  },
  {
   "cell_type": "code",
   "execution_count": null,
   "metadata": {
    "execution": {
     "iopub.execute_input": "2023-08-27T17:38:12.607258Z",
     "iopub.status.busy": "2023-08-27T17:38:12.606834Z",
     "iopub.status.idle": "2023-08-27T17:38:12.828594Z",
     "shell.execute_reply": "2023-08-27T17:38:12.827268Z",
     "shell.execute_reply.started": "2023-08-27T17:38:12.607224Z"
    }
   },
   "outputs": [],
   "source": [
    "from sklearn.ensemble import GradientBoostingClassifier\n",
    "\n",
    "# Create a Gradient Boosting classifier\n",
    "gbm_model = GradientBoostingClassifier(n_estimators=100, max_depth=3, random_state=42)\n",
    "\n",
    "# Fit the GBM model to the training data\n",
    "gbm_model.fit(X_train, y_train)\n",
    "\n",
    "# Make predictions on the training data\n",
    "y_train_pred_gbm = gbm_model.predict(X_train)\n",
    "\n",
    "# Make predictions on the validation data\n",
    "y_val_pred_gbm = gbm_model.predict(X_val)\n",
    "\n",
    "# Calculate the training accuracy\n",
    "train_accuracy_gbm = accuracy_score(y_train, y_train_pred_gbm)\n",
    "\n",
    "# Calculate the validation accuracy\n",
    "val_accuracy_gbm = accuracy_score(y_val, y_val_pred_gbm)\n",
    "\n",
    "# Print the training and validation accuracies\n",
    "print(\"Acurácia de Treino:\", train_accuracy_gbm)\n",
    "print(\"Acurácia de Teste:\", val_accuracy_gbm)"
   ]
  },
  {
   "cell_type": "markdown",
   "metadata": {},
   "source": [
    "<div style=\"background-color:white;font-size:15px;font-family:Georgia;border-style: solid;border-color: #254E58;border-width:3px;padding:10px;margin: 1px;color:#254E58;overflow:hidden\"> <b>Modelo Gradient Boosting Classifier</b><br>\n",
    "Acurácia de Treino $→ 94.2$% <br>\n",
    "Acurácia de Treino $→ 75.3$%</div>"
   ]
  },
  {
   "cell_type": "markdown",
   "metadata": {},
   "source": [
    "<a id=\"5.11\"></a>\n",
    "<h2 style=\"font-family: Verdana; font-size: 25px; font-style: normal; font-weight: normal; text-decoration: none; text-transform: none; letter-spacing: 2px; color: #254E58; background-color: #ffffff;\"><b>5.8 | xgboost </b> Classifier"
   ]
  },
  {
   "cell_type": "code",
   "execution_count": null,
   "metadata": {
    "execution": {
     "iopub.execute_input": "2023-08-27T17:38:12.830747Z",
     "iopub.status.busy": "2023-08-27T17:38:12.830406Z",
     "iopub.status.idle": "2023-08-27T17:38:12.933147Z",
     "shell.execute_reply": "2023-08-27T17:38:12.93218Z",
     "shell.execute_reply.started": "2023-08-27T17:38:12.830719Z"
    }
   },
   "outputs": [],
   "source": [
    "from xgboost import XGBClassifier\n",
    "\n",
    "# Create an XGBoost classifier\n",
    "xgboost_model = XGBClassifier(n_estimators=100, max_depth=3, random_state=42)\n",
    "\n",
    "# Fit the XGBoost model to the training data\n",
    "xgboost_model.fit(X_train, y_train)\n",
    "\n",
    "# Make predictions on the training data\n",
    "y_train_pred_xgboost = xgboost_model.predict(X_train)\n",
    "\n",
    "# Make predictions on the validation data\n",
    "y_val_pred_xgboost = xgboost_model.predict(X_val)\n",
    "\n",
    "# Calculate the training accuracy\n",
    "train_accuracy_xgboost = accuracy_score(y_train, y_train_pred_xgboost)\n",
    "\n",
    "# Calculate the validation accuracy\n",
    "val_accuracy_xgboost = accuracy_score(y_val, y_val_pred_xgboost)\n",
    "\n",
    "# Print the training and validation accuracies\n",
    "print(\"Acurácia de Treino:\", train_accuracy_xgboost)\n",
    "print(\"Acurácia de Treino:\", val_accuracy_xgboost)"
   ]
  },
  {
   "cell_type": "markdown",
   "metadata": {},
   "source": [
    "<div style=\"background-color:white;font-size:15px;font-family:Georgia;border-style: solid;border-color: #254E58;border-width:3px;padding:10px;margin: 1px;color:#254E58;overflow:hidden\"> <b>Modelo\n",
    "Xgboost Classifier</b><br>\n",
    "Acurácia de Treino $→ 98.5$% <br>\n",
    "Acurácia de Teste $→ 69.4$%</div>"
   ]
  },
  {
   "cell_type": "markdown",
   "metadata": {},
   "source": [
    "<a id=\"6\"></a>\n",
    "# <div style=\"padding:20px;color:white;margin:0;font-size:30px;font-family:Georgia;text-align:left;display:fill;border-radius:5px;background-color:#254E58;overflow:hidden\">6 | Conclusion</div>"
   ]
  },
  {
   "cell_type": "markdown",
   "metadata": {},
   "source": [
    "<a id=\"6.1\"></a>\n",
    "> <span style='font-size:20px; font-family:Verdana;color: #254E58;'><b>Conclusion </b></span>"
   ]
  },
  {
   "cell_type": "markdown",
   "metadata": {},
   "source": [
    "\n",
    "<div style=\"background-color:white;font-size:15px;font-family:Georgia;border-style: solid;border-color: #254E58;border-width:3px;padding:10px;margin: 1px;color:#254E58;overflow:hidden\"> <b>O modelo de..... após ajuste de Hiperparâmetros apresentou como o melhor</b><br>\n",
    "Acurácia de Treino $→ 00.00$% <br>\n",
    "Acurácia de Teste $→ 00.00$%<br>"
   ]
  },
  {
   "cell_type": "markdown",
   "metadata": {},
   "source": [
    "<a id=\"7\"></a>\n",
    "# <div style=\"padding:20px;color:white;margin:0;font-size:30px;font-family:Georgia;text-align:left;display:fill;border-radius:5px;background-color:#254E58;overflow:hidden\">7 | Contatos do Autor</div>"
   ]
  },
  {
   "cell_type": "markdown",
   "metadata": {},
   "source": [
    "<div style=\"background-color:white;font-size:15px;font-family:Georgia;border-style: solid;border-color: #254E58;border-width:3px;padding:10px;margin: 1px;color:#254E58;overflow:hidden\"> \n",
    "\n",
    "<h4><b>Author :</b> Cientista Genial</h4>\n",
    "\n",
    "<h4> <b>Some information:</b> </h4>\n",
    "\n",
    "<b>👉Read more project :</b> https://www.kaggle.com/zabihullah18 <br>\n",
    "<b>👉Shoot me mails :</b>  fulanodeca@gmail.com <br>\n",
    "<b>👉Connect on LinkedIn :</b> https://www.linkedin.com/in/fulano/ <br>\n",
    "<b>👉Explore Github :</b> https://github.com/fulanodeca <br>"
   ]
  },
  {
   "cell_type": "code",
   "execution_count": null,
   "metadata": {},
   "outputs": [],
   "source": []
  }
 ],
 "metadata": {
  "kaggle": {
   "accelerator": "none",
   "dataSources": [
    {
     "datasetId": 228,
     "sourceId": 482,
     "sourceType": "datasetVersion"
    }
   ],
   "dockerImageVersionId": 30527,
   "isGpuEnabled": false,
   "isInternetEnabled": false,
   "language": "python",
   "sourceType": "notebook"
  },
  "kernelspec": {
   "display_name": "Python 3 (ipykernel)",
   "language": "python",
   "name": "python3"
  },
  "language_info": {
   "codemirror_mode": {
    "name": "ipython",
    "version": 3
   },
   "file_extension": ".py",
   "mimetype": "text/x-python",
   "name": "python",
   "nbconvert_exporter": "python",
   "pygments_lexer": "ipython3",
   "version": "3.11.5"
  }
 },
 "nbformat": 4,
 "nbformat_minor": 4
}
