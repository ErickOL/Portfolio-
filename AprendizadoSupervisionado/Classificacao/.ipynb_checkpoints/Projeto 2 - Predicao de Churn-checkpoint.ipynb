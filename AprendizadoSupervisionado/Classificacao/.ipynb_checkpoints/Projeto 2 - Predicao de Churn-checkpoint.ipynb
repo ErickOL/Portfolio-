{
 "cells": [
  {
   "cell_type": "markdown",
   "id": "61e4cc44",
   "metadata": {},
   "source": [
    "# <a>Projeto 2 - Churn</a>"
   ]
  },
  {
   "cell_type": "markdown",
   "id": "695f673f",
   "metadata": {},
   "source": [
    "## <a> Motivação </a>\n",
    "\n",
    "Muitos problemas da vida real na carreira de cientista de dados são modelados como classificação. Quando nossa variável dependente é discreta, temos uma classificação. As classes podem ser somente duas (variável dependente binária) ou problemas multiclasse. \n",
    "\n",
    "Agora que você já criou seu primeiro modelo, sabe como separar a base, sabe que selecionar modelo é só na validação, vamos aumentar um pouquinho o nível! Criar o modelo, treinar, validar e testar é a parte mais \"fácil\". Escolher a melhor forma de tratar dados faltantes (missing data), realizar uma boa engenharia de features (feature engineering) e selecionar a melhor métrica para cada projeto são partes essenciais e que requerem uma certa \"criatividade\" de nossa parte. "
   ]
  },
  {
   "cell_type": "markdown",
   "id": "8b689a27",
   "metadata": {},
   "source": [
    "## <a> Objeto de Estudo </a>\n",
    "\n",
    "Um problema muito recorrente para muitas empresas é qual a melhor forma de retenr seus clientes. Saber de antemão se um cliente vai cancelar os serviços é uma grande vantagem competitiva para qualquer empresa. A estratégia de marketing, CRM e as equipes de vendas podem se beneficiar muito se tiver informações de quais clientes tem mais chances de deixar de contratar os serviços de uma empresa.\n",
    "\n",
    "Esse tipo de problema é chamado de previsão de churn (de churn rate, ou, % de clientes que deixam a empresa num determinado tempo). Para resolver esse tipo de problema precisamos ter uma base histórica com clientes que saíram e não saíram da empresa, bem como suas características. \n",
    "\n",
    "Bancos, telefônicas, varejo, qualquer empresa que presta algum tipo de serviços e possui informações sobre seus clientes pode se beneficiar de modelos preditivos similares aos que iremos construir.\n",
    "\n",
    "Nesse projeto, vamos ajudar a Let's Talk (empresa telefônica da holding Let's Data) a manter seus clientes. Faremos isso criando modelos para classificar os clientes em \"churn\" ou \"não churn\", ou seja, se irão cancelar os serviços ou não.\n",
    "\n",
    "\n",
    "A base utilizada trata de uma empresa telefônica fictícia com dados demográficos e de serviços contratados pelos  clientes com a informação se saiu ou não da empresa."
   ]
  },
  {
   "cell_type": "code",
   "execution_count": null,
   "id": "c357c854",
   "metadata": {},
   "outputs": [],
   "source": [
    "# importando as bibliotecas para leitura dos dados e criação de gráficos\n",
    "import os\n",
    "import pandas as pd\n",
    "from matplotlib import pyplot as plt\n",
    "import numpy as np\n",
    "import seaborn as sns\n",
    "\n",
    "\n",
    "# configurando pandas para mostrar todas as linhas e colunas\n",
    "pd.set_option('display.max_rows', None)\n",
    "pd.set_option('display.max_columns', None) \n",
    "\n",
    "# configurando pandas para não mostrar notação científica para números\n",
    "pd.set_option('display.float_format', lambda x: '%.2f' % x)\n",
    "\n",
    "# Ignorando Alertas\n",
    "import warnings\n",
    "warnings.filterwarnings(\"ignore\")"
   ]
  },
  {
   "cell_type": "markdown",
   "id": "a63e1d02",
   "metadata": {},
   "source": [
    "##### **Carregando os Dados**"
   ]
  },
  {
   "cell_type": "code",
   "execution_count": null,
   "id": "295316e3",
   "metadata": {},
   "outputs": [],
   "source": [
    "# Ler os dados da telefonica. Existe uma base de testes, mas ela não tem as respostas, então não serve muito pro nosso caso\n",
    "df_clientes = pd.read_csv('churn.csv')\n",
    "df_clientes.head()"
   ]
  },
  {
   "cell_type": "markdown",
   "id": "a751d57c",
   "metadata": {},
   "source": [
    " - *Verificando as variáveis*"
   ]
  },
  {
   "cell_type": "code",
   "execution_count": null,
   "id": "48d93b81",
   "metadata": {},
   "outputs": [],
   "source": [
    "df_clientes.columns"
   ]
  },
  {
   "cell_type": "markdown",
   "id": "a09b894a",
   "metadata": {},
   "source": [
    "Cada linha é um cliente, portanto, vamos verificar se isso é fato?"
   ]
  },
  {
   "cell_type": "code",
   "execution_count": null,
   "id": "94373542",
   "metadata": {},
   "outputs": [],
   "source": [
    "df_clientes['id'].is_unique"
   ]
  },
  {
   "cell_type": "markdown",
   "id": "a63496ee",
   "metadata": {},
   "source": [
    "De fato, é uma linha por cliente ;)"
   ]
  },
  {
   "cell_type": "markdown",
   "id": "dc5e1a32",
   "metadata": {},
   "source": [
    "Entendendo as colunas:\n",
    "- **id** $→$ identificação do cliente\n",
    "\n",
    "- **gender** $→$ sexo do cliente\n",
    "\n",
    "- **SeniorCitizen** $→$ indicador se é um(a) idoso(a)\n",
    "\n",
    "- **Partner** $→$ indicador se tem um parceiro(a)\n",
    "\n",
    "- **Dependents** $→$ indicador se possui dependentes\n",
    "\n",
    "- **tenure** $→$ quantos meses o cliente está na empresa\n",
    "\n",
    "- **PhoneService** $→$ indicador se possui serviços de telefonia\n",
    "\n",
    "- **MultipleLines** $→$ indicador se possui múltiplas linhas telefônicas\n",
    "\n",
    "- **InternetService** $→$indicador se possui serviços de internet\n",
    "\n",
    "- **OnlineSecurity** $→$ indicador se possui serviços de segurança online\n",
    "\n",
    "- **OnlineBackup** $→$ indicador se possui serviços de backup online\n",
    "\n",
    "- **DeviceProtection** $→$ indicador se possui serviços de proteção de equipamentos\n",
    "\n",
    "- **TechSupport** $→$ indicador se possui serviços de suporte técnico\n",
    "\n",
    "- **StreamingTV** $→$ indicador se possui serviços de streaming de tv\n",
    "\n",
    "- **StreamingMovies** $→$ indicador se possui serviços de streaming de filmes\n",
    "\n",
    "- **Contract** $→$ tipo de contrato\n",
    "\n",
    "- **PaperlessBilling** $→$ indicador se a cobrança é via papel ou não (cobrança eletrônica)\n",
    "\n",
    "- **PaymentMethod** $→$ indicador do tipo de pagamento\n",
    "\n",
    "- **MonthlyCharges** $→$ valor mensal dos serviços\n",
    "\n",
    "- **TotalCharges** $→$ valor total dos serviços desde o início do contrato\n",
    "\n",
    "- **Churn** $→$ indicador se saiu da empresa ou não"
   ]
  },
  {
   "cell_type": "code",
   "execution_count": null,
   "id": "48d3b800",
   "metadata": {},
   "outputs": [],
   "source": [
    "df_clientes.head()"
   ]
  },
  {
   "cell_type": "markdown",
   "id": "fe1451b4",
   "metadata": {},
   "source": [
    "#### **Transformando o** $id$ **em indice do dataframe**"
   ]
  },
  {
   "cell_type": "code",
   "execution_count": null,
   "id": "73357c69",
   "metadata": {},
   "outputs": [],
   "source": [
    "# Vamos transformar id em indice do dataframe\n",
    "df_clientes = df_clientes.set_index('id')\n",
    "df_clientes.head()"
   ]
  },
  {
   "cell_type": "code",
   "execution_count": null,
   "id": "cc5f394d",
   "metadata": {},
   "outputs": [],
   "source": [
    "# Avaliando a quantidade de linhas e colunas\n",
    "df_clientes.shape"
   ]
  },
  {
   "cell_type": "code",
   "execution_count": null,
   "id": "d4bec7d3",
   "metadata": {},
   "outputs": [],
   "source": [
    "# Avaliando os tipos\n",
    "df_clientes.dtypes"
   ]
  },
  {
   "cell_type": "code",
   "execution_count": null,
   "id": "148bc693",
   "metadata": {},
   "outputs": [],
   "source": [
    "df_clientes.info()"
   ]
  },
  {
   "cell_type": "markdown",
   "id": "e834ee20",
   "metadata": {},
   "source": [
    "#### Convertendo a variável $TotalCharges$ que está como object, mas deveria ser float"
   ]
  },
  {
   "cell_type": "code",
   "execution_count": null,
   "id": "8f52dd5f",
   "metadata": {},
   "outputs": [],
   "source": [
    "# Verificando para confirmar \n",
    "df_clientes['TotalCharges'].dtype"
   ]
  },
  {
   "cell_type": "code",
   "execution_count": null,
   "id": "960f4611",
   "metadata": {},
   "outputs": [],
   "source": [
    "# Convertendo\n",
    "df_clientes['TotalCharges'].value_counts()"
   ]
  },
  {
   "cell_type": "markdown",
   "id": "011ecef9",
   "metadata": {},
   "source": [
    "#### Eliminando espaços da coluna $TotalCharges$"
   ]
  },
  {
   "cell_type": "code",
   "execution_count": null,
   "id": "8e5b727d",
   "metadata": {},
   "outputs": [],
   "source": [
    "# Vamos tirar todos os espaços primeiro. Usando expressão regular simples \\s é qualquer\n",
    "# caractere de espaço, seja espaço simples ou tabulação. \\s+ pega uma ou mais sequências de espaços em braco\n",
    "df_clientes['TotalCharges'] = df_clientes['TotalCharges'].replace(\"\\s+\", \"\", regex=True)"
   ]
  },
  {
   "cell_type": "code",
   "execution_count": null,
   "id": "40dd8571",
   "metadata": {},
   "outputs": [],
   "source": [
    "df_clientes['TotalCharges'].value_counts()"
   ]
  },
  {
   "cell_type": "code",
   "execution_count": null,
   "id": "ead90946",
   "metadata": {},
   "outputs": [],
   "source": [
    "# Tentando converter para float\n",
    "#df_clientes['TotalCharges'].astype(float)"
   ]
  },
  {
   "cell_type": "markdown",
   "id": "cdd831c2",
   "metadata": {},
   "source": [
    "- **Porque deu erro na hora de Conversão**? é porque o $astype(float)$ é meio burrinho, ele tem dificuldades de tratar alguns espaços.Ou seja, ele não conseguiu converter a $String$ vazia em $Float$"
   ]
  },
  {
   "cell_type": "code",
   "execution_count": null,
   "id": "ef386e63",
   "metadata": {},
   "outputs": [],
   "source": [
    "# Não funcionou porque existem valores que não conseguem ter conversão para float\n",
    "df_clientes.loc[df_clientes['TotalCharges'] == '']"
   ]
  },
  {
   "cell_type": "markdown",
   "id": "feea2884",
   "metadata": {},
   "source": [
    "### **Transformando para numérico**"
   ]
  },
  {
   "cell_type": "code",
   "execution_count": null,
   "id": "7c0bb334",
   "metadata": {},
   "outputs": [],
   "source": [
    "# Para converter podemos utilizar o to_numeric com coerção de error (famoso forçar a barra)\n",
    "pd.to_numeric(df_clientes['TotalCharges'], errors='coerce')"
   ]
  },
  {
   "cell_type": "markdown",
   "id": "c20a49b0",
   "metadata": {},
   "source": [
    "- **Pegando sos índices das linhas vazias**"
   ]
  },
  {
   "cell_type": "code",
   "execution_count": null,
   "id": "0562df06",
   "metadata": {},
   "outputs": [],
   "source": [
    "# Pegando os índices das linhas que tem nulos pra saber como o to_numeric converte\n",
    "indices_total_charges_nulo = df_clientes.loc[df_clientes['TotalCharges'] == ''].index\n",
    "indices_total_charges_nulo"
   ]
  },
  {
   "cell_type": "markdown",
   "id": "3f2af979",
   "metadata": {},
   "source": [
    "- **Visualizando os valores atribuidos apois a transformação**"
   ]
  },
  {
   "cell_type": "code",
   "execution_count": null,
   "id": "52ebe0df",
   "metadata": {},
   "outputs": [],
   "source": [
    "# Filtrando pelos índices pra ver como o to_numeric realiza a coerção de erros\n",
    "pd.to_numeric(df_clientes['TotalCharges'], errors='coerce')[indices_total_charges_nulo]"
   ]
  },
  {
   "cell_type": "code",
   "execution_count": null,
   "id": "88130f75",
   "metadata": {},
   "outputs": [],
   "source": [
    "# Ótimo! Ele \"força a barra\" pra converter tudo que não é numérico para NaN (not a number - \"isso não é um número\")\n",
    "df_clientes['TotalCharges'] = pd.to_numeric(df_clientes['TotalCharges'], errors='coerce')"
   ]
  },
  {
   "cell_type": "markdown",
   "id": "bbf09d2e",
   "metadata": {},
   "source": [
    "- **Visualizando o tipo das colunas apois a transformação**"
   ]
  },
  {
   "cell_type": "code",
   "execution_count": null,
   "id": "a983a85f",
   "metadata": {},
   "outputs": [],
   "source": [
    "# Visualizando o tipo das colunas\n",
    "df_clientes.dtypes"
   ]
  },
  {
   "cell_type": "markdown",
   "id": "9d77a78c",
   "metadata": {},
   "source": [
    "## <a> Começando com estatística descritiva </a>\n",
    "\n",
    "Conhecer bem as medidas estatísticas, de tendência central, dispersão, separatrizes, distribuições, é essencial para conhecermos melhor os dados em que estamos trabalhando. Qual a distribuição de tenure? Da cobrança mensal? Da cobrança total? A base está desbalanceada?"
   ]
  },
  {
   "cell_type": "code",
   "execution_count": null,
   "id": "6f58402c",
   "metadata": {},
   "outputs": [],
   "source": [
    "df_clientes.describe()"
   ]
  },
  {
   "cell_type": "markdown",
   "id": "d25fb895",
   "metadata": {},
   "source": [
    "**Informações:**\n",
    "\n",
    "SeniorCitizen e Churn são discretas, mas por serem float acabou entrando na dança: vamos ignorar.\n",
    "\n",
    "Podemos perceber que tenure tem máximo de 72 meses (6 anos). Podemos inferir que os dados foram coletados com essa janela."
   ]
  },
  {
   "cell_type": "markdown",
   "id": "9e77e6eb",
   "metadata": {},
   "source": [
    "#### **Analisando a distribuição de tenure** *(meses na empresa)*"
   ]
  },
  {
   "cell_type": "code",
   "execution_count": null,
   "id": "c1e15b75",
   "metadata": {},
   "outputs": [],
   "source": [
    "# Analisando a distribuição de tenure (meses na empresa)\n",
    "sns.set_style(\"darkgrid\")\n",
    "plt.tight_layout()\n",
    "\n",
    "sns.histplot(data=df_clientes, x='tenure' );"
   ]
  },
  {
   "cell_type": "markdown",
   "id": "ac19507e",
   "metadata": {},
   "source": [
    "**Informações**:\n",
    "    \n",
    "  Temos muitos valores próximos a zero, vamos avaliar?"
   ]
  },
  {
   "cell_type": "code",
   "execution_count": null,
   "id": "b7a10f56",
   "metadata": {},
   "outputs": [],
   "source": [
    "# Temos muitos valores próximos a zero, vamos avaliar?\n",
    "\n",
    "len(df_clientes.loc[df_clientes['tenure'] <= 5])"
   ]
  },
  {
   "cell_type": "code",
   "execution_count": null,
   "id": "2073a03a",
   "metadata": {},
   "outputs": [],
   "source": [
    "100 * len(df_clientes.loc[df_clientes['tenure'] <= 5]) / df_clientes.shape[0]"
   ]
  },
  {
   "cell_type": "markdown",
   "id": "bc85b15e",
   "metadata": {},
   "source": [
    "#### **Mudando o padrão de quartis para** $decis$"
   ]
  },
  {
   "cell_type": "code",
   "execution_count": null,
   "id": "e215e4ab",
   "metadata": {},
   "outputs": [],
   "source": [
    "# Mudando o padrão de quartis para decis. linspace divide em espaços iguais um intervalo de números (0 a 1 com 11 intervalos)\n",
    "df_clientes.describe(percentiles=np.linspace(0, 1, 11))"
   ]
  },
  {
   "cell_type": "markdown",
   "id": "1137f87a",
   "metadata": {},
   "source": [
    "- **Analisando a distribuição da cobrança mensal**"
   ]
  },
  {
   "cell_type": "code",
   "execution_count": null,
   "id": "80b0fbc2",
   "metadata": {},
   "outputs": [],
   "source": [
    "# Analisando a distribuição da cobrança mensal\n",
    "sns.set_style(\"darkgrid\")\n",
    "plt.tight_layout()\n",
    "\n",
    "sns.histplot(data=df_clientes, x='MonthlyCharges');"
   ]
  },
  {
   "cell_type": "markdown",
   "id": "edb5bccb",
   "metadata": {},
   "source": [
    "- **Analisando a distribuição da cobrança total**"
   ]
  },
  {
   "cell_type": "code",
   "execution_count": null,
   "id": "e8261a7b",
   "metadata": {},
   "outputs": [],
   "source": [
    "# Analisando a distribuição da cobrança total\n",
    "sns.set_style(\"darkgrid\")\n",
    "plt.tight_layout()\n",
    "\n",
    "sns.histplot(data=df_clientes, x='TotalCharges');"
   ]
  },
  {
   "cell_type": "markdown",
   "id": "5e2d920d",
   "metadata": {},
   "source": [
    "#### **Analisando a variável target**: $churn$ *(cancelou os serviços da empresa ou não)*"
   ]
  },
  {
   "cell_type": "code",
   "execution_count": null,
   "id": "ba2ff21f",
   "metadata": {},
   "outputs": [],
   "source": [
    "# Analisando a variável target: churn (cancelou os serviços da empresa ou não)\n",
    "sns.countplot(data=df_clientes, x='Churn');"
   ]
  },
  {
   "cell_type": "markdown",
   "id": "9d3310cc",
   "metadata": {},
   "source": [
    "**Informações:**\n",
    "\n",
    "- Temos uma base bastante desbalanceada. Temos que tomar cuidado com a métrica a ser utilizada. Vamos avaliar o desbalanceamento."
   ]
  },
  {
   "cell_type": "markdown",
   "id": "b09cbf2e",
   "metadata": {},
   "source": [
    "#### **Verificando a quantidade de pessoas que sairam e não sairam**"
   ]
  },
  {
   "cell_type": "code",
   "execution_count": null,
   "id": "15253fd8",
   "metadata": {},
   "outputs": [],
   "source": [
    "# Verificando a quantidade de pessoas que sairam e não sairam \n",
    "len(df_clientes.loc[df_clientes['Churn'] == 0]), len(df_clientes.loc[df_clientes['Churn'] == 1])"
   ]
  },
  {
   "cell_type": "markdown",
   "id": "722744ed",
   "metadata": {},
   "source": [
    "#### *Chute do Modelo*: Se o modelo chutar tudo como \"não saiu da empresa\""
   ]
  },
  {
   "cell_type": "code",
   "execution_count": null,
   "id": "17a638e3",
   "metadata": {},
   "outputs": [],
   "source": [
    "# Se o modelo chutar tudo como \"não saiu da empresa\"\n",
    "100 * len(df_clientes.loc[df_clientes['Churn'] == 0]) / df_clientes.shape[0]"
   ]
  },
  {
   "cell_type": "markdown",
   "id": "fd92cf3b",
   "metadata": {},
   "source": [
    "**Conclusão**:\n",
    "- Ou seja, acurácia perto de 73% quer dizer que usamos machine learning pra nada :D"
   ]
  },
  {
   "cell_type": "markdown",
   "id": "d4581905",
   "metadata": {},
   "source": [
    "## <a> Relação entre as features e a variável target </a>\n",
    "\n",
    "Uma análise interessante é avaliar relações entre as variáveis preditoras com a target. Vamos analisar as dispersões das variáveis preditoras com o churn"
   ]
  },
  {
   "cell_type": "code",
   "execution_count": null,
   "id": "feb6d356",
   "metadata": {},
   "outputs": [],
   "source": [
    "# O pairplot faz gráficos de dispersão para os pares de variáveis (incluindo a target)\n",
    "# Na diagonal principal ele mostra o histograma\n",
    "sns.pairplot(data=df_clientes);"
   ]
  },
  {
   "cell_type": "markdown",
   "id": "6ef9953b",
   "metadata": {},
   "source": [
    "**Conclusão:**\n",
    "\n",
    "- Fica evidente uma correlação positiva entre tenure e cobranças totais (o que é bem óbvio). Além disso, nada que chame muito a atenção com relação à variável target. Como ela é categórica, se tivéssemos um gráfico que nem o abaixo, poderíamos inferir uma correlação forte:"
   ]
  },
  {
   "cell_type": "markdown",
   "id": "62d2f0f2",
   "metadata": {},
   "source": [
    "## <a> Codificação de Variáveis Categóricas </a>\n",
    "\n",
    "Lembrando que os modelos de machine learning não sabem o que são categorias em sua maioria, devemos, portanto, codificar as variáveis de sexo, parceiro(a), dependentes, tipo de cobrança e todos os tipos de serviço."
   ]
  },
  {
   "cell_type": "code",
   "execution_count": null,
   "id": "6643d960",
   "metadata": {},
   "outputs": [],
   "source": [
    "df_clientes.head()"
   ]
  },
  {
   "cell_type": "markdown",
   "id": "eb4a8a39",
   "metadata": {},
   "source": [
    "#### **Vamos analisar quantas classes possuem as variáveis categóricas para saber como codificar cada uma**"
   ]
  },
  {
   "cell_type": "code",
   "execution_count": null,
   "id": "8d1b426c",
   "metadata": {},
   "outputs": [],
   "source": [
    "# Visualizando as colunas numéricas\n",
    "df_clientes._get_numeric_data().columns"
   ]
  },
  {
   "cell_type": "code",
   "execution_count": null,
   "id": "f4afec4a",
   "metadata": {
    "scrolled": true
   },
   "outputs": [],
   "source": [
    "# Exemplo de list comprehension\n",
    "[coluna for coluna in df_clientes.columns]"
   ]
  },
  {
   "cell_type": "markdown",
   "id": "e4565d51",
   "metadata": {},
   "source": [
    "#### **Pegando todas variáveis que não são numéricas**"
   ]
  },
  {
   "cell_type": "code",
   "execution_count": null,
   "id": "28793d88",
   "metadata": {},
   "outputs": [],
   "source": [
    "colunas_categoricas = [coluna for coluna in df_clientes.columns if coluna not in df_clientes._get_numeric_data().columns]\n",
    "colunas_categoricas"
   ]
  },
  {
   "cell_type": "markdown",
   "id": "369a4677",
   "metadata": {},
   "source": [
    "### **Outras forma de verificar as colunas Categóricas**"
   ]
  },
  {
   "cell_type": "code",
   "execution_count": null,
   "id": "09e0a313",
   "metadata": {},
   "outputs": [],
   "source": [
    "cat_col_names = []\n",
    "num_col_names = []\n",
    "\n",
    "for col in df_clientes.columns:\n",
    "    if df_clientes[col].dtype == 'object':\n",
    "        cat_col_names.append(col)\n",
    "    else:\n",
    "        num_col_names.append(col)\n",
    "\n",
    "print(cat_col_names)\n",
    "#print(num_col_names)"
   ]
  },
  {
   "cell_type": "markdown",
   "id": "bbc97d31",
   "metadata": {},
   "source": [
    " - **Verificando os Valores Únicos**"
   ]
  },
  {
   "cell_type": "code",
   "execution_count": null,
   "id": "71976584",
   "metadata": {},
   "outputs": [],
   "source": [
    "for col in cat_col_names:\n",
    "    print(col, len(df_clientes[col].unique()))"
   ]
  },
  {
   "cell_type": "markdown",
   "id": "0fe8e467",
   "metadata": {},
   "source": [
    "### **Contando todos os valores das variaveis categóricas**"
   ]
  },
  {
   "cell_type": "code",
   "execution_count": null,
   "id": "b960c500",
   "metadata": {
    "scrolled": true
   },
   "outputs": [],
   "source": [
    "for coluna_categorica in colunas_categoricas:\n",
    "    display(df_clientes[coluna_categorica].value_counts())"
   ]
  },
  {
   "cell_type": "markdown",
   "id": "13548173",
   "metadata": {},
   "source": [
    "**Informações:**\n",
    "- As variáveis gender, partner, dependents, phone service e paperless billing, possuem duas classes (sim ou não). Podemos então mapeá-las diretamente:"
   ]
  },
  {
   "cell_type": "markdown",
   "id": "0df4599c",
   "metadata": {},
   "source": [
    "#### **Mapeando as variaveis**"
   ]
  },
  {
   "cell_type": "code",
   "execution_count": null,
   "id": "cf0ed2a3",
   "metadata": {},
   "outputs": [],
   "source": [
    "# Mapear gender, partner, dependents, phone service e paperless billing\n",
    "df_clientes['gender'] = df_clientes['gender'].map({'Female': 1, 'Male': 0})\n",
    "\n",
    "colunas_binarias = ['Partner', 'Dependents', 'PhoneService', 'PaperlessBilling']\n",
    "\n",
    "for coluna_binaria in colunas_binarias:\n",
    "    df_clientes[coluna_binaria] = df_clientes[coluna_binaria].map({'Yes': 1, 'No': 0}) "
   ]
  },
  {
   "cell_type": "code",
   "execution_count": null,
   "id": "557e71cd",
   "metadata": {
    "scrolled": true
   },
   "outputs": [],
   "source": [
    "# Será que funcionou?\n",
    "\n",
    "display(df_clientes['gender'].value_counts())\n",
    "\n",
    "for colunas_binaria in colunas_binarias:\n",
    "    display(df_clientes[colunas_binaria].value_counts())"
   ]
  },
  {
   "cell_type": "markdown",
   "id": "3c18722f",
   "metadata": {},
   "source": [
    "Por que Dependents ficou diferente? **Talvez ele tenha valores nulos**"
   ]
  },
  {
   "cell_type": "code",
   "execution_count": null,
   "id": "2662d8fa",
   "metadata": {},
   "outputs": [],
   "source": [
    "df_clientes.loc[:, colunas_binarias + ['gender']].isnull().sum()"
   ]
  },
  {
   "cell_type": "markdown",
   "id": "f81416c8",
   "metadata": {},
   "source": [
    "**Informações:**\n",
    "- Para as outras variáveis podemos avaliar quais podem ser ordinais para utilizar a codificação ordinal."
   ]
  },
  {
   "cell_type": "markdown",
   "id": "3befc22f",
   "metadata": {},
   "source": [
    "### **Atualizando as Colunas**"
   ]
  },
  {
   "cell_type": "code",
   "execution_count": null,
   "id": "cf41641e",
   "metadata": {},
   "outputs": [],
   "source": [
    "# Atualizando as colunas que ainda são categóricas\n",
    "colunas_categoricas = [coluna for coluna in df_clientes.columns if coluna not in df_clientes._get_numeric_data()]\n",
    "colunas_categoricas"
   ]
  },
  {
   "cell_type": "code",
   "execution_count": null,
   "id": "03df0374",
   "metadata": {
    "scrolled": true
   },
   "outputs": [],
   "source": [
    "for coluna_categorica in colunas_categoricas:\n",
    "    display(df_clientes[coluna_categorica].value_counts())"
   ]
  },
  {
   "cell_type": "markdown",
   "id": "5da88dfe",
   "metadata": {},
   "source": [
    "**Conclusões:**\n",
    "\n",
    "- Podemos inferir que Contract é ordinal, pois possui claramente uma diferença entre os tipos de contrato mensais, anuais e bianuais. Outras que podemos (forçando um pouquinho a barra) são InternetService e PaymentMethod. A 1a porque tendo em vista que fibra ótica normalmente é mais rápida que ADSL (e provavelmente mais cara também). A 2a porque podemos avaliar a facilidade de cobrança pelo correio ser mais difícil/lenta que as mais automáticas e eletrônicas"
   ]
  },
  {
   "cell_type": "code",
   "execution_count": null,
   "id": "485b9385",
   "metadata": {},
   "outputs": [],
   "source": [
    "df_clientes['Contract'] = df_clientes['Contract'].map({'Month-to-month': 0, 'One year': 1, 'Two year': 2})\n",
    "df_clientes['InternetService'] = df_clientes['InternetService'].map({'No': 0, 'DSL': 1, 'Fiber optic': 2})\n",
    "df_clientes['PaymentMethod'] = df_clientes['PaymentMethod'].map({'Mailed check': 0, \n",
    "                                                                 'Electronic check': 1, \n",
    "                                                                 'Bank transfer (automatic)': 2,\n",
    "                                                                 'Credit card (automatic)': 3})\n",
    "df_clientes.head()"
   ]
  },
  {
   "cell_type": "code",
   "execution_count": null,
   "id": "ac8db925",
   "metadata": {},
   "outputs": [],
   "source": [
    "df_clientes.dtypes"
   ]
  },
  {
   "cell_type": "markdown",
   "id": "50e7d948",
   "metadata": {},
   "source": [
    "Para os outros, vamos de one hot encoding"
   ]
  },
  {
   "cell_type": "code",
   "execution_count": null,
   "id": "3ff68618",
   "metadata": {},
   "outputs": [],
   "source": [
    "# Atualizando as colunas que ainda são categóricas\n",
    "colunas_categoricas = [coluna for coluna in df_clientes.columns if coluna not in df_clientes._get_numeric_data()]\n",
    "colunas_categoricas"
   ]
  },
  {
   "cell_type": "markdown",
   "id": "5a61ceb2",
   "metadata": {},
   "source": [
    "### Importantdo as Categória $OneHotEncoder$"
   ]
  },
  {
   "cell_type": "code",
   "execution_count": null,
   "id": "9be25dbe",
   "metadata": {},
   "outputs": [],
   "source": [
    "# Vamos utilizar OHE para variáveis categóricas nominais\n",
    "from sklearn.preprocessing import OneHotEncoder"
   ]
  },
  {
   "cell_type": "code",
   "execution_count": null,
   "id": "9c845e43",
   "metadata": {},
   "outputs": [],
   "source": [
    "ohe = OneHotEncoder(sparse=False, drop='first')\n",
    "df_ohe_transformadas = ohe.fit_transform(df_clientes[colunas_categoricas])\n",
    "ohe.categories_"
   ]
  },
  {
   "cell_type": "code",
   "execution_count": null,
   "id": "c6eb0f2e",
   "metadata": {},
   "outputs": [],
   "source": [
    "ohe.get_feature_names_out()"
   ]
  },
  {
   "cell_type": "markdown",
   "id": "8c347bd0",
   "metadata": {},
   "source": [
    "Bem melhor assim! Vamos então pensar essas novas colunas no dataframe de clientes e remover as colunas originais"
   ]
  },
  {
   "cell_type": "code",
   "execution_count": null,
   "id": "78e13fa8",
   "metadata": {},
   "outputs": [],
   "source": [
    "df_ohe_transformadas"
   ]
  },
  {
   "cell_type": "markdown",
   "id": "912c2941",
   "metadata": {},
   "source": [
    "#### **Adicionando as novas colunas no DataFrame original, e excluindo as originais** "
   ]
  },
  {
   "cell_type": "code",
   "execution_count": null,
   "id": "9bfcb3e0",
   "metadata": {},
   "outputs": [],
   "source": [
    "# Tranformando o array numpy em colunas.\n",
    "df_ohe_transformadas = pd.DataFrame(data=df_ohe_transformadas, columns=ohe.get_feature_names_out(), index=df_clientes.index)\n",
    "df_ohe_transformadas.head()"
   ]
  },
  {
   "cell_type": "code",
   "execution_count": null,
   "id": "2aa61752",
   "metadata": {},
   "outputs": [],
   "source": [
    "df_clientes.head()"
   ]
  },
  {
   "cell_type": "code",
   "execution_count": null,
   "id": "843a8cab",
   "metadata": {},
   "outputs": [],
   "source": [
    "df_ohe_transformadas.shape"
   ]
  },
  {
   "cell_type": "markdown",
   "id": "7089c845",
   "metadata": {},
   "source": [
    "### *Juntando os DataFrames*"
   ]
  },
  {
   "cell_type": "code",
   "execution_count": null,
   "id": "558dccd9",
   "metadata": {},
   "outputs": [],
   "source": [
    "# Utilizando o concat para realizar um \"JOIN\" entre os dataframes original e com as colunas com one hot encoding\n",
    "# axis=0 ele apensaria as linhas, axis=1 ele junta as colunas\n",
    "df_clientes = pd.concat([df_clientes, df_ohe_transformadas], axis=1)\n",
    "df_clientes.head()"
   ]
  },
  {
   "cell_type": "code",
   "execution_count": null,
   "id": "77936553",
   "metadata": {},
   "outputs": [],
   "source": [
    "colunas_categoricas"
   ]
  },
  {
   "cell_type": "markdown",
   "id": "674df5eb",
   "metadata": {},
   "source": [
    "### *Eliminando as Colunas caetgóricas originais*"
   ]
  },
  {
   "cell_type": "code",
   "execution_count": null,
   "id": "7cac9910",
   "metadata": {},
   "outputs": [],
   "source": [
    "# Agora precisamos remover as colunas originais!\n",
    "df_clientes = df_clientes.drop(colunas_categoricas, axis=1)\n",
    "df_clientes.head()"
   ]
  },
  {
   "cell_type": "code",
   "execution_count": null,
   "id": "e1c48eb8",
   "metadata": {
    "scrolled": true
   },
   "outputs": [],
   "source": [
    "df_clientes.dtypes"
   ]
  },
  {
   "cell_type": "markdown",
   "id": "5e5b1dc6",
   "metadata": {},
   "source": [
    "#### UFA! Tudo prontinho, variáveis todas numéricas!!"
   ]
  },
  {
   "cell_type": "markdown",
   "id": "1d849e41",
   "metadata": {},
   "source": [
    "## <a> Determinando quem são variáveis preditoras e variável target </a>\n",
    "\n",
    "Variáveis preditoras: X; variável target: y."
   ]
  },
  {
   "cell_type": "code",
   "execution_count": null,
   "id": "c2a4f633",
   "metadata": {},
   "outputs": [],
   "source": [
    "df_clientes.columns"
   ]
  },
  {
   "cell_type": "markdown",
   "id": "a6fc6faa",
   "metadata": {},
   "source": [
    "### Separando $X$ e $y$"
   ]
  },
  {
   "cell_type": "code",
   "execution_count": null,
   "id": "6d3be836",
   "metadata": {},
   "outputs": [],
   "source": [
    "X = df_clientes.drop('Churn', axis=1) # tirando a variável dependente\n",
    "y = df_clientes[['Churn']] # extraindo a variável dependente"
   ]
  },
  {
   "cell_type": "code",
   "execution_count": null,
   "id": "cedd2e48",
   "metadata": {},
   "outputs": [],
   "source": [
    "# Variáveis preditoras (ou independentes ou, features)\n",
    "X.head()"
   ]
  },
  {
   "cell_type": "code",
   "execution_count": null,
   "id": "4bd2cca9",
   "metadata": {},
   "outputs": [],
   "source": [
    "# Variável dependente, ou target, ou label (ah, vcs entenderam :)\n",
    "y.head()"
   ]
  },
  {
   "cell_type": "markdown",
   "id": "8039c1c6",
   "metadata": {},
   "source": [
    "## <a> Separação de bases </a>\n",
    "\n",
    "Vamos separar logo essas bases?? Isso evita tratamento de missing data (valores faltantes), por exemplo, e tais transformações deve ser realizadas DEPOIS do split (separação)."
   ]
  },
  {
   "cell_type": "code",
   "execution_count": null,
   "id": "c76f6933",
   "metadata": {},
   "outputs": [],
   "source": [
    "# A função que separa nossa base em treino e teste! \n",
    "# Lembrando que faremos cross validation com a base de treino\n",
    "from sklearn.model_selection import train_test_split"
   ]
  },
  {
   "cell_type": "code",
   "execution_count": null,
   "id": "4c24d368",
   "metadata": {},
   "outputs": [],
   "source": [
    "# Devolve uma tupla com 4 elementos: X de treino, X de teste, y de treino, y de teste\n",
    "X_treino, X_teste, y_treino, y_teste = train_test_split(X, # preditoras \n",
    "                                                        y, # target\n",
    "                                                        test_size=.2, \n",
    "                                                        random_state=42)\n",
    "\n",
    "# Vamos ver quantas linhas ficamos com treino e teste\n",
    "X_treino.shape, X_teste.shape, y_treino.shape, y_teste.shape"
   ]
  },
  {
   "cell_type": "code",
   "execution_count": null,
   "id": "7b8801bc",
   "metadata": {},
   "outputs": [],
   "source": [
    "X_treino.head()"
   ]
  },
  {
   "cell_type": "code",
   "execution_count": null,
   "id": "533f4d04",
   "metadata": {},
   "outputs": [],
   "source": [
    "y_treino.head()"
   ]
  },
  {
   "cell_type": "code",
   "execution_count": null,
   "id": "e5573ddb",
   "metadata": {},
   "outputs": [],
   "source": [
    "X_treino.shape[0] / X.shape[0]"
   ]
  },
  {
   "cell_type": "markdown",
   "id": "fcbd1d19",
   "metadata": {},
   "source": [
    "## <a> Tratamento de dados faltantes (missing data) </a>"
   ]
  },
  {
   "cell_type": "markdown",
   "id": "e62150d6",
   "metadata": {},
   "source": [
    "- **Verificando valores Nulos/ausentes**"
   ]
  },
  {
   "cell_type": "code",
   "execution_count": null,
   "id": "74b70f93",
   "metadata": {
    "scrolled": true
   },
   "outputs": [],
   "source": [
    "# isnull busca quem é nulo (dados faltantes)\n",
    "X_treino.isnull().sum()"
   ]
  },
  {
   "cell_type": "code",
   "execution_count": null,
   "id": "a7642952",
   "metadata": {
    "scrolled": true
   },
   "outputs": [],
   "source": [
    "X_teste.isnull().sum()"
   ]
  },
  {
   "cell_type": "markdown",
   "id": "7f4c0678",
   "metadata": {},
   "source": [
    "#### Existem diversas formas de tratar missing data, as formas podem inclusive ser testadas (com cross validation) para avaliar qual é a mais robusta para performance do modelo. Vamos testar algumas durante os treinamentos."
   ]
  },
  {
   "cell_type": "code",
   "execution_count": null,
   "id": "776583ea",
   "metadata": {},
   "outputs": [],
   "source": [
    "# 1o o mais simples: utilizar as medidas de tendência central!!\n",
    "# Antes disso vamos guardar os X originais para tentar outras formas mais tarde\n",
    "X_treino_original = X_treino.copy()\n",
    "X_teste_original = X_teste.copy()\n",
    "\n",
    "y_treino_original = y_treino.copy()\n",
    "y_teste_original = y_teste.copy()"
   ]
  },
  {
   "cell_type": "markdown",
   "id": "40506565",
   "metadata": {},
   "source": [
    "#### Verificando o nome das colunas com valores faltantes"
   ]
  },
  {
   "cell_type": "code",
   "execution_count": null,
   "id": "2e45fd7d",
   "metadata": {},
   "outputs": [],
   "source": [
    "X_treino.loc[:, X_treino.isnull().sum() > 0].columns"
   ]
  },
  {
   "cell_type": "code",
   "execution_count": null,
   "id": "852b2c1e",
   "metadata": {},
   "outputs": [],
   "source": [
    "X_teste.loc[:, X_teste.isnull().sum() > 0].columns"
   ]
  },
  {
   "cell_type": "code",
   "execution_count": null,
   "id": "53ac8c3f",
   "metadata": {},
   "outputs": [],
   "source": [
    "# Para as variáveis numéricas, vamos utilizar a mediana, para as categóricas, a moda\n",
    "mediana_tenure = X_treino['tenure'].median()\n",
    "mediana_dependents = X_treino['Dependents'].median()\n",
    "mediana_total_charges = X_treino['TotalCharges'].median()\n",
    "moda_payment_method = X_treino['PaymentMethod'].value_counts().index[0]\n",
    "\n",
    "mediana_tenure, mediana_dependents, mediana_total_charges, moda_payment_method"
   ]
  },
  {
   "cell_type": "markdown",
   "id": "1b945571",
   "metadata": {},
   "source": [
    "#### Filtarndo as Linhas de cada variavel com valores nulos e atribuindo os valores correspondente de cada coluna (Valor imputado)"
   ]
  },
  {
   "cell_type": "code",
   "execution_count": null,
   "id": "64e921c7",
   "metadata": {
    "scrolled": true
   },
   "outputs": [],
   "source": [
    "X_treino.loc[X_treino['tenure'].isnull(), 'tenure'] = mediana_tenure\n",
    "X_treino.loc[X_treino['Dependents'].isnull(), 'Dependents'] = mediana_dependents\n",
    "X_treino.loc[X_treino['TotalCharges'].isnull(), 'TotalCharges'] = mediana_total_charges\n",
    "X_treino.loc[X_treino['PaymentMethod'].isnull(), 'PaymentMethod'] = moda_payment_method\n",
    "\n",
    "X_treino.isnull().sum()"
   ]
  },
  {
   "cell_type": "code",
   "execution_count": null,
   "id": "b9c0dbb2",
   "metadata": {
    "scrolled": true
   },
   "outputs": [],
   "source": [
    "# Não podemos calcular medidas de tendência central com a base toda! Temos que utilizar o que\n",
    "# foi calculado na base de treino\n",
    "X_teste.loc[X_teste['tenure'].isnull(), 'tenure'] = mediana_tenure # computado no treino\n",
    "X_teste.loc[X_teste['Dependents'].isnull(), 'Dependents'] = mediana_dependents # computado no treino\n",
    "X_teste.loc[X_teste['TotalCharges'].isnull(), 'TotalCharges'] = mediana_total_charges # computado no treino\n",
    "X_teste.loc[X_teste['PaymentMethod'].isnull(), 'PaymentMethod'] = moda_payment_method # computado no treino\n",
    "\n",
    "X_teste.isnull().sum()"
   ]
  },
  {
   "cell_type": "markdown",
   "id": "0b5e2f8c",
   "metadata": {},
   "source": [
    "## <a> Vamos de Machine Learning? </a>\n",
    "\n",
    "Primeiro modelo que vamos treinar é a regressão logística! A prima esquisita da regressão linear, que nem pra regressão serve, mas sim pra classificação! Lembrando que vamos utilizar cross validation para evitar overfit e ter uma base de comparação para outros modelos"
   ]
  },
  {
   "cell_type": "code",
   "execution_count": null,
   "id": "fd01a273",
   "metadata": {},
   "outputs": [],
   "source": [
    "# Veja como Regressão Logística está no pacotão de modelos lineares!\n",
    "from sklearn.linear_model import LogisticRegression\n",
    "from sklearn.model_selection import cross_val_score"
   ]
  },
  {
   "cell_type": "code",
   "execution_count": null,
   "id": "d00c8028",
   "metadata": {},
   "outputs": [],
   "source": [
    "# Criando o estimador, algoritmo, modelo, preditor, classificador (virge, que tanto de nome!)\n",
    "# Vamos alterar o número de iterações para cálculo da regressão logística, pois no default ele enche de warnings\n",
    "# que pode não ter chegado na melhor solução\n",
    "regressao_logistica = LogisticRegression(max_iter=500)"
   ]
  },
  {
   "cell_type": "code",
   "execution_count": null,
   "id": "740e918f",
   "metadata": {},
   "outputs": [],
   "source": [
    "type(regressao_logistica)"
   ]
  },
  {
   "cell_type": "code",
   "execution_count": null,
   "id": "ec965690",
   "metadata": {},
   "outputs": [],
   "source": [
    "# Vamos treinar utilizando cross validation\n",
    "valores_f1_rl = cross_val_score(estimator=regressao_logistica, \n",
    "                                  X=X_treino, \n",
    "                                  y=y_treino.values.flatten(), \n",
    "                                  cv=10, # 10-fold CV\n",
    "                                  scoring='f1') # f1 score porque a base está desbalanceada\n",
    "valores_f1_rl"
   ]
  },
  {
   "cell_type": "code",
   "execution_count": null,
   "id": "b123bdfd",
   "metadata": {},
   "outputs": [],
   "source": [
    "len(valores_f1_rl)"
   ]
  },
  {
   "cell_type": "code",
   "execution_count": null,
   "id": "eb276513",
   "metadata": {},
   "outputs": [],
   "source": [
    "media_f1_rl = valores_f1_rl.mean()\n",
    "f'f1-score: {media_f1_rl*100}'"
   ]
  },
  {
   "cell_type": "markdown",
   "id": "ae91e3f1",
   "metadata": {},
   "source": [
    "### Vamos tentar agora com random forest?"
   ]
  },
  {
   "cell_type": "code",
   "execution_count": null,
   "id": "f5ac0f7d",
   "metadata": {
    "scrolled": true
   },
   "outputs": [],
   "source": [
    "# Modelo de bagging mais famoso!\n",
    "from sklearn.ensemble import RandomForestClassifier\n",
    "\n",
    "random_forest = RandomForestClassifier()\n",
    "\n",
    "# Vamos treinar utilizando cross validation (sempre!!)\n",
    "valores_f1_rf = cross_val_score(estimator=random_forest, \n",
    "                                      X=X_treino, \n",
    "                                      y=y_treino.values.flatten(), \n",
    "                                      cv=10, # \n",
    "                                  scoring='f1')\n",
    "valores_f1_rf"
   ]
  },
  {
   "cell_type": "code",
   "execution_count": null,
   "id": "a792fe90",
   "metadata": {},
   "outputs": [],
   "source": [
    "media_f1_rf = valores_f1_rf.mean()\n",
    "f'f1-score: {media_f1_rf*100}'\n"
   ]
  },
  {
   "cell_type": "markdown",
   "id": "a86d9481",
   "metadata": {},
   "source": [
    "### Finalmente, o famoso XGBoost"
   ]
  },
  {
   "cell_type": "code",
   "execution_count": null,
   "id": "52d2dd85",
   "metadata": {},
   "outputs": [],
   "source": [
    "import xgboost as xgb"
   ]
  },
  {
   "cell_type": "code",
   "execution_count": null,
   "id": "7b1c6e07",
   "metadata": {},
   "outputs": [],
   "source": [
    "xgb_model = xgb.XGBClassifier(random_state=42, \n",
    "                              objective='binary:logistic', \n",
    "                              use_label_encoder=False, \n",
    "                              eval_metric='error')"
   ]
  },
  {
   "cell_type": "code",
   "execution_count": null,
   "id": "3219911d",
   "metadata": {},
   "outputs": [],
   "source": [
    "type(xgb_model)"
   ]
  },
  {
   "cell_type": "code",
   "execution_count": null,
   "id": "770890aa",
   "metadata": {},
   "outputs": [],
   "source": [
    "# Vamos treinar utilizando cross validation (sempre!!)\n",
    "valores_f1_xgb = cross_val_score(estimator=xgb_model, \n",
    "                                      X=X_treino, \n",
    "                                      y=y_treino.values.flatten(), \n",
    "                                      cv=10, # \n",
    "                                  scoring='f1')\n",
    "valores_f1_xgb"
   ]
  },
  {
   "cell_type": "code",
   "execution_count": null,
   "id": "0a12b335",
   "metadata": {},
   "outputs": [],
   "source": [
    "media_f1_xgb = valores_f1_xgb.mean()\n",
    "\n",
    "f'f1-score: {media_f1_xgb*100}'"
   ]
  },
  {
   "cell_type": "markdown",
   "id": "37cc8c97",
   "metadata": {},
   "source": [
    "### Fueeeeen :D\n",
    "\n",
    "Vamos de regressão logística e testar um pouco de feature engineering\n"
   ]
  },
  {
   "cell_type": "markdown",
   "id": "780cad84",
   "metadata": {},
   "source": [
    "## <a> Feature Engineering </a>\n",
    "\n",
    "Nesse momento em que separamos quem só sabe fazer as coisas no automático e quem realmente se debruça sobre o problema a ser atacado. Vamos avaliar alguns possíveis insights do problema em questão.\n",
    "\n",
    "Vamos começar com a imputação de dados faltantes? Será que conseguimos melhorar algo?"
   ]
  },
  {
   "cell_type": "code",
   "execution_count": null,
   "id": "8eab70db",
   "metadata": {
    "scrolled": true
   },
   "outputs": [],
   "source": [
    "# Revisitando os dados faltantes (antes do split)\n",
    "X.isnull().sum()"
   ]
  },
  {
   "cell_type": "markdown",
   "id": "cf1d3f3b",
   "metadata": {},
   "source": [
    "### Insights\n",
    "\n",
    "Perceberam que tenure tem um número considerável de dados faltantes. Mas, se pararmos pra pensar, temos a cobrança total e a cobrança mensal. Será que podemos utilizar esses valores para inferir algo melhor que somente a mediana? Ora, se dividirmos a cobrança total pelo valor mensal, teremos uma estimativa muito boa de quantos meses o cliente está com serviço contratado (tenure). Vamos testar"
   ]
  },
  {
   "cell_type": "code",
   "execution_count": null,
   "id": "df7e8c3e",
   "metadata": {},
   "outputs": [],
   "source": [
    "# Buscando somente a coluna tenure para deixar o resto das imputações iguais\n",
    "X_treino['tenure'] = X_treino_original['tenure']\n",
    "X_teste['tenure'] = X_teste_original['tenure']"
   ]
  },
  {
   "cell_type": "code",
   "execution_count": null,
   "id": "43f79b56",
   "metadata": {},
   "outputs": [],
   "source": [
    "X_treino['tenure'].isnull().sum()"
   ]
  },
  {
   "cell_type": "code",
   "execution_count": null,
   "id": "145e9d31",
   "metadata": {},
   "outputs": [],
   "source": [
    "X_teste['tenure'].isnull().sum()"
   ]
  },
  {
   "cell_type": "code",
   "execution_count": null,
   "id": "639bd35b",
   "metadata": {},
   "outputs": [],
   "source": [
    "X_treino.loc[X_treino['tenure'].isna(), 'tenure'] = X_treino.loc[X_treino['tenure'].isna(), 'TotalCharges'] / X_treino.loc[X_treino['tenure'].isna(), 'MonthlyCharges']"
   ]
  },
  {
   "cell_type": "code",
   "execution_count": null,
   "id": "11fda274",
   "metadata": {},
   "outputs": [],
   "source": [
    "len(X_treino.loc[X_treino['tenure'].isna()])"
   ]
  },
  {
   "cell_type": "code",
   "execution_count": null,
   "id": "684948ec",
   "metadata": {},
   "outputs": [],
   "source": [
    "# Testando modelo com diferente missing data para tenure\n",
    "rl_2 = LogisticRegression(max_iter=500)\n",
    "\n",
    "# Vamos treinar utilizando cross validation\n",
    "valores_f1_rl2 = cross_val_score(estimator=rl_2, \n",
    "                                  X=X_treino, \n",
    "                                  y=y_treino.values.flatten(), \n",
    "                                  cv=10, # 10-fold CV\n",
    "                                  scoring='f1')\n",
    "valores_f1_rl2"
   ]
  },
  {
   "cell_type": "code",
   "execution_count": null,
   "id": "52dbb21c",
   "metadata": {},
   "outputs": [],
   "source": [
    "media_f1_rl2 = valores_f1_rl2.mean()\n",
    "\n",
    "f'f1-score: {media_f1_rl2*100}'"
   ]
  },
  {
   "cell_type": "markdown",
   "id": "156c965f",
   "metadata": {},
   "source": [
    "### Outros tipos de imputação\n",
    "\n",
    "Uma outra forma de imputar é utilizando um modelo preditivo para inferir os dados faltantes! Vamos tentar isso para a variável Dependents? Para tal, vamos utilizar imputação utilizando K nearest neighbors, um algoritmo simples que busca similaridades entre pontos \"vizinhos\" para predizer alguma valor ou classe. No nosso problema, o algoritmo vai prever os dependentes dos clientes que não tem essa informação com base na similaridade desse cliente com outros. Vamos testar também!"
   ]
  },
  {
   "cell_type": "code",
   "execution_count": null,
   "id": "135fc21b",
   "metadata": {},
   "outputs": [],
   "source": [
    "# Buscando o X original de novo! Como vamos mudar somente a coluna de Dependents, vamos buscar somente essa coluna\n",
    "X_treino['Dependents'].isnull().sum()"
   ]
  },
  {
   "cell_type": "code",
   "execution_count": null,
   "id": "4f361257",
   "metadata": {},
   "outputs": [],
   "source": [
    "X_treino['Dependents'] = X_treino_original['Dependents']\n",
    "X_treino['Dependents'].isnull().sum()"
   ]
  },
  {
   "cell_type": "code",
   "execution_count": null,
   "id": "3e7232ee",
   "metadata": {
    "scrolled": true
   },
   "outputs": [],
   "source": [
    "X_treino.isnull().sum()"
   ]
  },
  {
   "cell_type": "code",
   "execution_count": null,
   "id": "8a3f81fa",
   "metadata": {},
   "outputs": [],
   "source": [
    "# imputação fica em \"impute\"\n",
    "from sklearn.impute import KNNImputer\n",
    "\n",
    "imputacao_knn = KNNImputer(n_neighbors=2)\n",
    "treino_imputado = imputacao_knn.fit_transform(X_treino)\n",
    "treino_imputado"
   ]
  },
  {
   "cell_type": "code",
   "execution_count": null,
   "id": "445527d5",
   "metadata": {},
   "outputs": [],
   "source": [
    "imputacao_knn.feature_names_in_"
   ]
  },
  {
   "cell_type": "code",
   "execution_count": null,
   "id": "07d6a763",
   "metadata": {},
   "outputs": [],
   "source": [
    "treino_imputado.shape"
   ]
  },
  {
   "cell_type": "code",
   "execution_count": null,
   "id": "dbba33b6",
   "metadata": {},
   "outputs": [],
   "source": [
    "treino_imputado[:, 3]"
   ]
  },
  {
   "cell_type": "code",
   "execution_count": null,
   "id": "14816d45",
   "metadata": {},
   "outputs": [],
   "source": [
    "X_treino['Dependents'] = treino_imputado[:, 3]\n",
    "X_treino['Dependents'].isnull().sum()"
   ]
  },
  {
   "cell_type": "code",
   "execution_count": null,
   "id": "3826eede",
   "metadata": {},
   "outputs": [],
   "source": [
    "X_treino.head()"
   ]
  },
  {
   "cell_type": "code",
   "execution_count": null,
   "id": "677a2d12",
   "metadata": {},
   "outputs": [],
   "source": [
    "X_treino_original.head()"
   ]
  },
  {
   "cell_type": "markdown",
   "id": "c8961545",
   "metadata": {},
   "source": [
    "#### E lá vamos nós!!"
   ]
  },
  {
   "cell_type": "code",
   "execution_count": null,
   "id": "0eab69f2",
   "metadata": {},
   "outputs": [],
   "source": [
    "# Testando modelo com diferente missing data para dependents\n",
    "rl_3 = LogisticRegression(max_iter=500)\n",
    "\n",
    "# Vamos treinar utilizando cross validation\n",
    "valores_f1_rl3 = cross_val_score(estimator=rl_3, \n",
    "                                  X=X_treino, \n",
    "                                  y=y_treino.values.flatten(), \n",
    "                                  cv=10, # 10-fold CV\n",
    "                                  scoring='f1')\n",
    "valores_f1_rl3"
   ]
  },
  {
   "cell_type": "code",
   "execution_count": null,
   "id": "3a1273a0",
   "metadata": {},
   "outputs": [],
   "source": [
    "media_f1_rl3 = valores_f1_rl3.mean()\n",
    "\n",
    "\n",
    "f'f1-score: {media_f1_rl3*100}'"
   ]
  },
  {
   "cell_type": "markdown",
   "id": "f5b56b1d",
   "metadata": {},
   "source": [
    "### Última tentativa, com diversas variáveis categóricas novas (binárias)\n",
    "\n",
    "Essa parte é muito utilizada na prática para tentar buscar padrões que só o ser humano (por enquanto) consegue avaliar. Esse conhecimento faz muita diferença e devemos nos debruçar muito no problema para criar essas variáveis \"derivadas\". Vamos apelar? :)"
   ]
  },
  {
   "cell_type": "code",
   "execution_count": null,
   "id": "828e7740",
   "metadata": {},
   "outputs": [],
   "source": [
    "X_treino.head()"
   ]
  },
  {
   "cell_type": "code",
   "execution_count": null,
   "id": "9cf8a430",
   "metadata": {},
   "outputs": [],
   "source": [
    "# O cliente tem ou não tem internet\n",
    "X_treino['tem_internet'] = X_treino['InternetService'].isin([1, 2]).astype(int)\n",
    "\n",
    "# Possui alguma fidelidade?\n",
    "X_treino['tem_fidelidade'] = X_treino['Contract'].isin([1, 2]).astype(int)\n",
    "\n",
    "# Vamos contar a quantidade de serviços que o cliente tem contratado\n",
    "X_treino['numero_de_servicos'] = X_treino['tem_internet'] + X_treino['OnlineSecurity_Yes'] + \\\n",
    "        X_treino['MultipleLines_Yes'] + X_treino['OnlineBackup_Yes'] + \\\n",
    "        X_treino['DeviceProtection_Yes'] + X_treino['TechSupport_Yes'] + \\\n",
    "        X_treino['StreamingTV_Yes'] + X_treino['StreamingMovies_Yes'] + \\\n",
    "        X_treino['PhoneService']\n",
    "\n",
    "# Vamos criar um valor por media de cobrança?\n",
    "X_treino['media_cobranca_por_servico'] = X_treino['MonthlyCharges'] / X_treino['numero_de_servicos']\n",
    "X_treino.head()"
   ]
  },
  {
   "cell_type": "code",
   "execution_count": null,
   "id": "ad4997b2",
   "metadata": {},
   "outputs": [],
   "source": [
    "# Testando modelo com diferente missing data para dependents\n",
    "rl_4 = LogisticRegression(max_iter=500)\n",
    "\n",
    "# Vamos treinar utilizando cross validation\n",
    "valores_f1_rl4 = cross_val_score(estimator=rl_4, \n",
    "                                  X=X_treino, \n",
    "                                  y=y_treino.values.flatten(), \n",
    "                                  cv=10, # 10-fold CV\n",
    "                                  scoring='f1')\n",
    "valores_f1_rl4"
   ]
  },
  {
   "cell_type": "code",
   "execution_count": null,
   "id": "0c4aaa60",
   "metadata": {},
   "outputs": [],
   "source": [
    "media_f1_rl4 = valores_f1_rl4.mean()\n",
    "\n",
    "f'f1-score: {media_f1_rl4*100}'"
   ]
  },
  {
   "cell_type": "markdown",
   "id": "a4a196d9",
   "metadata": {},
   "source": [
    "## <a> Modelo Campeão! </a>\n",
    "\n",
    "Agora que temos um modelo campeao (que acabou sendo a regressão logística simprona com tenure imputado com total cobrança dividido pela cobrança mensal! :D), vamos treinar modelo na base de treinamento toda!\n"
   ]
  },
  {
   "cell_type": "code",
   "execution_count": null,
   "id": "3a60ca2f",
   "metadata": {
    "scrolled": true
   },
   "outputs": [],
   "source": [
    "# Bagunçamos bastante o X_treino desde o 1o modelo, vamos retomar (seria mais fácil criar pipelines, mas mostrar os passos é importante)\n",
    "X_treino = X_treino_original\n",
    "X_treino.loc[X_treino['tenure'].isna(), 'tenure'] = X_treino.loc[X_treino['tenure'].isna(), 'TotalCharges'] / X_treino.loc[X_treino['tenure'].isna(), 'MonthlyCharges']\n",
    "X_treino.loc[X_treino['Dependents'].isnull(), 'Dependents'] = mediana_dependents\n",
    "X_treino.loc[X_treino['TotalCharges'].isnull(), 'TotalCharges'] = mediana_total_charges\n",
    "X_treino.loc[X_treino['PaymentMethod'].isnull(), 'PaymentMethod'] = moda_payment_method\n",
    "\n",
    "X_treino.isnull().sum()\n"
   ]
  },
  {
   "cell_type": "code",
   "execution_count": null,
   "id": "5995943e",
   "metadata": {
    "scrolled": true
   },
   "outputs": [],
   "source": [
    "# Mesmo com teste\n",
    "X_teste = X_teste_original\n",
    "X_teste.loc[X_teste['tenure'].isna(), 'tenure'] = X_teste.loc[X_teste['tenure'].isna(), 'TotalCharges'] / X_teste.loc[X_teste['tenure'].isna(), 'MonthlyCharges']\n",
    "X_teste.loc[X_teste['Dependents'].isnull(), 'Dependents'] = mediana_dependents\n",
    "X_teste.loc[X_teste['TotalCharges'].isnull(), 'TotalCharges'] = mediana_total_charges\n",
    "X_teste.loc[X_teste['PaymentMethod'].isnull(), 'PaymentMethod'] = moda_payment_method\n",
    "\n",
    "X_teste.isnull().sum()\n"
   ]
  },
  {
   "cell_type": "code",
   "execution_count": null,
   "id": "16ea3a2f",
   "metadata": {},
   "outputs": [],
   "source": [
    "regressao_logistica.fit(X_treino, y_treino.values.flatten())"
   ]
  },
  {
   "cell_type": "code",
   "execution_count": null,
   "id": "56c54137",
   "metadata": {},
   "outputs": [],
   "source": [
    "regressao_logistica.coef_"
   ]
  },
  {
   "cell_type": "code",
   "execution_count": null,
   "id": "68cbc1dd",
   "metadata": {},
   "outputs": [],
   "source": [
    "df_coeficientes = pd.DataFrame(regressao_logistica.coef_)\n",
    "df_coeficientes.columns=regressao_logistica.feature_names_in_\n",
    "df_coeficientes"
   ]
  },
  {
   "cell_type": "markdown",
   "id": "ceedd3ba",
   "metadata": {},
   "source": [
    "## <a> Finalmente </a>\n",
    "\n",
    "Agora que temos nosso modelo final, podemos fazer inferências dos valores do churn no teste. Percebam que nunca utilizamos o teste PARA NADA, como deve ser."
   ]
  },
  {
   "cell_type": "code",
   "execution_count": null,
   "id": "02129ad6",
   "metadata": {},
   "outputs": [],
   "source": [
    "# ver estimadores scikit learn\n",
    "# estimador é treinado com fit\n",
    "# estimador prediz com predict\n",
    "predicoes_churn = regressao_logistica.predict(X_teste)\n",
    "predicoes_churn[:5]"
   ]
  },
  {
   "cell_type": "code",
   "execution_count": null,
   "id": "2dedcaba",
   "metadata": {},
   "outputs": [],
   "source": [
    "len(predicoes_churn)"
   ]
  },
  {
   "cell_type": "code",
   "execution_count": null,
   "id": "fbf1336c",
   "metadata": {},
   "outputs": [],
   "source": [
    "y_teste.head()"
   ]
  },
  {
   "cell_type": "code",
   "execution_count": null,
   "id": "ad7b4c88",
   "metadata": {
    "scrolled": false
   },
   "outputs": [],
   "source": [
    "predicoes_vs_real = pd.DataFrame({'predicao': predicoes_churn.flatten(), 'real': y_teste.values.flatten()})\n",
    "predicoes_vs_real.head(20)"
   ]
  },
  {
   "cell_type": "code",
   "execution_count": null,
   "id": "3dcdf2cc",
   "metadata": {},
   "outputs": [],
   "source": [
    "# Tudo muito bem, tudo muito bom. Mas será que uma simples média é melhor do \n",
    "# que nosso modelo? Vamos testar o r quadrado\n",
    "from sklearn.metrics import f1_score\n",
    "\n",
    "f1_score(y_true=y_teste, y_pred=predicoes_churn)"
   ]
  },
  {
   "cell_type": "markdown",
   "id": "9bfe118c",
   "metadata": {},
   "source": [
    "56,66% de f1-score, queda no teste te mostra se vale a pena ou não utilizar o modelo em produção. Vamos dar uma olhada na acurácia, só de curiosidade? :)"
   ]
  },
  {
   "cell_type": "code",
   "execution_count": null,
   "id": "17a1a235",
   "metadata": {},
   "outputs": [],
   "source": [
    "from sklearn.metrics import accuracy_score\n",
    "\n",
    "accuracy_score(y_true=y_teste, y_pred=predicoes_churn)"
   ]
  },
  {
   "cell_type": "markdown",
   "id": "7747365e",
   "metadata": {},
   "source": [
    "Acima dos 73% do modelo \"burrinho\", algum ganho por certo."
   ]
  },
  {
   "cell_type": "code",
   "execution_count": null,
   "id": "819c8730",
   "metadata": {},
   "outputs": [],
   "source": []
  }
 ],
 "metadata": {
  "kernelspec": {
   "display_name": "Python 3 (ipykernel)",
   "language": "python",
   "name": "python3"
  },
  "language_info": {
   "codemirror_mode": {
    "name": "ipython",
    "version": 3
   },
   "file_extension": ".py",
   "mimetype": "text/x-python",
   "name": "python",
   "nbconvert_exporter": "python",
   "pygments_lexer": "ipython3",
   "version": "3.11.5"
  }
 },
 "nbformat": 4,
 "nbformat_minor": 5
}
