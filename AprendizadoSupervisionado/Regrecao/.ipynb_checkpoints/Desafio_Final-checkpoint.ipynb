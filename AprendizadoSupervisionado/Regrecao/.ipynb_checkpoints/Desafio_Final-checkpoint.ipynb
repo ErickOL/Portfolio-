{
 "cells": [
  {
   "cell_type": "markdown",
   "metadata": {
    "id": "gDI3gzZerLoe"
   },
   "source": [
    "# <font color = 'Red'> **Desafio de Dados**</font> $→$ <font color = 'GREY'> **FieldPRO**</font>\n"
   ]
  },
  {
   "cell_type": "markdown",
   "metadata": {
    "id": "DtP8U5XeOaK8"
   },
   "source": [
    "## <font color='Blue'> **1° Entender o Problema de Negócio**  </font>"
   ]
  },
  {
   "cell_type": "markdown",
   "metadata": {
    "id": "txRcXSWNLFgQ"
   },
   "source": [
    "#### <font color = 'Chocolate'> **Objetivio**</font>\n",
    "- *O objetivo deste desafio é construir um modelo de calibração de um sensor de chuva baseado em impactos mecânicos*."
   ]
  },
  {
   "cell_type": "markdown",
   "metadata": {
    "id": "vialH2N3PMCm"
   },
   "source": [
    "####  <font color = 'Chocolate'> **Descrição do problema**</font>"
   ]
  },
  {
   "cell_type": "markdown",
   "metadata": {
    "id": "604BeDSRPFxj"
   },
   "source": [
    "\n",
    "O sistema de medição de chuva funciona por meio de uma placa eletrônica com um piezoelétrico, um acumulador de carga e um sensor de temperatura. Os dados são transmitidos de hora em hora.\n",
    "\n",
    "O impacto das gotas de chuva gera vibrações no piezoelétrico, que induzem uma corrente elétrica. A corrente elétrica não é medida diretamente, mas é acumulada ao longo do tempo e gera uma queda na carga do acumulador.\n",
    "\n",
    "A carga do acumulador é medida de hora em hora e transmitida com o\n",
    "nome de `piezo_charge`. A temperatura da placa é transmitida sob o nome\n",
    "`piezo_temperature` e pode ser importante na calibração.\n",
    "\n",
    "Um evento de reset na placa pode afetar o comportamento do acumulador de\n",
    "carga, e o número total de resets da placa desde que foi ligada pela primeira vez é transmitido com o nome `num_of_resets`.\n",
    "\n",
    "As medidas realizadas pelo sensor estão no arquivo `Sensor_FieldPRO`.csv, para comparação, foram utilizadas medidas de uma estação metereológica próxima, que estão no arquivo `Estacao_Convencional.csv`.\n",
    "\n",
    "Outras medidas que podem ser úteis na modelagem são: a temperatura do ar externo `air_temperature_100`, umidade relativa do ar externo `air_humidity_100` e a pressão atmosférica `atm_pressure_main`.\n",
    "\n",
    "As medidas do sensor incluem a carga medida no acumulador, a temperatura da placa, o número de resets da placa e as condições atmosféricas do ambiente.\n",
    "\n",
    "**Bônus:** *Realizar o deploy do modelo em uma plataforma de cloud.\n",
    "Boa Sorte!*"
   ]
  },
  {
   "cell_type": "markdown",
   "metadata": {
    "id": "t9b6jVo7NcxD"
   },
   "source": [
    "#### <font color = 'Chocolate'> **Descrição das Variáveis em mabas as bases de Dados**</font>"
   ]
  },
  {
   "cell_type": "markdown",
   "metadata": {
    "id": "NeKuBVlaLCJz"
   },
   "source": [
    "- **piezo_charge.** $→$ *Carga do acumulador*\n",
    "\n",
    "- **piezo_temperature** $→$ *Temperatura da placa*\n",
    "\n",
    "- **num_of_resets.** $→$ *Número total de resets da placa*\n",
    "\n",
    "- **air_humidity_100** $→$ *Umidade relativa do ar externo*\n",
    "\n",
    "- **air_temperature_100** $→$ *Temperatura do ar externo*\n",
    "\n",
    "- **atm_pressure_main** $→$ *Pressão atmosférica*\n",
    "\n",
    "- **Hora (Brasília)** $→$ *Fuso horário* (hora)\n",
    "- **Datetime – utc** $→$ *Data*\n",
    "- **chuva** $→$ *Chuva*"
   ]
  },
  {
   "cell_type": "markdown",
   "metadata": {
    "id": "h9VSRVCfSgth"
   },
   "source": [
    "## <font color='Blue'> **2° Entendendo os Dados**  </font> $ →$ <font color='Black'> *Análise Exploratória de Dados (EDA)*  </font>\n",
    "\n"
   ]
  },
  {
   "cell_type": "markdown",
   "metadata": {
    "id": "hhWtu_1RtDir"
   },
   "source": [
    "#### **Bibliotecas**"
   ]
  },
  {
   "cell_type": "code",
   "execution_count": null,
   "metadata": {
    "colab": {
     "base_uri": "https://localhost:8080/"
    },
    "id": "C1Lls9tJrOQz",
    "outputId": "b8031cb0-7863-430a-d764-43778e83ef0e"
   },
   "outputs": [],
   "source": [
    "# Importando as Bibliotecas e Funções Necessárias\n",
    "import pandas as pd\n",
    "import numpy as np\n",
    "import seaborn as sns\n",
    "import matplotlib.pyplot as plt\n",
    "import math\n",
    "\n",
    "from sklearn.model_selection import train_test_split\n",
    "from sklearn.ensemble import RandomForestRegressor\n",
    "from sklearn.tree import DecisionTreeRegressor\n",
    "from sklearn.metrics import mean_squared_error,r2_score, mean_absolute_percentage_error, mean_absolute_error\n",
    "from sklearn.preprocessing import MinMaxScaler\n",
    "from sklearn.model_selection import cross_val_score, GridSearchCV\n",
    "\n",
    "# Configurações de Ambiente\n",
    "pd.set_option('display.max_rows', None)\n",
    "pd.set_option('display.max_columns', None)\n",
    "pd.set_option('display.float_format', lambda x: '%.2f' % x)\n",
    "sns.set_theme(color_codes=True)\n",
    "\n",
    "# Ignorando Alertas\n",
    "import warnings\n",
    "warnings.filterwarnings(\"ignore\")\n",
    "\n",
    "# Exibindo os gráfico nesse Notebook\n",
    "%matplotlib inline"
   ]
  },
  {
   "cell_type": "markdown",
   "metadata": {
    "id": "bKAFrUfhsw47"
   },
   "source": [
    " #### **Importando os Dados**"
   ]
  },
  {
   "cell_type": "code",
   "execution_count": null,
   "metadata": {
    "id": "3W7LCG3Cswlm"
   },
   "outputs": [],
   "source": [
    "df_sensor = pd.read_csv('Sensor_FieldPRO.csv')\n",
    "df_estacao = pd.read_csv('Estacao_Convencional.csv')"
   ]
  },
  {
   "cell_type": "markdown",
   "metadata": {
    "id": "8vAgVtbtXtB0"
   },
   "source": [
    "##### **Visualizando os Dados**"
   ]
  },
  {
   "cell_type": "code",
   "execution_count": null,
   "metadata": {
    "colab": {
     "base_uri": "https://localhost:8080/",
     "height": 206
    },
    "id": "w_Ij3BllX2YK",
    "outputId": "b5a4b7a2-1231-4a9a-810d-72984ea6b41f"
   },
   "outputs": [],
   "source": [
    "df_sensor.head()"
   ]
  },
  {
   "cell_type": "markdown",
   "metadata": {
    "id": "DN7fPwCDddyo"
   },
   "source": [
    "- **Verificando informações dos dados**"
   ]
  },
  {
   "cell_type": "code",
   "execution_count": null,
   "metadata": {
    "colab": {
     "base_uri": "https://localhost:8080/"
    },
    "id": "7VWKLPzmdn79",
    "outputId": "8e7d232e-2523-4800-aa4c-1e362d477d8b"
   },
   "outputs": [],
   "source": [
    "df_sensor.shape"
   ]
  },
  {
   "cell_type": "code",
   "execution_count": null,
   "metadata": {
    "colab": {
     "base_uri": "https://localhost:8080/"
    },
    "id": "pHHoQXKfdBrP",
    "outputId": "ea4e51a7-0c1c-4c7d-ce58-1ba3a468ebc5"
   },
   "outputs": [],
   "source": [
    "df_sensor.info()"
   ]
  },
  {
   "cell_type": "code",
   "execution_count": null,
   "metadata": {
    "colab": {
     "base_uri": "https://localhost:8080/"
    },
    "id": "v88rHt5Zc5s9",
    "outputId": "23460b8c-f399-473f-aaf1-97c58db0a2cc"
   },
   "outputs": [],
   "source": [
    "df_sensor.dtypes"
   ]
  },
  {
   "cell_type": "code",
   "execution_count": null,
   "metadata": {
    "colab": {
     "base_uri": "https://localhost:8080/",
     "height": 206
    },
    "id": "AF5XezpbX5uX",
    "outputId": "3da2e24e-1b27-4570-ac3a-da4c015d4980"
   },
   "outputs": [],
   "source": [
    "df_estacao.head()"
   ]
  },
  {
   "cell_type": "code",
   "execution_count": null,
   "metadata": {
    "colab": {
     "base_uri": "https://localhost:8080/"
    },
    "id": "wEtkd82vdzJp",
    "outputId": "e651c5de-0f76-4c03-a9f5-f9672dadde77"
   },
   "outputs": [],
   "source": [
    "df_estacao.shape"
   ]
  },
  {
   "cell_type": "code",
   "execution_count": null,
   "metadata": {
    "colab": {
     "base_uri": "https://localhost:8080/"
    },
    "id": "Mbm4TxTTd3Cz",
    "outputId": "df576bf3-ed49-4177-9818-bc4a579567c0"
   },
   "outputs": [],
   "source": [
    "df_estacao.dtypes"
   ]
  },
  {
   "cell_type": "markdown",
   "metadata": {
    "id": "9ZYeI0WUe0p4"
   },
   "source": [
    "##### **Verificando valores ausentes**"
   ]
  },
  {
   "cell_type": "code",
   "execution_count": null,
   "metadata": {},
   "outputs": [],
   "source": [
    "def missingvalue(data):\n",
    "    missing_value = data.isnull().sum(axis=0).reset_index()\n",
    "    missing_value.columns = ['variable', 'number_of_missing']\n",
    "    missing_value['percentage_of_missing'] = (missing_value['number_of_missing']) / data.shape[0] * 100\n",
    "    mv = missing_value.sort_values('percentage_of_missing', ascending=False).reset_index(drop=True)\n",
    "    \n",
    "    # Formata a coluna 'percentage_of_missing' com o símbolo de porcentagem\n",
    "    mv['percentage_of_missing'] = mv['percentage_of_missing'].apply(lambda x: f'{x:.2f}%')\n",
    "    \n",
    "    return mv\n",
    "\n",
    "df_missing_sensor = missingvalue(df_sensor)\n",
    "df_missing_sensor"
   ]
  },
  {
   "cell_type": "code",
   "execution_count": null,
   "metadata": {
    "colab": {
     "base_uri": "https://localhost:8080/",
     "height": 143
    },
    "id": "W2xCz8JpfAr-",
    "outputId": "2f97c3de-147c-499c-e2cb-cc2c15b5f2ee"
   },
   "outputs": [],
   "source": [
    "def missingvalue(data):\n",
    "    missing_value = data.isnull().sum(axis=0).reset_index()\n",
    "    missing_value.columns = ['variable', 'number_of_missing']\n",
    "    missing_value['percentage_of_missing'] = (missing_value['number_of_missing']) / data.shape[0] * 100\n",
    "    mv = missing_value.sort_values('percentage_of_missing', ascending=False).reset_index(drop=True)\n",
    "    \n",
    "    # Formata a coluna 'percentage_of_missing' com o símbolo de porcentagem\n",
    "    mv['percentage_of_missing'] = mv['percentage_of_missing'].apply(lambda x: f'{x:.2f}%')\n",
    "    \n",
    "    return mv\n",
    "\n",
    "df_missing_estacao = missingvalue(df_estacao)\n",
    "df_missing_estacao \n"
   ]
  },
  {
   "cell_type": "markdown",
   "metadata": {
    "id": "4lyq78txfM7Z"
   },
   "source": [
    "**Considerações**\n",
    "\n",
    "- Pode-se observar que temos menos que $1$% de valores ausente na base dedados `df_senor` para as colunas **air_humidity_100** e  **air_temperature_100**, por esse motivos vamos exclui-los da nossa base de dados."
   ]
  },
  {
   "cell_type": "code",
   "execution_count": null,
   "metadata": {
    "colab": {
     "base_uri": "https://localhost:8080/"
    },
    "id": "Wziz7JNKewEL",
    "outputId": "92a66f08-d454-49ae-b0b4-50cba4912c3c"
   },
   "outputs": [],
   "source": [
    "df_sensor.dropna(inplace=True)\n",
    "df_sensor.isnull().sum()"
   ]
  },
  {
   "cell_type": "markdown",
   "metadata": {
    "id": "7XLW5Ejes2v2"
   },
   "source": [
    "#### **Juntando as Bases**\n",
    "- Excluindo algumas colunas que não apresentam grande impacto no modelo"
   ]
  },
  {
   "cell_type": "code",
   "execution_count": null,
   "metadata": {
    "colab": {
     "base_uri": "https://localhost:8080/",
     "height": 206
    },
    "id": "VccORbRyswZN",
    "outputId": "f99c80de-25b0-4d1e-ac5e-d78a8ae27c66"
   },
   "outputs": [],
   "source": [
    "df = pd.concat([df_sensor, df_estacao], axis=1)\n",
    "df = df.drop(columns=['Datetime – utc', 'data', 'Hora (Brasília)'], axis=1)\n",
    "df.head()"
   ]
  },
  {
   "cell_type": "markdown",
   "metadata": {
    "id": "7X_gjB5ceg7g"
   },
   "source": [
    "#### *Eliminando Duplicidade e Valores ausentes adicionados na EDA*"
   ]
  },
  {
   "cell_type": "code",
   "execution_count": null,
   "metadata": {
    "colab": {
     "base_uri": "https://localhost:8080/",
     "height": 206
    },
    "id": "i23YoaTshTU5",
    "outputId": "62e9cd1e-574f-49f2-edee-5486aac5e21b"
   },
   "outputs": [],
   "source": [
    "df.dropna(inplace=True)\n",
    "df.drop_duplicates(inplace=True)\n",
    "df.head()"
   ]
  },
  {
   "cell_type": "code",
   "execution_count": null,
   "metadata": {
    "colab": {
     "base_uri": "https://localhost:8080/"
    },
    "id": "hDlvF33BhjUX",
    "outputId": "458cb684-3cc5-4e71-d68c-568eecbc6e06"
   },
   "outputs": [],
   "source": [
    "df.shape"
   ]
  },
  {
   "cell_type": "markdown",
   "metadata": {},
   "source": [
    "- **Salvando a base de dados limpa**"
   ]
  },
  {
   "cell_type": "code",
   "execution_count": null,
   "metadata": {},
   "outputs": [],
   "source": [
    "# Salvando o DataFrame como arquivo CSV\n",
    "nome_arquivo_csv = 'df_clear.csv'\n",
    "df.to_csv(nome_arquivo_csv, index=False)"
   ]
  },
  {
   "cell_type": "markdown",
   "metadata": {
    "id": "XOCplF01h0r7"
   },
   "source": [
    "#### **Análise Matemática** - Estatística Descritiva"
   ]
  },
  {
   "cell_type": "code",
   "execution_count": null,
   "metadata": {},
   "outputs": [],
   "source": [
    "def plot_heatmap(dataframe):\n",
    "    f, ax = plt.subplots(figsize=(10, dataframe.shape[1]*0.78))\n",
    "    sns.heatmap(dataframe,\n",
    "                annot=True,\n",
    "                cmap=\"viridis\",\n",
    "                fmt='.2f',\n",
    "                ax=ax,\n",
    "                linecolor='white',\n",
    "                linewidths=1.3,\n",
    "                cbar=False,\n",
    "                annot_kws={\"size\": 12})\n",
    "    plt.xticks(size=18)\n",
    "    plt.yticks(size=14, rotation=0)\n",
    "    plt.title(\"Estatística Descritiva\", size=20)\n",
    "    plt.show()\n",
    "\n",
    "def desc_stats(dataframe):\n",
    "    desc = dataframe.describe().T\n",
    "    plot_heatmap(desc)\n",
    "\n",
    "desc_stats(df.select_dtypes(include=[np.number]))\n"
   ]
  },
  {
   "cell_type": "markdown",
   "metadata": {
    "id": "lJhq2FJziS36"
   },
   "source": [
    "#### **Criando algumas Visualizações**"
   ]
  },
  {
   "cell_type": "code",
   "execution_count": null,
   "metadata": {
    "colab": {
     "base_uri": "https://localhost:8080/",
     "height": 458
    },
    "id": "3KtQmh_niW0-",
    "outputId": "08f4b9bb-b4e9-4e3f-d66e-de72bf9d925e"
   },
   "outputs": [],
   "source": [
    "# Analisando as distribuições do índice de massa corporal\n",
    "sns.set_style(\"darkgrid\")\n",
    "plt.tight_layout()\n",
    "\n",
    "sns.histplot(data=df, x='piezo_charge');"
   ]
  },
  {
   "cell_type": "code",
   "execution_count": null,
   "metadata": {
    "colab": {
     "base_uri": "https://localhost:8080/",
     "height": 458
    },
    "id": "JMATa-4uikmP",
    "outputId": "ebdb7338-85b1-4504-e250-1e9ed4496de5"
   },
   "outputs": [],
   "source": [
    "# Analisando a variável target: valor do seguro\n",
    "sns.histplot(data=df['chuva']);"
   ]
  },
  {
   "cell_type": "code",
   "execution_count": null,
   "metadata": {
    "colab": {
     "base_uri": "https://localhost:8080/",
     "height": 458
    },
    "id": "l2xWNpmXiw2j",
    "outputId": "a6aa42a3-801e-43a6-a4ee-c02f2c607d70"
   },
   "outputs": [],
   "source": [
    "# Analisando a variável target: valor do seguro\n",
    "sns.histplot(data=df['num_of_resets']);"
   ]
  },
  {
   "cell_type": "code",
   "execution_count": null,
   "metadata": {},
   "outputs": [],
   "source": [
    "def plot_numerical_variables_boxplot(df):\n",
    "    # list of numerical variables to plot\n",
    "    num_vars = df.select_dtypes(include=[np.number])\n",
    "\n",
    "    # create figure with subplots\n",
    "    num_cols = len(num_vars.columns)\n",
    "    num_rows = (num_cols + 2) // 3\n",
    "    fig, axs = plt.subplots(nrows=num_rows, ncols=3, figsize=(20, 5*num_rows))\n",
    "    axs = axs.flatten()\n",
    "\n",
    "    # create violinplot for each numerical variable\n",
    "    for i, var in enumerate(num_vars):\n",
    "        sns.boxplot(x=var, data=df, ax=axs[i])\n",
    "\n",
    "    # adjust spacing between subplots\n",
    "    fig.tight_layout()\n",
    "\n",
    "    # remove any extra subplots\n",
    "    if num_cols < len(axs):\n",
    "        for i in range(num_cols, len(axs)):\n",
    "            fig.delaxes(axs[i])\n",
    "\n",
    "    plt.show();\n",
    "\n",
    "    # Chamada da função\n",
    "plot_numerical_variables_boxplot(df)"
   ]
  },
  {
   "cell_type": "code",
   "execution_count": null,
   "metadata": {
    "colab": {
     "base_uri": "https://localhost:8080/",
     "height": 851
    },
    "id": "4eF3MArAjFMV",
    "outputId": "939debe9-5e0a-49fd-f57f-20880aab0950"
   },
   "outputs": [],
   "source": [
    "def plot_numerical_variables_violin(df):\n",
    "    # list of numerical variables to plot\n",
    "    num_vars = df.select_dtypes(include=[np.number])\n",
    "\n",
    "    # create figure with subplots\n",
    "    num_cols = len(num_vars.columns)\n",
    "    num_rows = (num_cols + 2) // 3\n",
    "    fig, axs = plt.subplots(nrows=num_rows, ncols=3, figsize=(20, 5*num_rows))\n",
    "    axs = axs.flatten()\n",
    "\n",
    "    # create violinplot for each numerical variable\n",
    "    for i, var in enumerate(num_vars):\n",
    "        sns.violinplot(x=var, data=df, ax=axs[i])\n",
    "\n",
    "    # adjust spacing between subplots\n",
    "    fig.tight_layout()\n",
    "\n",
    "    # remove any extra subplots\n",
    "    if num_cols < len(axs):\n",
    "        for i in range(num_cols, len(axs)):\n",
    "            fig.delaxes(axs[i])\n",
    "\n",
    "    plt.show();\n",
    "\n",
    "    # Chamada da função\n",
    "plot_numerical_variables_violin(df)"
   ]
  },
  {
   "cell_type": "code",
   "execution_count": null,
   "metadata": {},
   "outputs": [],
   "source": []
  },
  {
   "cell_type": "markdown",
   "metadata": {
    "id": "zII6dvJfTC-Y"
   },
   "source": [
    "## <font color='Blue'> **3° Preparação dos Dados**  </font> $ →$ <font color='Black'> *Pré-Processamento*  </font>"
   ]
  },
  {
   "cell_type": "markdown",
   "metadata": {
    "id": "DsNzQd8zjVLR"
   },
   "source": [
    "##### **Analisando a Correlação entre as variáveis**"
   ]
  },
  {
   "cell_type": "code",
   "execution_count": null,
   "metadata": {
    "colab": {
     "base_uri": "https://localhost:8080/",
     "height": 1000
    },
    "id": "KFtTvVuVjc3B",
    "outputId": "258e2bc7-d5ff-46e2-f4fd-1698552dc481"
   },
   "outputs": [],
   "source": [
    "corr = df.corr()\n",
    "plt.figure(figsize = (10, 10))\n",
    "plt.title('Correlação entre features')\n",
    "sns.heatmap(corr,\n",
    "            cmap = 'Blues',\n",
    "            annot = True,\n",
    "            vmin=-1,\n",
    "            vmax=1,\n",
    "            linewidths=2\n",
    "           );"
   ]
  },
  {
   "cell_type": "markdown",
   "metadata": {
    "id": "_CCo9uH5ju-W"
   },
   "source": [
    "- **Filtrando as Variáveis com correlação superior que $85$%**"
   ]
  },
  {
   "cell_type": "code",
   "execution_count": null,
   "metadata": {
    "colab": {
     "base_uri": "https://localhost:8080/"
    },
    "id": "BvYUGdQXj7jf",
    "outputId": "7c978f47-82e7-41ea-8350-f7b5e252954f"
   },
   "outputs": [],
   "source": [
    "p = 0.85 # correlação mínima\n",
    "var = []\n",
    "for i in corr.columns:\n",
    "    for j in corr.columns:\n",
    "        if(i != j):\n",
    "            if np.abs(corr[i][j]) > p: # se for maior do que |p|\n",
    "                var.append([i,j])\n",
    "print('As Variáveis mais correlacionadas são → {}'.format(var))"
   ]
  },
  {
   "cell_type": "markdown",
   "metadata": {
    "id": "xNiH76cQkm3v"
   },
   "source": [
    "**Considerações**\n",
    "\n",
    "- Pode-se observar que temos uma alta correlação entre as variáveis:\n",
    "\n",
    "  - *air_temperature_100*\n",
    "\n",
    "  - *piezo_temperature*\n",
    "\n",
    "- Essas variáveis estão altamente correlaciondas, e isso pode nos gerar um problema conehcido como *multicollinearity*. Para resolver esse problema, vamos eliminar uma delas. Nesse caso, vamos eliminar a variável **piezo_temperature** dos nossos dados, porque não podemos permanecer com as duas variáveis visto que estão tratando de um problema de regressão."
   ]
  },
  {
   "cell_type": "code",
   "execution_count": null,
   "metadata": {
    "colab": {
     "base_uri": "https://localhost:8080/",
     "height": 206
    },
    "id": "ukUhMEuSlseg",
    "outputId": "ce60a630-d581-484f-bb00-bededc4fafb3"
   },
   "outputs": [],
   "source": [
    "df.drop(columns=['piezo_temperature'], axis=1, inplace=True)\n",
    "df.head()"
   ]
  },
  {
   "cell_type": "markdown",
   "metadata": {
    "id": "CSDEmpxymiAy"
   },
   "source": [
    "#### **Separando as variáveis em Independentes e dependente**:\n",
    "\n",
    "- **Preditoras** *(Variáveis Independentes)* $→$ $(X)$\n",
    "\n",
    "- **Target** *(Variável dependente)* $→$ $(y)$\n",
    "\n",
    "Ou seja, vamos definir quem é o $X$ e quem é o $y$."
   ]
  },
  {
   "cell_type": "code",
   "execution_count": null,
   "metadata": {
    "id": "YqWsUn5Rmi4o"
   },
   "outputs": [],
   "source": [
    "# Sperando em X e y\n",
    "X = df.drop('chuva', axis=1)\n",
    "y = df[['chuva']]"
   ]
  },
  {
   "cell_type": "code",
   "execution_count": null,
   "metadata": {
    "colab": {
     "base_uri": "https://localhost:8080/",
     "height": 206
    },
    "id": "ftGv5KcMm2oK",
    "outputId": "2e488c18-de1a-43a4-dbfc-f926a7ca021e"
   },
   "outputs": [],
   "source": [
    "# Visualizando as variáveis preditoras\n",
    "X.head()"
   ]
  },
  {
   "cell_type": "code",
   "execution_count": null,
   "metadata": {
    "colab": {
     "base_uri": "https://localhost:8080/",
     "height": 206
    },
    "id": "-qG0_BCIm5HD",
    "outputId": "2f06bd5b-d1f6-4f87-e9b4-309ea703a226"
   },
   "outputs": [],
   "source": [
    "# Visualizando a variável dependente\n",
    "y.head()"
   ]
  },
  {
   "cell_type": "markdown",
   "metadata": {
    "id": "yBsu6lPcnDHI"
   },
   "source": [
    "### **Separando os dados em**:\n",
    "\n",
    "- *Dados de treino*\n",
    "\n",
    "- *Dados de teste*"
   ]
  },
  {
   "cell_type": "code",
   "execution_count": null,
   "metadata": {
    "colab": {
     "base_uri": "https://localhost:8080/"
    },
    "id": "KLnXQBcVnF14",
    "outputId": "419d27f0-cba8-4e59-e439-c8c69bdaba05"
   },
   "outputs": [],
   "source": [
    "# Devolve uma tupla com 4 elementos: X de treino, X de teste, y de treino, y de teste\n",
    "X_treino, X_teste, y_treino, y_teste = train_test_split(X, # preditoras\n",
    "                                                        y, # target\n",
    "                                                        test_size=.2,\n",
    "                                                        random_state=42)\n",
    "\n",
    "# Vamos ver quantas linhas ficamos com treino e teste\n",
    "X_treino.shape, X_teste.shape, y_treino.shape, y_teste.shape"
   ]
  },
  {
   "cell_type": "markdown",
   "metadata": {
    "id": "PDsdfg9wnqVY"
   },
   "source": [
    "### <font color = 'Chocol'> **Normalizando os Dados**</font>\n",
    "- **A normalização é quando os dados estão no intervalo entre** $0$ e $1$"
   ]
  },
  {
   "cell_type": "code",
   "execution_count": null,
   "metadata": {
    "colab": {
     "base_uri": "https://localhost:8080/"
    },
    "id": "uti8Ez8Nnrha",
    "outputId": "340787fe-27d5-4e36-8fce-dfc89d5d1c77"
   },
   "outputs": [],
   "source": [
    "# Criar scaler\n",
    "scaler = MinMaxScaler()\n",
    "\n",
    "colunas = X_treino.columns\n",
    "\n",
    "# Parte importante!! Fit no treino! Transform no treino e teste\n",
    "X_treino[colunas] = scaler.fit_transform(X_treino)\n",
    "X_teste[colunas] = scaler.transform(X_teste)\n",
    "\n",
    "X_treino.shape, X_teste.shape"
   ]
  },
  {
   "cell_type": "code",
   "execution_count": null,
   "metadata": {
    "colab": {
     "base_uri": "https://localhost:8080/",
     "height": 206
    },
    "id": "HVHG7g05n3W_",
    "outputId": "1a6b1a7e-a056-4b27-c29e-ec4620234071"
   },
   "outputs": [],
   "source": [
    "X_treino.head()"
   ]
  },
  {
   "cell_type": "code",
   "execution_count": null,
   "metadata": {
    "colab": {
     "base_uri": "https://localhost:8080/",
     "height": 300
    },
    "id": "kpGMPCnJn8AI",
    "outputId": "ce30a4f3-bc8f-4bf7-f960-644dddaa9912"
   },
   "outputs": [],
   "source": [
    "X_treino.describe()"
   ]
  },
  {
   "cell_type": "code",
   "execution_count": null,
   "metadata": {
    "colab": {
     "base_uri": "https://localhost:8080/",
     "height": 300
    },
    "id": "nWOaWYmgoASb",
    "outputId": "448a5773-ae3a-43ca-9da4-a8f6a6da3f79"
   },
   "outputs": [],
   "source": [
    "X_teste.describe()"
   ]
  },
  {
   "cell_type": "markdown",
   "metadata": {
    "id": "bMHH1JXmTiKf"
   },
   "source": [
    "## <font color='Blue'> **4° Modelagem**</font> $ →$ <font color='Black'> *Construção e a escolha do melhor do Modelo*  </font>"
   ]
  },
  {
   "cell_type": "markdown",
   "metadata": {
    "id": "SEOnlQSzoMH4"
   },
   "source": [
    "#### <font color='DeepSkyBlue'> **Construção e a escolha do melhor do Modelo**  </font>\n",
    "\n",
    "- Vamos treinar dois modelos.\n",
    "\n",
    "- Iremos utilizar **cross validation** para escolher o melhor modelo de forma a evitarmos o `overfit` e termos uma base boa para fazermos a  comparação entre os modelos"
   ]
  },
  {
   "cell_type": "markdown",
   "metadata": {
    "id": "IieIO6I6r_-C"
   },
   "source": [
    "### <font color='DeepSky'> **Random Forest Regressor**  </font>\n"
   ]
  },
  {
   "cell_type": "code",
   "execution_count": null,
   "metadata": {
    "colab": {
     "base_uri": "https://localhost:8080/"
    },
    "id": "laGpUBUioQVZ",
    "outputId": "59882494-5b28-462a-d7be-5e3d005fd89a"
   },
   "outputs": [],
   "source": [
    "# Criando o estimador, algorimo, modelo, preditor, regressor (virge, que tanto de nome!)\n",
    "rf = RandomForestRegressor()\n",
    "\n",
    "# Vamos treinar utilizando cross validation\n",
    "valores_rmse_rf = cross_val_score(estimator=rf,\n",
    "                                  X=X_treino,\n",
    "                                  y=y_treino,\n",
    "                                  cv=10, # 10-fold CV\n",
    "                                  scoring='neg_root_mean_squared_error')\n",
    "valores_rmse_rf"
   ]
  },
  {
   "cell_type": "code",
   "execution_count": null,
   "metadata": {
    "colab": {
     "base_uri": "https://localhost:8080/"
    },
    "id": "d9jP7Jg5oZ--",
    "outputId": "28023a10-336b-424f-ac14-a83566b23341"
   },
   "outputs": [],
   "source": [
    "valores_rmse_rf = valores_rmse_rf * -1\n",
    "valores_rmse_rf"
   ]
  },
  {
   "cell_type": "code",
   "execution_count": null,
   "metadata": {
    "colab": {
     "base_uri": "https://localhost:8080/"
    },
    "id": "sQTqWet_oceP",
    "outputId": "62d92b0f-57dc-4918-f0bb-877f159f1f1f"
   },
   "outputs": [],
   "source": [
    "valores_rmse_rf = valores_rmse_rf.mean()\n",
    "valores_rmse_rf"
   ]
  },
  {
   "cell_type": "markdown",
   "metadata": {
    "id": "ULnxrpfIoiPQ"
   },
   "source": [
    "### <font color='DeepSky'> **Decision Tree Regressor**  </font>"
   ]
  },
  {
   "cell_type": "code",
   "execution_count": null,
   "metadata": {
    "colab": {
     "base_uri": "https://localhost:8080/"
    },
    "id": "Braszwq-oi8A",
    "outputId": "4dd8e83e-c791-4857-db7a-f48150ed9104"
   },
   "outputs": [],
   "source": [
    "dtree = DecisionTreeRegressor()\n",
    "\n",
    "# Vamos treinar utilizando cross validation (sempre!!)\n",
    "valores_rmse_dtree = cross_val_score(estimator=dtree,\n",
    "                                      X=X_treino,\n",
    "                                      y=y_treino,\n",
    "                                      cv=10, #\n",
    "                                  scoring='neg_root_mean_squared_error')\n",
    "valores_rmse_dtree"
   ]
  },
  {
   "cell_type": "code",
   "execution_count": null,
   "metadata": {
    "colab": {
     "base_uri": "https://localhost:8080/"
    },
    "id": "BDTsuTwlooVO",
    "outputId": "4b8bd905-1ad0-4679-ee2e-7b92cf84bd0d"
   },
   "outputs": [],
   "source": [
    "valores_rmse_dtree = valores_rmse_dtree * -1\n",
    "valores_rmse_dtree"
   ]
  },
  {
   "cell_type": "code",
   "execution_count": null,
   "metadata": {
    "colab": {
     "base_uri": "https://localhost:8080/"
    },
    "id": "jShmXg7hopiz",
    "outputId": "8f117def-4b5b-4284-9f7e-ab31e0c35b55"
   },
   "outputs": [],
   "source": [
    "valores_rmse_dtree = valores_rmse_dtree.mean()\n",
    "valores_rmse_dtree"
   ]
  },
  {
   "cell_type": "markdown",
   "metadata": {
    "id": "mDC1Nr8PYgcH"
   },
   "source": [
    "### <font color='Dee'> **Comparando os modelos**  </font>"
   ]
  },
  {
   "cell_type": "code",
   "execution_count": null,
   "metadata": {
    "colab": {
     "base_uri": "https://localhost:8080/",
     "height": 112
    },
    "id": "oyfqx1rF82Hc",
    "outputId": "8e9d9c5f-9398-4f5c-deee-bc9d27894079"
   },
   "outputs": [],
   "source": [
    "rmse_data = {\n",
    "    'Modelos': ['Random Forest', 'Decision Tree'],\n",
    "    'RMSE': [valores_rmse_rf, valores_rmse_dtree]\n",
    "}\n",
    "\n",
    "rmse_df = pd.DataFrame(rmse_data)\n",
    "rmse_df"
   ]
  },
  {
   "cell_type": "code",
   "execution_count": null,
   "metadata": {
    "colab": {
     "base_uri": "https://localhost:8080/",
     "height": 573
    },
    "id": "y0hwd-GP3uD3",
    "outputId": "7018072e-dd0a-462d-9b04-13db93645881"
   },
   "outputs": [],
   "source": [
    "data = {\n",
    "    'Modelos': ['Random Forest', 'Decision Tree'],\n",
    "    'RMSE': [0.31, 0.37]\n",
    "}\n",
    "\n",
    "df = pd.DataFrame(data)\n",
    "\n",
    "# Visualizando em um Gráfico de Barras\n",
    "plt.figure(figsize=(8, 6))\n",
    "sns.barplot(x='Modelos', y='RMSE', data=df, palette='Set2')\n",
    "plt.xlabel('Modelos')\n",
    "plt.ylabel('RMSE')\n",
    "plt.title('Comparação de RMSE entre Random Forest e Decision Tree')\n",
    "plt.show()"
   ]
  },
  {
   "cell_type": "markdown",
   "metadata": {
    "id": "0WCHsabOULDT"
   },
   "source": [
    "## <font color='Blue'> **5° Avaliação**</font> $ →$ <font color='Black'> *Avaliação dos Resultados dos Modelos*  </font>"
   ]
  },
  {
   "cell_type": "markdown",
   "metadata": {
    "id": "MjnATMnJt7_8"
   },
   "source": [
    "**Considerações**\n",
    "\n",
    "- Como pode-se observar o modelo campeão foi o **Random Forest Regressor**\n",
    "\n",
    "  - *Agora vamos treinar o nosso modelo utilizando a base de treino toda!*\n",
    "\n",
    "- *Depois que nosso modelo for terinado podemos fazer inferências dos valores do **Sensor de Chuva** no dados de teste*."
   ]
  },
  {
   "cell_type": "code",
   "execution_count": null,
   "metadata": {
    "colab": {
     "base_uri": "https://localhost:8080/"
    },
    "id": "pkVmsFz2qer1",
    "outputId": "0b7ffb0c-ccb8-4ab7-8a5a-e05cddcf9f33"
   },
   "outputs": [],
   "source": [
    "# Treinando o modelo\n",
    "rf.fit(X_treino, y_treino)\n",
    "\n",
    "sensor_predito = rf.predict(X_teste)\n",
    "sensor_predito[:10]"
   ]
  },
  {
   "cell_type": "code",
   "execution_count": null,
   "metadata": {
    "colab": {
     "base_uri": "https://localhost:8080/"
    },
    "id": "VLTBjIdOrYlz",
    "outputId": "9c34e253-f296-4db6-8067-ed049a13f953"
   },
   "outputs": [],
   "source": [
    "len(sensor_predito)"
   ]
  },
  {
   "cell_type": "code",
   "execution_count": null,
   "metadata": {
    "colab": {
     "base_uri": "https://localhost:8080/",
     "height": 206
    },
    "id": "75Q6g0CMrcih",
    "outputId": "3d6df827-051d-4306-f741-675ec2090a61"
   },
   "outputs": [],
   "source": [
    "y_teste.head()"
   ]
  },
  {
   "cell_type": "markdown",
   "metadata": {
    "id": "b2rGD11kxJcY"
   },
   "source": [
    "##### **Criando um DataFrame de comparação**"
   ]
  },
  {
   "cell_type": "code",
   "execution_count": null,
   "metadata": {
    "colab": {
     "base_uri": "https://localhost:8080/",
     "height": 519
    },
    "id": "VThloTsErfzZ",
    "outputId": "fb58a2ea-37d9-46d8-d2db-1220af379d06"
   },
   "outputs": [],
   "source": [
    "predicoes_vs_real = pd.DataFrame({'predicao': sensor_predito.flatten(), 'real': y_teste.values.flatten()})\n",
    "predicoes_vs_real['diferenca_abs'] = abs(predicoes_vs_real['predicao'] - predicoes_vs_real['real'])\n",
    "predicoes_vs_real.head(15)"
   ]
  },
  {
   "cell_type": "markdown",
   "metadata": {
    "id": "UddJ7u3sxQXI"
   },
   "source": [
    "##### **Visualizando o valor das metricas**"
   ]
  },
  {
   "cell_type": "code",
   "execution_count": null,
   "metadata": {
    "colab": {
     "base_uri": "https://localhost:8080/"
    },
    "id": "u3R7GNeWylr2",
    "outputId": "df3b6cea-98ea-45b3-a690-cb89d72e289a"
   },
   "outputs": [],
   "source": [
    "y_pred = rf.predict(X_teste)\n",
    "mae = mean_absolute_error(y_teste, y_pred)\n",
    "mape = mean_absolute_percentage_error(y_teste, y_pred)\n",
    "mse = mean_squared_error(y_teste, y_pred)\n",
    "r2 = r2_score(y_teste, y_pred)\n",
    "rmse = math.sqrt(mse)\n",
    "\n",
    "print('MAE is {}'.format(mae))\n",
    "print('MAPE is {}'.format(mape))\n",
    "print('MSE is {}'.format(mse))\n",
    "print('R2 score is {}'.format(r2))\n",
    "print('RMSE score is {}'.format(rmse))"
   ]
  },
  {
   "cell_type": "markdown",
   "metadata": {
    "id": "-N96lIOMJMee"
   },
   "source": [
    "### <font color = 'CornflowerBlue'> **Defindo os Hiperparâmetros para ajustar melhor os valores do nosso modelo**</font>\n",
    "\n"
   ]
  },
  {
   "cell_type": "code",
   "execution_count": null,
   "metadata": {
    "colab": {
     "base_uri": "https://localhost:8080/"
    },
    "id": "cXmzLZP_JMee",
    "outputId": "f99dc91a-8815-485a-8944-6e11176960fd"
   },
   "outputs": [],
   "source": [
    "# Create a Random Forest Regressor object\n",
    "rf = RandomForestRegressor()\n",
    "\n",
    "# Define the hyperparameter grid\n",
    "param_grid = {\n",
    "    'max_depth': [3, 5, 7, 9],\n",
    "    'min_samples_split': [2, 5, 10],\n",
    "    'min_samples_leaf': [1, 2, 4],\n",
    "    'max_features': ['auto', 'sqrt'],\n",
    "    'random_state': [0, 42]\n",
    "}\n",
    "\n",
    "# Create a GridSearchCV object\n",
    "grid_search = GridSearchCV(rf, param_grid, cv=5, scoring='r2')\n",
    "\n",
    "# Fit the GridSearchCV object to the training data\n",
    "grid_search.fit(X_treino, y_treino)\n",
    "\n",
    "# Print the best hyperparameters\n",
    "print(\"Melhores hiperparâmetros: \", grid_search.best_params_)"
   ]
  },
  {
   "cell_type": "markdown",
   "metadata": {
    "id": "RPCw1o96vtwp"
   },
   "source": [
    "### <font color = 'Cornfl'> **Treinado e Avaliando**</font>"
   ]
  },
  {
   "cell_type": "code",
   "execution_count": null,
   "metadata": {
    "colab": {
     "base_uri": "https://localhost:8080/",
     "height": 92
    },
    "id": "_UDvBifrJMef",
    "outputId": "4dc4a0ea-eb34-4e43-937e-a4726599f869"
   },
   "outputs": [],
   "source": [
    "rf = RandomForestRegressor(random_state=43, max_depth=7, min_samples_split=2, min_samples_leaf=4,\n",
    "                           max_features='sqrt')\n",
    "rf.fit(X_treino, y_treino)"
   ]
  },
  {
   "cell_type": "code",
   "execution_count": null,
   "metadata": {
    "colab": {
     "base_uri": "https://localhost:8080/"
    },
    "id": "wznVrZxoJMef",
    "outputId": "415cbcb0-30ac-4de5-c264-d5f5ec24e326"
   },
   "outputs": [],
   "source": [
    "y_pred = rf.predict(X_teste)\n",
    "mae = mean_absolute_error(y_teste, y_pred)\n",
    "mape = mean_absolute_percentage_error(y_teste, y_pred)\n",
    "mse = mean_squared_error(y_teste, y_pred)\n",
    "r2 = r2_score(y_teste, y_pred)\n",
    "rmse = math.sqrt(mse)\n",
    "\n",
    "print('MAE is {}'.format(mae))\n",
    "print('MAPE is {}'.format(mape))\n",
    "print('MSE is {}'.format(mse))\n",
    "print('R2 score is {}'.format(r2*(-1)))\n",
    "print('RMSE score is {}'.format(rmse))"
   ]
  },
  {
   "cell_type": "code",
   "execution_count": null,
   "metadata": {
    "colab": {
     "base_uri": "https://localhost:8080/",
     "height": 206
    },
    "id": "br03gennFeRx",
    "outputId": "95293296-275b-47a8-cfa7-46c9cada1e4b"
   },
   "outputs": [],
   "source": [
    "# Criar um dicionário com as métricas e valores\n",
    "data = {\n",
    "    'Métrica': ['MAE', 'MAPE', 'MSE', 'R2 score', 'RMSE'],\n",
    "    'Valor': [mae, mape, mse, r2*(-1), rmse]\n",
    "}\n",
    "\n",
    "# Criar o dataframe\n",
    "df1 = pd.DataFrame(data)\n",
    "\n",
    "# Definindo uma função para aplicar o estilo do background colorido\n",
    "def highlight_max(s):\n",
    "    is_max = s == s.max()\n",
    "    return ['background-color: yellow' if x==rmse else '' for v in is_max]\n",
    "\n",
    "# Aplicar o estilo para a coluna 'Valor'\n",
    "styled_df = df1.style.applymap(lambda x: 'background-color: yellow' if x == rmse else '',\n",
    "                              subset=pd.IndexSlice[df1['Métrica'] == 'RMSE', 'Valor'])\n",
    "\n",
    "# Exibir o dataframe com o estilo aplicado\n",
    "styled_df"
   ]
  },
  {
   "cell_type": "code",
   "execution_count": null,
   "metadata": {
    "colab": {
     "base_uri": "https://localhost:8080/",
     "height": 527
    },
    "id": "eV5HIJwQ8wN0",
    "outputId": "bd0bd160-4034-4d0c-a847-a955dd43dc73"
   },
   "outputs": [],
   "source": [
    "def plot_metricas(valores, metricas, cores):\n",
    "    # Aumentando o tamanho da figura\n",
    "    plt.figure(figsize=(10, 6))\n",
    "\n",
    "    # Criando o gráfico de barras verticais\n",
    "    plt.bar(metricas, valores, color=cores)\n",
    "\n",
    "    # Aplicando escala logarítmica ao eixo y\n",
    "    plt.yscale('log')\n",
    "\n",
    "    # Exibindo o gráfico\n",
    "    plt.show()\n",
    "\n",
    "# Exemplo de uso:\n",
    "valores = [0.03, 95954594991575.55, 0.01, 0.38, 0.10]\n",
    "metricas = ['MAE', 'MAPE', 'MSE', 'R2', 'RMSE']\n",
    "cores = ['blue', 'chocolate', 'red', 'purple', 'orange']\n",
    "plot_metricas(valores, metricas, cores)"
   ]
  },
  {
   "cell_type": "markdown",
   "metadata": {
    "id": "eK0ugmT_JSoQ"
   },
   "source": [
    "### <font color = 'CornflowerBlue'> **Verificando as Feature Importances**</font>"
   ]
  },
  {
   "cell_type": "code",
   "execution_count": null,
   "metadata": {
    "colab": {
     "base_uri": "https://localhost:8080/",
     "height": 206
    },
    "id": "SUWG0O1ZWYCf",
    "outputId": "37c54eb7-ac50-45f9-c314-ffaeb1b22b16"
   },
   "outputs": [],
   "source": [
    "# Obter a importância das features\n",
    "feature_importance = rf.feature_importances_\n",
    "\n",
    "# Criar um DataFrame para visualização\n",
    "feature_importance_df = pd.DataFrame({'Feature': X_treino.columns, 'Importance': feature_importance})\n",
    "\n",
    "# Classificar as features pela importância em ordem decrescente\n",
    "feature_importance_df = feature_importance_df.sort_values(by='Importance', ascending=False)\n",
    "\n",
    "# Definir a função para adicionar o background aos maiores valores\n",
    "def highlight_max_values(s):\n",
    "    is_max = s == s.max()\n",
    "    return ['background-color: lightblue' if v else '' for v in is_max]\n",
    "\n",
    "# Aplicar o estilo ao DataFrame\n",
    "styled_feature_importance_df = feature_importance_df.style.apply(highlight_max_values, subset=['Importance'])\n",
    "\n",
    "# Exibir o DataFrame com o background destacado\n",
    "styled_feature_importance_df"
   ]
  },
  {
   "cell_type": "code",
   "execution_count": null,
   "metadata": {
    "colab": {
     "base_uri": "https://localhost:8080/",
     "height": 573
    },
    "id": "OtuKR9WQCAEE",
    "outputId": "5682b0f8-0b46-422c-eebd-436b4ea05ba7"
   },
   "outputs": [],
   "source": [
    "# Passo 3: Obter a importância das features\n",
    "feature_importance = rf.feature_importances_\n",
    "\n",
    "# Passo 4: Criar um DataFrame para visualização\n",
    "feature_importance_df = pd.DataFrame({'Feature': X_treino.columns, 'Importance': feature_importance})\n",
    "\n",
    "# Passo 5: Classificar as features pela importância em ordem decrescente\n",
    "feature_importance_df = feature_importance_df.sort_values(by='Importance', ascending=False)\n",
    "\n",
    "# Passo 6: Plotar o gráfico de barras horizontal com cores diferentes para cada variável\n",
    "plt.figure(figsize=(10, 6))\n",
    "sns.barplot(x='Importance', y='Feature', data=feature_importance_df, palette='viridis')\n",
    "plt.xlabel('Importance')\n",
    "plt.ylabel('Feature')\n",
    "plt.title('Feature Importance - Random Forest Regressor')\n",
    "plt.show()"
   ]
  },
  {
   "cell_type": "markdown",
   "metadata": {
    "id": "wx8u9rgMFyww"
   },
   "source": [
    "### <font color = 'CornflowerBlue'> **Salvando o modelo**</font>"
   ]
  },
  {
   "cell_type": "code",
   "execution_count": null,
   "metadata": {
    "id": "_YkMoBR3Gjkj"
   },
   "outputs": [],
   "source": [
    "# Criando um modelo Pickle para ser salvo\n",
    "import pickle\n",
    "filename = 'senor_chuva.pkl'\n",
    "pickle.dump(rf, open(filename, 'wb'))"
   ]
  }
 ],
 "metadata": {
  "colab": {
   "provenance": []
  },
  "kernelspec": {
   "display_name": "Python 3 (ipykernel)",
   "language": "python",
   "name": "python3"
  },
  "language_info": {
   "codemirror_mode": {
    "name": "ipython",
    "version": 3
   },
   "file_extension": ".py",
   "mimetype": "text/x-python",
   "name": "python",
   "nbconvert_exporter": "python",
   "pygments_lexer": "ipython3",
   "version": "3.11.5"
  }
 },
 "nbformat": 4,
 "nbformat_minor": 1
}
