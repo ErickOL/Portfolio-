{
 "cells": [
  {
   "cell_type": "markdown",
   "id": "61e4cc44",
   "metadata": {
    "id": "61e4cc44"
   },
   "source": [
    "# <a>Projeto 1 - Análise Exploratória de Dados</a>"
   ]
  },
  {
   "cell_type": "markdown",
   "id": "695f673f",
   "metadata": {
    "id": "695f673f"
   },
   "source": [
    "## <a> Motivação </a>\n",
    "\n",
    "Todo trabalho de Ciência de Dados passa por essa importante etapa. Conhecer bem os dados, saber as distribuições, medidas estatísticas principais, visualizar correlações e evoluções é essencial para gerar insights e solucionar problemas.\n",
    "\n",
    "Essa etapa é bem *híbrida* no sentido em que pode ser utilizada sem um objetivo completamente definido, numa busca por informações e insights. De outro lado, num projeto com objetivo de negócio bem definido (fase 1 do CRISP-DM), ela é bem focalizada nas perguntas de negócio que queremos responder"
   ]
  },
  {
   "cell_type": "markdown",
   "id": "8b689a27",
   "metadata": {
    "id": "8b689a27"
   },
   "source": [
    "## <a> Objeto de Estudo </a>\n",
    "\n",
    "Vamos trabalhar com informações de microdados no ENEM realizado em 2019. De acordo com o site do [INEP](https://www.gov.br/inep/pt-br/areas-de-atuacao/avaliacao-e-exames-educacionais/enem), o ENEM tem o objetivo de avaliar o desempenho escolar dos estudantes ao término da educação básica. As notas do Enem podem ser usadas para acesso ao Sistema de Seleção Unificada (Sisu) e ao Programa Universidade para Todos (ProUni). Elas também são aceitas em mais de 50 instituições de educação superior portuguesas. Além disso, os participantes do Enem podem pleitear financiamento estudantil em programas do governo, como o Fundo de Financiamento Estudantil (Fies). Os resultados do Enem possibilitam, ainda, o desenvolvimento de estudos e indicadores educacionais.[1](https://www.gov.br/inep/pt-br/areas-de-atuacao/avaliacao-e-exames-educacionais/enem)\n",
    "\n",
    "Conhecer bem os dados dos aplicantes para a prova pode fornecer insights preciosos para a educação brasileira. Para o presente estudo vamos avaliar se dados demográficos, indicadores sociais, de escolaridade dos pais e outras indicações tem correlações com as notas dos candidatos. Muitos insights e respostas podem ser obtidas somente com a análise exploratória de dados."
   ]
  },
  {
   "cell_type": "markdown",
   "id": "0ad75f1b",
   "metadata": {
    "id": "0ad75f1b"
   },
   "source": [
    "### **Importando as Bibliotecas e Configurando**"
   ]
  },
  {
   "cell_type": "markdown",
   "id": "3e25b8c0",
   "metadata": {
    "id": "3e25b8c0"
   },
   "source": [
    "-  Instalando o Pyarrow para converter e salvar arquivo no formato **Parquet**"
   ]
  },
  {
   "cell_type": "code",
   "execution_count": null,
   "id": "c357c854",
   "metadata": {
    "id": "c357c854"
   },
   "outputs": [],
   "source": [
    "# importando as bibliotecas para leitura dos dados e criação de gráficos\n",
    "import pandas as pd\n",
    "from matplotlib import pyplot as plt\n",
    "import seaborn as sns\n",
    "import os\n",
    "\n",
    "# configurando pandas para mostrar todas as linhas e colunas\n",
    "pd.set_option('display.max_rows', None)\n",
    "pd.set_option('display.max_columns', None)\n",
    "\n",
    "# configurando pandas para não mostrar notação científica para números\n",
    "pd.set_option('display.float_format', lambda x: '%.2f' % x)\n",
    "\n",
    "# Ignorando alerta\n",
    "import warnings\n",
    "warnings.filterwarnings(\"ignore\")"
   ]
  },
  {
   "cell_type": "markdown",
   "id": "38c0a9b2",
   "metadata": {
    "id": "38c0a9b2"
   },
   "source": [
    "## <a> Carregando os Dados </a>"
   ]
  },
  {
   "cell_type": "code",
   "execution_count": null,
   "id": "295316e3",
   "metadata": {
    "id": "295316e3"
   },
   "outputs": [],
   "source": [
    "# Os dados originais estão em csv, mas salvar em parquet economiza um bocado\n",
    "df_enem = pd.read_parquet('/content/drive/MyDrive/Erick/enem_2019_amostra.parquet')\n",
    "df_enem.shape"
   ]
  },
  {
   "cell_type": "markdown",
   "id": "e448d015",
   "metadata": {
    "id": "e448d015"
   },
   "source": [
    "## <a> Explorando os Dados </a>"
   ]
  },
  {
   "cell_type": "markdown",
   "id": "89eb7dfc",
   "metadata": {
    "id": "89eb7dfc"
   },
   "source": [
    "- **Salvando apenas** $10$% **da amostra para trabalharmos**"
   ]
  },
  {
   "cell_type": "code",
   "execution_count": null,
   "id": "cc5f394d",
   "metadata": {
    "id": "cc5f394d"
   },
   "outputs": [],
   "source": [
    "# Se seu computador não tiver muita memória, vamos trabalhar somente com 10% da base\n",
    "df_enem = df_enem.sample(n=len(df_enem)//10, random_state=42, replace=False)\n",
    "df_enem.shape"
   ]
  },
  {
   "cell_type": "markdown",
   "id": "869652a4",
   "metadata": {
    "id": "869652a4"
   },
   "source": [
    "#### **Salvando um aqruivo Parquet**"
   ]
  },
  {
   "cell_type": "code",
   "execution_count": null,
   "id": "e62464c2",
   "metadata": {
    "id": "e62464c2"
   },
   "outputs": [],
   "source": [
    "# Salvar o parquet com 10%\n",
    "df_enem.to_parquet('Enem_2019_amostra_10.parquet')"
   ]
  },
  {
   "cell_type": "code",
   "execution_count": null,
   "id": "ed03fd27",
   "metadata": {
    "id": "ed03fd27"
   },
   "outputs": [],
   "source": [
    "# Primeira visualização dos dados (cheirando os dados ;)\n",
    "df_enem.head()"
   ]
  },
  {
   "cell_type": "code",
   "execution_count": null,
   "id": "7fedbb98",
   "metadata": {
    "id": "7fedbb98"
   },
   "outputs": [],
   "source": [
    "# Quantidade de linhas e colunas\n",
    "df_enem.shape"
   ]
  },
  {
   "cell_type": "code",
   "execution_count": null,
   "id": "196ce75b",
   "metadata": {
    "id": "196ce75b"
   },
   "outputs": [],
   "source": [
    "# Será que cada linha é mesmo um candidato?\n",
    "len(df_enem['NU_INSCRICAO'].unique())"
   ]
  },
  {
   "cell_type": "code",
   "execution_count": null,
   "id": "d4bec7d3",
   "metadata": {
    "id": "d4bec7d3"
   },
   "outputs": [],
   "source": [
    "df_enem.dtypes"
   ]
  },
  {
   "cell_type": "markdown",
   "id": "8aa27e19",
   "metadata": {
    "id": "8aa27e19"
   },
   "source": [
    "### **Tratando alguns Dados**"
   ]
  },
  {
   "cell_type": "code",
   "execution_count": null,
   "id": "f6cc20e5",
   "metadata": {
    "id": "f6cc20e5",
    "scrolled": true
   },
   "outputs": [],
   "source": [
    "# Exemplo de list comprehension\n",
    "lista_colunas_com_nu = [coluna for coluna in df_enem.columns if 'NU' in coluna]\n",
    "lista_colunas_com_nu\n"
   ]
  },
  {
   "cell_type": "code",
   "execution_count": null,
   "id": "0133a771",
   "metadata": {
    "id": "0133a771"
   },
   "outputs": [],
   "source": [
    "# Vamos remover as colunas com as respostas, já que não vamos analisar no nível de questões das provas\n",
    "colunas_questoes = [coluna for coluna in df_enem.columns if coluna.startswith('TX_')]\n",
    "colunas_questoes"
   ]
  },
  {
   "cell_type": "code",
   "execution_count": null,
   "id": "872d5cdb",
   "metadata": {
    "id": "872d5cdb"
   },
   "outputs": [],
   "source": [
    "# Ainda, as colunas do tipo CO_ não servem para nossa análise, são só códigos de coisas que temos siglas (UF, por exemplo)\n",
    "colunas_codigos = [coluna for coluna in df_enem.columns if coluna.startswith('CO_')]\n",
    "colunas_codigos"
   ]
  },
  {
   "cell_type": "code",
   "execution_count": null,
   "id": "da099a1b",
   "metadata": {
    "id": "da099a1b"
   },
   "outputs": [],
   "source": [
    "# Não vamos fazer também uma análise por municípios, então vamos remover tudo que tiver essa string\n",
    "colunas_municipios = [coluna for coluna in df_enem.columns if 'MUNICIPIO' in coluna]\n",
    "colunas_municipios"
   ]
  },
  {
   "cell_type": "markdown",
   "id": "5e053cda",
   "metadata": {
    "id": "5e053cda"
   },
   "source": [
    "### **Removendo algumas colunas desnecessária**"
   ]
  },
  {
   "cell_type": "code",
   "execution_count": null,
   "id": "d431009e",
   "metadata": {
    "id": "d431009e"
   },
   "outputs": [],
   "source": [
    "# Removendo as colunas (inscrição e ano não são necessários)\n",
    "colunas_remover = colunas_questoes + colunas_codigos + colunas_municipios + ['NU_INSCRICAO', 'NU_ANO']\n",
    "df_enem = df_enem.drop(colunas_remover, axis=1)\n",
    "df_enem.head()"
   ]
  },
  {
   "cell_type": "code",
   "execution_count": null,
   "id": "9a37e6a7",
   "metadata": {
    "id": "9a37e6a7"
   },
   "outputs": [],
   "source": [
    "df_enem.shape"
   ]
  },
  {
   "cell_type": "markdown",
   "id": "f29d95a2",
   "metadata": {
    "id": "f29d95a2"
   },
   "source": [
    "## <a>Dicionário de dados </a>\n",
    "\n",
    "Percebemos que muitas das colunas possuem somente números, sem descrições. Os dados do ENEM vem acompanhados das descrições com o dicionário, explicando o que cada coluna representa. Seguem algumas que vamos utilizar na análise\n",
    "\n",
    "Estado Civil (TP_ESTADO_CIVIL)\n",
    "\n",
    "| Código | Descrição                               |\n",
    "|--------|-----------------------------------------|\n",
    "|    0   | Não informado                           |\n",
    "|    1   | Solteiro(a)                             |\n",
    "|    2   | Casado(a)/Mora   com companheiro(a)     |\n",
    "|    3   | Divorciado(a)/Desquitado(a)/Separado(a) |\n",
    "|    4   | Viúvo(a)                                |\n",
    "\n",
    "Cor/Raça (TP_COR_RACA)\n",
    "\n",
    "| Código | Descrição     |\n",
    "|--------|---------------|\n",
    "| 0      | Não declarado |\n",
    "| 1      | Branca        |\n",
    "| 2      | Preta         |\n",
    "| 3      | Parda         |\n",
    "| 4      | Amarela       |\n",
    "| 5      | Indígena      |\n",
    "\n",
    "Tipo Nacionalidade\n",
    "\n",
    "| Código | Descrição                                       |\n",
    "|--------|-------------------------------------------------|\n",
    "| 0      | Não informado                                   |\n",
    "| 1      | Brasileiro(a)                                   |\n",
    "| 2      | Brasileiro(a)   Naturalizado(a)                 |\n",
    "| 3      | Estrangeiro(a)                                  |\n",
    "| 4      | Brasileiro(a)   Nato(a), nascido(a) no exterior |\n",
    "| 5      | Indígena                                        |\n",
    "\n",
    "Situação de Conclusão Nível Médio\n",
    "\n",
    "| Código | Descrição                                              |\n",
    "|--------|--------------------------------------------------------|\n",
    "| 1      | Já concluí o   Ensino Médio                            |\n",
    "| 2      | Estou   cursando e concluirei o Ensino Médio em 2019   |\n",
    "| 3      | Estou   cursando e concluirei o Ensino Médio após 2019 |\n",
    "| 4      | Não   concluí e não estou cursando o Ensino Médio      |\n",
    "\n",
    "Finalmente, as colunas de notas\n",
    "\n",
    "| Coluna     | Descrição                             |\n",
    "|------------|---------------------------------------|\n",
    "| NU_NOTA_CN | Nota da prova de Ciências da Natureza |\n",
    "| NU_NOTA_CH | Nota da prova de Ciências Humanas     |\n",
    "| NU_NOTA_LC | Nota da prova de Linguagens e Códigos |\n",
    "| NU_NOTA_MT | Nota da prova de Matemática           |\n"
   ]
  },
  {
   "cell_type": "markdown",
   "id": "9d77a78c",
   "metadata": {
    "id": "9d77a78c"
   },
   "source": [
    "## <a> Começando com estatística descritiva </a>\n",
    "\n",
    "Conhecer bem as medidas estatísticas, de tendência central, dispersão, separatrizes, distribuições, é essencial para conhecermos melhor os dados em que estamos trabalhando. Qual a distribuição por sexo? Raça? Localização geográfica?"
   ]
  },
  {
   "cell_type": "code",
   "execution_count": null,
   "id": "6f58402c",
   "metadata": {
    "id": "6f58402c"
   },
   "outputs": [],
   "source": [
    "df_enem.describe()"
   ]
  },
  {
   "cell_type": "code",
   "execution_count": null,
   "id": "5f559025",
   "metadata": {
    "id": "5f559025"
   },
   "outputs": [],
   "source": [
    "colunas_notas = [coluna for coluna in df_enem if 'NOTA' in coluna]\n",
    "colunas_notas"
   ]
  },
  {
   "cell_type": "code",
   "execution_count": null,
   "id": "bdb78ede",
   "metadata": {
    "id": "bdb78ede"
   },
   "outputs": [],
   "source": [
    "# Vamos ficar só com a nota principal da redação? Removendo as outras\n",
    "colunas_notas = [coluna for coluna in colunas_notas if 'COMP' not in coluna]\n",
    "colunas_notas"
   ]
  },
  {
   "cell_type": "markdown",
   "id": "ad65fa42",
   "metadata": {
    "id": "ad65fa42"
   },
   "source": [
    "### **Boxplot**"
   ]
  },
  {
   "cell_type": "code",
   "execution_count": null,
   "id": "e8261a7b",
   "metadata": {
    "id": "e8261a7b"
   },
   "outputs": [],
   "source": [
    "# Analisando as notas\n",
    "sns.set_style(\"darkgrid\")\n",
    "figura, graficos = plt.subplots(1, 4, sharey=True, figsize=(8,6))\n",
    "plt.tight_layout()\n",
    "\n",
    "for i in range(4):\n",
    "    coluna_1 = colunas_notas[i]\n",
    "    sns.boxplot(data=df_enem, y=coluna_1, ax=graficos[i])\n"
   ]
  },
  {
   "cell_type": "markdown",
   "id": "ae013479",
   "metadata": {
    "id": "ae013479"
   },
   "source": [
    "### **Distribuição das Notas**"
   ]
  },
  {
   "cell_type": "code",
   "execution_count": null,
   "id": "c1e15b75",
   "metadata": {
    "id": "c1e15b75"
   },
   "outputs": [],
   "source": [
    "# Analisando as distribuições das notas\n",
    "sns.set_style(\"darkgrid\")\n",
    "figura, graficos = plt.subplots(4, 1, sharex=True, figsize=(8,6))\n",
    "plt.tight_layout()\n",
    "\n",
    "for i in range(4):\n",
    "    coluna_1 = colunas_notas[i]\n",
    "    sns.histplot(data=df_enem[coluna_1], ax=graficos[i]).set_title(coluna_1)"
   ]
  },
  {
   "cell_type": "markdown",
   "id": "cd27d2de",
   "metadata": {
    "id": "cd27d2de"
   },
   "source": [
    "### **Notas da Redação**"
   ]
  },
  {
   "cell_type": "code",
   "execution_count": null,
   "id": "ba2ff21f",
   "metadata": {
    "id": "ba2ff21f"
   },
   "outputs": [],
   "source": [
    "# Analisando a nota da redação\n",
    "sns.histplot(data=df_enem['NU_NOTA_REDACAO']).set_title('NU_NOTA_REDACAO');"
   ]
  },
  {
   "cell_type": "code",
   "execution_count": null,
   "id": "531eb715",
   "metadata": {
    "id": "531eb715"
   },
   "outputs": [],
   "source": [
    "# Não ficou legal porque as notas não são muito esparsas, vamos tentar um gráfico de densidade\n",
    "sns.kdeplot(data=df_enem['NU_NOTA_REDACAO']).set_title('NU_NOTA_REDACAO');"
   ]
  },
  {
   "cell_type": "markdown",
   "id": "e1441474",
   "metadata": {
    "id": "e1441474"
   },
   "source": [
    "## <a> Analisando as informações demográficas </a>"
   ]
  },
  {
   "cell_type": "code",
   "execution_count": null,
   "id": "6cdbe25c",
   "metadata": {
    "id": "6cdbe25c"
   },
   "outputs": [],
   "source": [
    "df_enem.head()"
   ]
  },
  {
   "cell_type": "code",
   "execution_count": null,
   "id": "954eaa85",
   "metadata": {
    "id": "954eaa85"
   },
   "outputs": [],
   "source": [
    "# Que índices feios, vamos reiniciar\n",
    "df_enem = df_enem.reset_index(drop=True)\n",
    "df_enem.head()"
   ]
  },
  {
   "cell_type": "code",
   "execution_count": null,
   "id": "579afd65",
   "metadata": {
    "id": "579afd65",
    "scrolled": true
   },
   "outputs": [],
   "source": [
    "# Analisando a idade dos candidatos\n",
    "df_enem['NU_IDADE'].value_counts()"
   ]
  },
  {
   "cell_type": "code",
   "execution_count": null,
   "id": "9ae9483c",
   "metadata": {
    "id": "9ae9483c",
    "scrolled": true
   },
   "outputs": [],
   "source": [
    "# Analisando a idade dos candidatos\n",
    "df_enem['NU_IDADE'].value_counts().sort_index()"
   ]
  },
  {
   "cell_type": "code",
   "execution_count": null,
   "id": "9a8bbafa",
   "metadata": {
    "id": "9a8bbafa"
   },
   "outputs": [],
   "source": [
    "sns.kdeplot(data=df_enem, x='NU_IDADE');"
   ]
  },
  {
   "cell_type": "code",
   "execution_count": null,
   "id": "586bd16c",
   "metadata": {
    "id": "586bd16c"
   },
   "outputs": [],
   "source": [
    "df_enem['TP_SEXO'].value_counts()"
   ]
  },
  {
   "cell_type": "code",
   "execution_count": null,
   "id": "e6f05c00",
   "metadata": {
    "id": "e6f05c00"
   },
   "outputs": [],
   "source": [
    "# Em porcentagem\n",
    "df_enem['TP_SEXO'].value_counts(normalize=True) * 100"
   ]
  },
  {
   "cell_type": "code",
   "execution_count": null,
   "id": "036a4b31",
   "metadata": {
    "id": "036a4b31"
   },
   "outputs": [],
   "source": [
    "sns.countplot(data=df_enem, x='TP_SEXO');"
   ]
  },
  {
   "cell_type": "markdown",
   "id": "d3814a42",
   "metadata": {
    "id": "d3814a42"
   },
   "source": [
    "- **Informações do Estado Civil**"
   ]
  },
  {
   "cell_type": "code",
   "execution_count": null,
   "id": "0ce87328",
   "metadata": {
    "id": "0ce87328"
   },
   "outputs": [],
   "source": [
    "# Informações do Estado Civil\n",
    "'''\n",
    "0 → Não informado\n",
    "1 → Solteiro(a)\n",
    "2 → Casado(a)/Mora com companheiro(a)\n",
    "3 → Divorciado(a)/Desquitado(a)/Separado(a)\n",
    "4 → Viúvo(a)\n",
    "'''\n",
    "df_enem['TP_ESTADO_CIVIL'].value_counts().sort_index()"
   ]
  },
  {
   "cell_type": "code",
   "execution_count": null,
   "id": "2a922b72",
   "metadata": {
    "id": "2a922b72"
   },
   "outputs": [],
   "source": [
    "sns.countplot(data=df_enem, x='TP_ESTADO_CIVIL');"
   ]
  },
  {
   "cell_type": "markdown",
   "id": "0e854fd1",
   "metadata": {
    "id": "0e854fd1"
   },
   "source": [
    "- **Informações da Raça**"
   ]
  },
  {
   "cell_type": "code",
   "execution_count": null,
   "id": "114df03e",
   "metadata": {
    "id": "114df03e"
   },
   "outputs": [],
   "source": [
    "'''\n",
    "0 → Não declarado\n",
    "1 → Branca\n",
    "2 → Preta\n",
    "3 → Parda\n",
    "4 → Amarela\n",
    "5 → Indígena\n",
    "'''\n",
    "df_enem['TP_COR_RACA'].value_counts().sort_index()"
   ]
  },
  {
   "cell_type": "code",
   "execution_count": null,
   "id": "bfaf3e64",
   "metadata": {
    "id": "bfaf3e64"
   },
   "outputs": [],
   "source": [
    "sns.countplot(data=df_enem, x='TP_COR_RACA');"
   ]
  },
  {
   "cell_type": "markdown",
   "id": "d4027dbf",
   "metadata": {
    "id": "d4027dbf"
   },
   "source": [
    "### **Olhando de onde são as pessoas**"
   ]
  },
  {
   "cell_type": "code",
   "execution_count": null,
   "id": "3051dbb7",
   "metadata": {
    "id": "3051dbb7",
    "scrolled": true
   },
   "outputs": [],
   "source": [
    "ufs = df_enem['SG_UF_RESIDENCIA'].value_counts()\n",
    "ufs"
   ]
  },
  {
   "cell_type": "markdown",
   "id": "85d5ad5c",
   "metadata": {
    "id": "85d5ad5c"
   },
   "source": [
    "### **Criando um DataFrame com os Estados e Quantidade de Candidatos**"
   ]
  },
  {
   "cell_type": "code",
   "execution_count": null,
   "id": "9e6ae6b2",
   "metadata": {
    "id": "9e6ae6b2",
    "scrolled": true
   },
   "outputs": [],
   "source": [
    "df_ufs = pd.DataFrame({'uf': ufs.index, 'candidatos': ufs.values})\n",
    "df_ufs.head()"
   ]
  },
  {
   "cell_type": "code",
   "execution_count": null,
   "id": "5e0865a4",
   "metadata": {
    "id": "5e0865a4"
   },
   "outputs": [],
   "source": [
    "import plotly.express as px\n",
    "\n",
    "fig = px.treemap(data_frame=df_ufs,\n",
    "    path = ['uf'],\n",
    "    values = 'candidatos'\n",
    ")\n",
    "fig.update_traces(root_color=\"lightgrey\")\n",
    "fig.update_layout(margin = dict(t=50, l=25, r=25, b=25))\n",
    "fig.show()"
   ]
  },
  {
   "cell_type": "markdown",
   "id": "a05a3a82",
   "metadata": {
    "id": "a05a3a82"
   },
   "source": [
    "### Analisando o Questionário Socioeconômico"
   ]
  },
  {
   "cell_type": "code",
   "execution_count": null,
   "id": "c40338d7",
   "metadata": {
    "id": "c40338d7"
   },
   "outputs": [],
   "source": [
    "# Até que série seu pai, ou o homem responsável por você, estudou?\n",
    "'''\n",
    "A → Nunca estudou.\n",
    "B → Não completou a 4ª série/5º ano do Ensino Fundamental.\n",
    "C → Completou a 4ª série/5º ano, mas não completou a 8ª série/9º ano do Ensino Fundamental.\n",
    "D → Completou a 8ª série/9º ano do Ensino Fundamental, mas não completou o Ensino Médio.\n",
    "E → Completou o Ensino Médio, mas não completou a Faculdade.\n",
    "F → Completou a Faculdade, mas não completou a Pós-graduação.\n",
    "G → Completou a Pós-graduação.\n",
    "H → Não sei.\n",
    "'''\n",
    "df_enem['Q001'].value_counts().sort_index()"
   ]
  },
  {
   "cell_type": "markdown",
   "id": "d6697749",
   "metadata": {
    "id": "d6697749"
   },
   "source": [
    "### **Analisando o impactos dos que responderam que não sabem**"
   ]
  },
  {
   "cell_type": "code",
   "execution_count": null,
   "id": "33e2a7ea",
   "metadata": {
    "id": "33e2a7ea"
   },
   "outputs": [],
   "source": [
    "# Avaliando o impacto nos dados daqueles que responderam que não sabe\n",
    "len(df_enem.loc[df_enem['Q001'] == 'H']) / df_enem.shape[0]"
   ]
  },
  {
   "cell_type": "code",
   "execution_count": null,
   "id": "4ce8e784",
   "metadata": {
    "id": "4ce8e784"
   },
   "outputs": [],
   "source": [
    "# Até que série sua mãe, ou a mulher responsável por você, estudou?\n",
    "df_enem['Q002'].value_counts().sort_index()"
   ]
  },
  {
   "cell_type": "code",
   "execution_count": null,
   "id": "6c5a780e",
   "metadata": {
    "id": "6c5a780e"
   },
   "outputs": [],
   "source": [
    "# Avaliando o impacto nos dados daqueles que responderam que não sabe\n",
    "len(df_enem.loc[df_enem['Q002'] == 'H']) / df_enem.shape[0]"
   ]
  },
  {
   "cell_type": "markdown",
   "id": "e78ded7e",
   "metadata": {
    "id": "e78ded7e"
   },
   "source": [
    "### **Filtarndo os pais dos candidatos que não possuem Nível Superior**"
   ]
  },
  {
   "cell_type": "code",
   "execution_count": null,
   "id": "d6e8bc73",
   "metadata": {
    "id": "d6e8bc73"
   },
   "outputs": [],
   "source": [
    "# Criando novas variáveis para delimitar pais que possuem nível superior\n",
    "df_enem['pai_possui_superior'] = df_enem['Q001'].isin(['F', 'G'])\n",
    "df_enem['mae_possui_superior'] = df_enem['Q002'].isin(['F', 'G'])\n",
    "df_enem.head()"
   ]
  },
  {
   "cell_type": "code",
   "execution_count": null,
   "id": "f627d6dd",
   "metadata": {
    "id": "f627d6dd"
   },
   "outputs": [],
   "source": [
    "df_enem['pai_possui_superior'].value_counts(normalize=True) * 100"
   ]
  },
  {
   "cell_type": "code",
   "execution_count": null,
   "id": "fab4dce7",
   "metadata": {
    "id": "fab4dce7"
   },
   "outputs": [],
   "source": [
    "# Até que série seu pai, ou o homem responsável por você, estudou?\n",
    "sns.countplot(data=df_enem, x='pai_possui_superior');"
   ]
  },
  {
   "cell_type": "code",
   "execution_count": null,
   "id": "0ad6786a",
   "metadata": {
    "id": "0ad6786a"
   },
   "outputs": [],
   "source": [
    "df_enem['mae_possui_superior'].value_counts(normalize=True) * 100"
   ]
  },
  {
   "cell_type": "code",
   "execution_count": null,
   "id": "eff29474",
   "metadata": {
    "id": "eff29474"
   },
   "outputs": [],
   "source": [
    "# Até que série sua mãe, ou a mulher responsável por você, estudou?\n",
    "sns.countplot(data=df_enem, x='mae_possui_superior');"
   ]
  },
  {
   "cell_type": "code",
   "execution_count": null,
   "id": "a07cc116",
   "metadata": {
    "id": "a07cc116"
   },
   "outputs": [],
   "source": [
    "lista = ['a', 'b', 'c']\n",
    "d = dict()\n",
    "\n",
    "for i, caractere in enumerate(lista):\n",
    "    print(f'{caractere} na posicao {i}')\n",
    "    d[caractere] = i\n",
    "\n",
    "d"
   ]
  },
  {
   "cell_type": "markdown",
   "id": "2226d96f",
   "metadata": {
    "id": "2226d96f"
   },
   "source": [
    "### **Analisando a Renda familiar**"
   ]
  },
  {
   "cell_type": "code",
   "execution_count": null,
   "id": "858bdcd8",
   "metadata": {
    "id": "858bdcd8",
    "scrolled": true
   },
   "outputs": [],
   "source": [
    "# Analisar a renda familiar. Vamos transformar Q006 em algo numérico?\n",
    "\n",
    "'''\n",
    "A → Nenhuma renda.\n",
    "B → Até R$ 998,00.\n",
    "C → De R$ 998,01 até R$ 1.497,00.\n",
    "D → De R$ 1.497,01 até R$ 1.996,00.\n",
    "E → De R$ 1.996,01 até R$ 2.495,00.\n",
    "F → De R$ 2.495,01 até R$ 2.994,00.\n",
    "G → De R$ 2.994,01 até R$ 3.992,00.\n",
    "H → De R$ 3.992,01 até R$ 4.990,00.\n",
    "I → De R$ 4.990,01 até R$ 5.988,00.\n",
    "J → De R$ 5.988,01 até R$ 6.986,00.\n",
    "K → De R$ 6.986,01 até R$ 7.984,00.\n",
    "L → De R$ 7.984,01 até R$ 8.982,00.\n",
    "M → De R$ 8.982,01 até R$ 9.980,00.\n",
    "N → De R$ 9.980,01 até R$ 11.976,00.\n",
    "O → De R$ 11.976,01 até R$ 14.970,00.\n",
    "P → De R$ 14.970,01 até R$ 19.960,00.\n",
    "Q → Mais de R$ 19.960,00.\n",
    "\n",
    "'''\n",
    "from string import ascii_uppercase\n",
    "\n",
    "dicionario_renda = dict()\n",
    "\n",
    "# iterando sobre o alfabeto (python não é lindo?)\n",
    "for i, letra in enumerate(ascii_uppercase):\n",
    "    if i == 17:\n",
    "        break\n",
    "    dicionario_renda[letra] = i\n",
    "\n",
    "dicionario_renda"
   ]
  },
  {
   "cell_type": "code",
   "execution_count": null,
   "id": "b5792be5",
   "metadata": {
    "id": "b5792be5",
    "scrolled": true
   },
   "outputs": [],
   "source": [
    "df_enem['Q006'].value_counts()"
   ]
  },
  {
   "cell_type": "code",
   "execution_count": null,
   "id": "20dbeac0",
   "metadata": {
    "id": "20dbeac0"
   },
   "outputs": [],
   "source": [
    "df_enem['Q006'].head()"
   ]
  },
  {
   "cell_type": "code",
   "execution_count": null,
   "id": "890aa76b",
   "metadata": {
    "id": "890aa76b"
   },
   "outputs": [],
   "source": [
    "# função de mapeamento\n",
    "df_enem['renda_familiar'] = df_enem['Q006'].map(dicionario_renda)\n",
    "\n",
    "df_enem.head()"
   ]
  },
  {
   "cell_type": "code",
   "execution_count": null,
   "id": "a26d77df",
   "metadata": {
    "id": "a26d77df"
   },
   "outputs": [],
   "source": [
    "# Análise de renda\n",
    "sns.countplot(data=df_enem, x='renda_familiar',  palette = 'Set1');"
   ]
  },
  {
   "cell_type": "markdown",
   "id": "0b5e2f8c",
   "metadata": {
    "id": "0b5e2f8c"
   },
   "source": [
    "## <a> Relacionar notas com características dos candidatos </a>\n",
    "\n",
    "Avaliar se as notas dos candidatos é diferente com relação a:\n",
    "- sexo\n",
    "- raça\n",
    "- atendimento especial\n",
    "- instrucao mae e pai\n",
    "- renda mensal da familia"
   ]
  },
  {
   "cell_type": "markdown",
   "id": "120ad6f7",
   "metadata": {
    "id": "120ad6f7"
   },
   "source": [
    "### **Criando um DataFrame com as** $Notas$ **e o** $Sexo$"
   ]
  },
  {
   "cell_type": "code",
   "execution_count": null,
   "id": "ec965690",
   "metadata": {
    "id": "ec965690"
   },
   "outputs": [],
   "source": [
    "# Criando df com as notas e sexo dos candidatos\n",
    "df_sexo = df_enem.loc[:, colunas_notas + ['TP_SEXO']]\n",
    "df_sexo.head()"
   ]
  },
  {
   "cell_type": "code",
   "execution_count": null,
   "id": "e955e5f2",
   "metadata": {
    "id": "e955e5f2"
   },
   "outputs": [],
   "source": [
    "# Analisando as notas por sexo\n",
    "sns.set_style(\"darkgrid\")\n",
    "figura, graficos = plt.subplots(1, 4, sharey=True, figsize=(8,6))\n",
    "plt.tight_layout()\n",
    "\n",
    "for i in range(4):\n",
    "    coluna_1 = colunas_notas[i]\n",
    "    sns.boxplot(data=df_sexo, y=coluna_1, x='TP_SEXO', ax=graficos[i])"
   ]
  },
  {
   "cell_type": "markdown",
   "id": "8fe6eb2c",
   "metadata": {
    "id": "8fe6eb2c"
   },
   "source": [
    "\n",
    "![image.png](attachment:image.png)"
   ]
  },
  {
   "cell_type": "code",
   "execution_count": null,
   "id": "cf51cdfa",
   "metadata": {
    "id": "cf51cdfa"
   },
   "outputs": [],
   "source": [
    "# Criando df com as notas e raça dos candidatos\n",
    "df_raca = df_enem.loc[:, colunas_notas + ['TP_COR_RACA']]\n",
    "df_raca.head()"
   ]
  },
  {
   "cell_type": "code",
   "execution_count": null,
   "id": "6722e810",
   "metadata": {
    "id": "6722e810"
   },
   "outputs": [],
   "source": [
    "# Analisando as notas por raça\n",
    "sns.set_style(\"darkgrid\")\n",
    "figura, graficos = plt.subplots(2, 2, sharey=True, figsize=(10,6))\n",
    "plt.tight_layout()\n",
    "\n",
    "for i in range(2):\n",
    "    coluna_1 = colunas_notas[i*2]\n",
    "    coluna_2 = colunas_notas[i*2+1]\n",
    "    sns.boxplot(data=df_raca, y=coluna_1, x='TP_COR_RACA', ax=graficos[i][0])\n",
    "    sns.boxplot(data=df_raca, y=coluna_2, x='TP_COR_RACA', ax=graficos[i][1])"
   ]
  },
  {
   "cell_type": "markdown",
   "id": "78efbd25",
   "metadata": {
    "id": "78efbd25"
   },
   "source": [
    " - **Pessoas que precisaram de um atendimento personalizado**"
   ]
  },
  {
   "cell_type": "code",
   "execution_count": null,
   "id": "7878654e",
   "metadata": {
    "id": "7878654e"
   },
   "outputs": [],
   "source": [
    "# calcular atendimento especializado\n",
    "colunas_atendimento_especializado = ['IN_BAIXA_VISAO',\n",
    "                                     'IN_CEGUEIRA',\n",
    "                                     'IN_SURDEZ', 'IN_DEFICIENCIA_AUDITIVA',\n",
    "                                     'IN_SURDO_CEGUEIRA', 'IN_DEFICIENCIA_FISICA',\n",
    "                                     'IN_DEFICIENCIA_MENTAL', 'IN_DEFICIT_ATENCAO',\n",
    "                                     'IN_DISLEXIA', 'IN_DISCALCULIA',\n",
    "                                     'IN_AUTISMO', 'IN_VISAO_MONOCULAR',\n",
    "                                     'IN_OUTRA_DEF']\n",
    "\n",
    "df_atendimento_especializado = df_enem.loc[:, colunas_notas]\n",
    "df_atendimento_especializado['atendimento_especializado'] = df_enem.loc[:, colunas_atendimento_especializado].sum(axis=1) > 0\n",
    "df_atendimento_especializado.head()"
   ]
  },
  {
   "cell_type": "code",
   "execution_count": null,
   "id": "8f095eee",
   "metadata": {
    "id": "8f095eee"
   },
   "outputs": [],
   "source": [
    "df_atendimento_especializado['atendimento_especializado'].value_counts()"
   ]
  },
  {
   "cell_type": "code",
   "execution_count": null,
   "id": "1ca017e5",
   "metadata": {
    "id": "1ca017e5"
   },
   "outputs": [],
   "source": [
    "df_atendimento_especializado['atendimento_especializado'].value_counts(normalize=True) * 100"
   ]
  },
  {
   "cell_type": "markdown",
   "id": "947da99b",
   "metadata": {
    "id": "947da99b"
   },
   "source": [
    "- **Analisando as** $Notas$ **por atendimento** $Especializado$"
   ]
  },
  {
   "cell_type": "code",
   "execution_count": null,
   "id": "75e66925",
   "metadata": {
    "id": "75e66925"
   },
   "outputs": [],
   "source": [
    "# Analisando as notas por atendimento especializado\n",
    "sns.set_style(\"darkgrid\")\n",
    "figura, graficos = plt.subplots(1, 4, sharey=True, figsize=(8,6))\n",
    "plt.tight_layout()\n",
    "\n",
    "for i in range(4):\n",
    "    coluna_1 = colunas_notas[i]\n",
    "    sns.boxplot(data=df_atendimento_especializado, y=coluna_1, x='atendimento_especializado', ax=graficos[i])"
   ]
  },
  {
   "cell_type": "markdown",
   "id": "7c042c36",
   "metadata": {
    "id": "7c042c36"
   },
   "source": [
    "### **Criando um DataFrame com as** $Notas$ e $Nível$  $de$ $instrução$ dos pais e mães"
   ]
  },
  {
   "cell_type": "code",
   "execution_count": null,
   "id": "0171a925",
   "metadata": {
    "id": "0171a925"
   },
   "outputs": [],
   "source": [
    "# Criando df com as notas e nível de instrução dos pais e mães\n",
    "df_instrucao_pais = df_enem.loc[:, colunas_notas + ['pai_possui_superior', 'mae_possui_superior']]\n",
    "df_instrucao_pais.head()"
   ]
  },
  {
   "cell_type": "code",
   "execution_count": null,
   "id": "12970ea2",
   "metadata": {
    "id": "12970ea2"
   },
   "outputs": [],
   "source": [
    "# Analisando as notas por nivel instrução pais\n",
    "sns.set_style(\"darkgrid\")\n",
    "figura, graficos = plt.subplots(1, 4, sharey=True, figsize=(10,4))\n",
    "plt.tight_layout()\n",
    "\n",
    "for i in range(4):\n",
    "    coluna_1 = colunas_notas[i]\n",
    "    sns.boxplot(data=df_instrucao_pais, y=coluna_1, x='pai_possui_superior', ax=graficos[i])"
   ]
  },
  {
   "cell_type": "code",
   "execution_count": null,
   "id": "1e05f8fa",
   "metadata": {
    "id": "1e05f8fa"
   },
   "outputs": [],
   "source": [
    "# Analisando as notas por nivel instrução mães\n",
    "sns.set_style(\"darkgrid\")\n",
    "figura, graficos = plt.subplots(1, 4, sharey=True, figsize=(10,4))\n",
    "plt.tight_layout()\n",
    "\n",
    "for i in range(4):\n",
    "    coluna_1 = colunas_notas[i]\n",
    "    sns.boxplot(data=df_instrucao_pais, y=coluna_1, x='mae_possui_superior', ax=graficos[i])"
   ]
  },
  {
   "cell_type": "markdown",
   "id": "6921d3e8",
   "metadata": {
    "id": "6921d3e8"
   },
   "source": [
    "### **Analisando a Corelação entre a** $Idade$ **e as** $Notas$"
   ]
  },
  {
   "cell_type": "code",
   "execution_count": null,
   "id": "b6dee934",
   "metadata": {
    "id": "b6dee934"
   },
   "outputs": [],
   "source": [
    "# Analisando correlação de idades com notas\n",
    "df_idade = df_enem.loc[:, colunas_notas + ['NU_IDADE']]\n",
    "\n",
    "sns.scatterplot(data=df_idade, x='NU_IDADE', y='NU_NOTA_CN');"
   ]
  },
  {
   "cell_type": "code",
   "execution_count": null,
   "id": "447c08df",
   "metadata": {
    "id": "447c08df"
   },
   "outputs": [],
   "source": [
    "# Analisando correlação de pearson entre as notas e a idade\n",
    "correlacoes_idade = df_idade.corr()\n",
    "sns.heatmap(correlacoes_idade);"
   ]
  },
  {
   "cell_type": "code",
   "execution_count": null,
   "id": "f1fe96db",
   "metadata": {
    "id": "f1fe96db"
   },
   "outputs": [],
   "source": [
    "# Analisando a renda\n",
    "df_renda = df_enem.loc[:, colunas_notas + ['renda_familiar']]\n",
    "\n",
    "sns.scatterplot(data=df_renda, x='renda_familiar', y='NU_NOTA_CN');\n"
   ]
  },
  {
   "cell_type": "code",
   "execution_count": null,
   "id": "9a4cad18",
   "metadata": {
    "id": "9a4cad18"
   },
   "outputs": [],
   "source": [
    "# Analisando correlação de pearson entre a renda familiar e a idade\n",
    "correlacoes_renda = df_renda.corr()\n",
    "sns.heatmap(correlacoes_renda);"
   ]
  },
  {
   "cell_type": "markdown",
   "id": "ceedd3ba",
   "metadata": {
    "id": "ceedd3ba"
   },
   "source": [
    "## <a> Conclusões </a>\n",
    "\n",
    "Depois de analisar os dados com o objetivo de avaliar possíveis relações entre características dos candidatos e as notas dos mesmos, podemos afirmar que existe alguma evidência de que há correlações entre as notas:\n",
    "- raça (principalmente indígenas)\n",
    "- escolaridade dos pais (notas de matemática muito influenciadas)\n",
    "- renda familiar na nota de matemática (correlação pouco acima de $0,5$)\n",
    "\n",
    "Não pudemos confirmar com essa amostra que sexo, idade, atendimento especializado tem relação com as notas.\n",
    "\n",
    "Ficou claro que a grande maioria dos candidatos é de origem \"humilde\" com renda familiar inferior a R$ 2.000,00\n",
    "\n",
    "O candidato $padrão$ do ENEM é mulher, com $18$ anos, solteira, parda, com renda familiar inferior a R$1.500,00 com ambos pai e mãe sem ensino superior completo.\n"
   ]
  }
 ],
 "metadata": {
  "colab": {
   "provenance": []
  },
  "kernelspec": {
   "display_name": "Python 3 (ipykernel)",
   "language": "python",
   "name": "python3"
  },
  "language_info": {
   "codemirror_mode": {
    "name": "ipython",
    "version": 3
   },
   "file_extension": ".py",
   "mimetype": "text/x-python",
   "name": "python",
   "nbconvert_exporter": "python",
   "pygments_lexer": "ipython3",
   "version": "3.11.5"
  }
 },
 "nbformat": 4,
 "nbformat_minor": 5
}
