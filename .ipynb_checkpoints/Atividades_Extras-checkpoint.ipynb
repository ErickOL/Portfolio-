{
 "cells": [
  {
   "cell_type": "markdown",
   "id": "4160715a",
   "metadata": {},
   "source": [
    "# <font color = 'Redblue'> **Análise Exploratória**</font> $→$ <font color = 'GREY'> **Previsão de Custo de Seguro Médico**</font>"
   ]
  },
  {
   "cell_type": "markdown",
   "id": "bc7b30ff",
   "metadata": {},
   "source": [
    "### **Contexto**\n",
    "\n",
    "- Para este projeto, temos um conjunto de dados relativo ao **custo de seguro médico** de vários clientes de uma empresa de seguro, com o objetivo analítico de construir um modelo preditivo de regressão que seja útil e acurado o suficiente para prever o custo de seguro médico de um segurado, com base no perfil e nas características que forem fornecidas sobre tal segurado."
   ]
  },
  {
   "cell_type": "markdown",
   "id": "ba821218",
   "metadata": {},
   "source": [
    "### **Objetivo Principal**\n",
    "\n",
    "- Então eu te convido a realizar uma Análise Exploratória de Dados (EDA)para podermos saber com mais precisão, quais são às variáveis que mais impactam e influenciam nos resultados da variável-alvo $(charges)$."
   ]
  },
  {
   "cell_type": "markdown",
   "id": "0aa7b636",
   "metadata": {},
   "source": [
    "## *Descrição das Variáveis*"
   ]
  },
  {
   "cell_type": "markdown",
   "id": "b9885a2e",
   "metadata": {},
   "source": [
    "- **age** $→$ Idade do segurado;\n",
    "\n",
    "- **sex** $→$  Gênero do segurado;\n",
    "\n",
    "- **bmi** $→$ Índice de Massa Corporal ou IMC do segurado;\n",
    "\n",
    "- **children** $→$ Quantidade de filhos do segurado;\n",
    "\n",
    "- **smoker** $→$ Se o segurado/pessoa é fumante ou não;\n",
    "\n",
    "- **region** $→$ Região em que o segurado mora;\n",
    "\n",
    "- **charges** $→$ O custo de seguro médico do segurado"
   ]
  },
  {
   "cell_type": "markdown",
   "id": "71d45b04",
   "metadata": {},
   "source": [
    "## <font color = 'ligthstee'> **Responda as perguntas abaixo**👇🏽👇</font>"
   ]
  },
  {
   "cell_type": "markdown",
   "id": "1645adad",
   "metadata": {},
   "source": [
    "- Qual é a média de idade dos segurados?\n",
    "\n",
    "Media de idade é 39,21 anos aproximadamente\n",
    "\n",
    "- Qual é a mediana de custos de seguro médico para jovens adultos (20 e 39 anos) e adultos maduros (40 e 69 anos)?\n",
    "- Qual é a distribuição estatística da idade dos segurados?\n",
    "- Qual é a mediana de custo de seguro médico por segurados abaixo do peso, acima do peso ou com o peso normal (com base no IMC)?\n",
    "- Qual é a distribuição estatística do IMC dos segurados?\n",
    "- Qual é a mediana de custos de seguro médico por fumantes e não-fumantes?\n",
    "- Qual é a média de custos de seguro médico por região?\n",
    "- Qual é a distribuição estatística do custos de seguro médico?"
   ]
  },
  {
   "cell_type": "markdown",
   "id": "9f6c01a7",
   "metadata": {},
   "source": [
    "**Bibliotecas**"
   ]
  },
  {
   "cell_type": "code",
   "execution_count": 1,
   "id": "809157ca",
   "metadata": {},
   "outputs": [],
   "source": [
    "# Importando as Bibliotecas\n",
    "import pandas as pd # ---> É uma bibliotecas para Manipular dados\n",
    "import matplotlib.pyplot as plt # ---> Serve para criar visualizções (Gráficos)\n",
    "import seaborn as sns # ---> Serve para criar visualizções (Gráficos)\n",
    "import numpy as np # ---> Biblioteca Matematica (Serve para fazer manipulações matematicas)\n",
    "\n",
    "# Serve para Ignorando alertas idesejados\n",
    "import warnings\n",
    "warnings.filterwarnings(\"ignore\")\n",
    "\n",
    "# Serve para Manter os gráficos nesse mesmo Notebook\n",
    "%matplotlib inline\n",
    "\n",
    "# Define o estilo do gráfico seaborn\n",
    "sns.set(style=\"whitegrid\")  "
   ]
  },
  {
   "cell_type": "markdown",
   "id": "1e395e8b",
   "metadata": {},
   "source": [
    "## **Importando e Conhecendo os Dados**"
   ]
  },
  {
   "cell_type": "code",
   "execution_count": null,
   "id": "00cab29f",
   "metadata": {},
   "outputs": [],
   "source": [
    "dados = pd.read_csv('seguro_medico.csv')"
   ]
  },
  {
   "cell_type": "code",
   "execution_count": null,
   "id": "444f968f",
   "metadata": {},
   "outputs": [],
   "source": [
    "dados"
   ]
  },
  {
   "cell_type": "code",
   "execution_count": null,
   "id": "e82c99ef",
   "metadata": {},
   "outputs": [],
   "source": [
    "dados.head(45)"
   ]
  },
  {
   "cell_type": "code",
   "execution_count": null,
   "id": "2e68d894",
   "metadata": {},
   "outputs": [],
   "source": [
    "dados.tail()"
   ]
  },
  {
   "cell_type": "code",
   "execution_count": null,
   "id": "68a95b6c",
   "metadata": {},
   "outputs": [],
   "source": [
    "dados.columns"
   ]
  },
  {
   "cell_type": "code",
   "execution_count": null,
   "id": "f46f5d13",
   "metadata": {},
   "outputs": [],
   "source": [
    "dados.shape"
   ]
  },
  {
   "cell_type": "code",
   "execution_count": null,
   "id": "b13b80b0",
   "metadata": {},
   "outputs": [],
   "source": [
    "dados.info()"
   ]
  },
  {
   "cell_type": "code",
   "execution_count": null,
   "id": "cecfe8b0",
   "metadata": {},
   "outputs": [],
   "source": [
    "dados.count()"
   ]
  },
  {
   "cell_type": "code",
   "execution_count": null,
   "id": "baf38c33",
   "metadata": {},
   "outputs": [],
   "source": [
    "dados.isna().sum()"
   ]
  },
  {
   "cell_type": "code",
   "execution_count": null,
   "id": "90759e96",
   "metadata": {},
   "outputs": [],
   "source": [
    "dados.duplicated()"
   ]
  },
  {
   "cell_type": "code",
   "execution_count": null,
   "id": "133ca35f",
   "metadata": {},
   "outputs": [],
   "source": [
    "dados.sex.unique()"
   ]
  },
  {
   "cell_type": "code",
   "execution_count": null,
   "id": "f7642398",
   "metadata": {
    "scrolled": true
   },
   "outputs": [],
   "source": [
    "dados['smoker'].unique()"
   ]
  },
  {
   "cell_type": "code",
   "execution_count": null,
   "id": "97b8f3d7",
   "metadata": {},
   "outputs": [],
   "source": [
    "dados.describe()"
   ]
  },
  {
   "cell_type": "markdown",
   "id": "99bff960",
   "metadata": {},
   "source": [
    " **Qual é a média de idade dos segurados?**"
   ]
  },
  {
   "cell_type": "markdown",
   "id": "0f663d66",
   "metadata": {},
   "source": [
    "Media de idade é 39,21 anos aproximadamente, a mediana de idade é 39 anos."
   ]
  },
  {
   "cell_type": "markdown",
   "id": "d06946c3",
   "metadata": {},
   "source": [
    "**Qual é a mediana de custos de seguro médico para jovens adultos (20 e 39 anos) e adultos maduros (40 e 69 anos)?**"
   ]
  },
  {
   "cell_type": "code",
   "execution_count": null,
   "id": "9f79ace4",
   "metadata": {},
   "outputs": [],
   "source": [
    "dados_filtrados1= dados[(dados['age'] >= 20) & (dados['age'] <= 30)]\n",
    "dados_filtrados2= dados[(dados['age'] >= 40) & (dados['age'] <= 69)]\n",
    "\n",
    "mediana_idades1 = dados_filtrados1['age'].median()\n",
    "mediana_idades2 = dados_filtrados2['age'].median()\n",
    "print(\"A mediana das idades entre 20 e 30 anos é {} e mediana das idades 40 a 69 é {}:\".format(mediana_idades1,mediana_idades2))\n"
   ]
  },
  {
   "cell_type": "markdown",
   "id": "1ddd92ef",
   "metadata": {},
   "source": [
    "**Qual é a distribuição estatística da idade dos segurados?**"
   ]
  },
  {
   "cell_type": "code",
   "execution_count": null,
   "id": "3205eb26",
   "metadata": {},
   "outputs": [],
   "source": [
    "# Gráfico: Distribuição de Idade dos Clientes\n",
    "plt.figure(figsize=(8, 6))\n",
    "sns.histplot(dados['age'], bins=20, kde=True)\n",
    "plt.title('distribuição de idade')\n",
    "plt.ylabel('Pessoas')\n",
    "plt.show();"
   ]
  },
  {
   "cell_type": "markdown",
   "id": "1d91011c",
   "metadata": {},
   "source": [
    "**Qual é a mediana de custo de seguro médico por segurados abaixo do peso, acima do peso ou com o peso normal (com base no IMC)?**"
   ]
  },
  {
   "cell_type": "code",
   "execution_count": null,
   "id": "c325b075",
   "metadata": {},
   "outputs": [],
   "source": [
    "categorias = ['Abaixo do peso', 'Peso normal', 'Sobrepeso']\n",
    "limites = [0, 18.5, 24.9, 90]\n",
    "\n",
    "df = pd.DataFrame(dados)\n",
    "\n",
    "# Categorize os dados com base no IMC\n",
    "df['Categoria_IMC'] = pd.cut(df['bmi'], bins=limites, labels=categorias, right=False)\n",
    "\n",
    "# Agrupe os dados pelo IMC categorizado e calcule a média da idade em cada categoria\n",
    "grupo = df.groupby('Categoria_IMC')['charges'].median()\n",
    "\n",
    "print(grupo)"
   ]
  },
  {
   "cell_type": "markdown",
   "id": "7df46523",
   "metadata": {},
   "source": [
    "**Qual é a distribuição estatística do IMC dos segurados?**"
   ]
  },
  {
   "cell_type": "markdown",
   "id": "967b6b7d",
   "metadata": {},
   "source": [
    "**Qual é a mediana de custos de seguro médico por fumantes e não-fumantes?**"
   ]
  },
  {
   "cell_type": "code",
   "execution_count": null,
   "id": "2642eaa8",
   "metadata": {},
   "outputs": [],
   "source": [
    "# Verificando a Médiana smoker  por charges\n",
    "dados.groupby('smoker')['charges'].median()"
   ]
  },
  {
   "cell_type": "markdown",
   "id": "1e1c3b8f",
   "metadata": {},
   "source": [
    "**Qual é a média de custos de seguro médico por região?**"
   ]
  },
  {
   "cell_type": "code",
   "execution_count": null,
   "id": "32a9a7b1",
   "metadata": {},
   "outputs": [],
   "source": [
    "# Verificando a Média de Idade por smoker\n",
    "dados.groupby('region')['charges'].mean()"
   ]
  },
  {
   "cell_type": "markdown",
   "id": "77421487",
   "metadata": {},
   "source": [
    "**Qual é a distribuição estatística do custos de seguro médico?**"
   ]
  },
  {
   "cell_type": "code",
   "execution_count": null,
   "id": "6187e3c4",
   "metadata": {},
   "outputs": [],
   "source": [
    "# Gráfico: Distribuição de Idade dos Clientes\n",
    "plt.figure(figsize=(8, 6))\n",
    "sns.histplot(dados['charges'], bins=20, kde=True)\n",
    "plt.title('distribuição de custos')\n",
    "plt.ylabel('Pessoas')\n",
    "plt.show();"
   ]
  },
  {
   "cell_type": "markdown",
   "id": "4f96d070",
   "metadata": {},
   "source": [
    "O IMC dos segurados tendem a aumentar ao decorer dos anos"
   ]
  },
  {
   "cell_type": "code",
   "execution_count": null,
   "id": "a6e7f652",
   "metadata": {},
   "outputs": [],
   "source": [
    "children_quantidade = dados['children'].value_counts()  # Conta a frequência de valores na coluna children\n",
    "children_porcentagem = (children_quantidade * 100) / 1338  # Calcula a porcentagem em relação a 1338\n",
    "\n",
    "# Exibe as contagens e as porcentagens\n",
    "print(\"Contagem de filhos por segurado:\\n{}\".format(children_quantidade))\n",
    "print(\"Pocentagem de segurados com filhos:\\n{}\".format(children_porcentagem ))"
   ]
  },
  {
   "cell_type": "markdown",
   "id": "6099d57f",
   "metadata": {},
   "source": [
    "A porcentagem de segurados sem filho é de 42.89 aproximadamente.\n",
    "574 pessoas não tem filhos"
   ]
  },
  {
   "cell_type": "code",
   "execution_count": null,
   "id": "5526ebdd",
   "metadata": {},
   "outputs": [],
   "source": [
    "# Realizando a Contagem das regioes\n",
    "dados.region.value_counts()"
   ]
  },
  {
   "cell_type": "markdown",
   "id": "279ac73e",
   "metadata": {},
   "source": [
    "Está bem dividido as regioes "
   ]
  },
  {
   "cell_type": "code",
   "execution_count": null,
   "id": "3e476894",
   "metadata": {},
   "outputs": [],
   "source": [
    "(dados.age.value_counts())*100/1338"
   ]
  },
  {
   "cell_type": "markdown",
   "id": "0215d173",
   "metadata": {},
   "source": [
    "Porcentagem de pessoas por idade"
   ]
  },
  {
   "cell_type": "code",
   "execution_count": null,
   "id": "88e746f2",
   "metadata": {},
   "outputs": [],
   "source": [
    "dados.groupby('smoker')['charges'].median()"
   ]
  },
  {
   "cell_type": "markdown",
   "id": "34646117",
   "metadata": {},
   "source": [
    "A mediana de custos de quem não fuma é 7345 e de quem fuma e 34456"
   ]
  },
  {
   "cell_type": "code",
   "execution_count": null,
   "id": "21628e55",
   "metadata": {},
   "outputs": [],
   "source": [
    "dados.groupby('region')['charges'].mean()"
   ]
  },
  {
   "cell_type": "markdown",
   "id": "7ee18db9",
   "metadata": {},
   "source": [
    "Media por região"
   ]
  },
  {
   "cell_type": "code",
   "execution_count": null,
   "id": "48354ce9",
   "metadata": {
    "scrolled": true
   },
   "outputs": [],
   "source": [
    "categorias = ['Abaixo do peso', 'Peso normal', 'Sobrepeso']\n",
    "limites = [0, 18.5, 24.9, 90]\n",
    "\n",
    "df = pd.DataFrame(dados)\n",
    "\n",
    "# Categorize os dados com base no IMC\n",
    "df['Categoria_IMC'] = pd.cut(df['bmi'], bins=limites, labels=categorias, right=False)\n",
    "\n",
    "# Agrupe os dados pelo IMC categorizado e calcule a média da idade em cada categoria\n",
    "grupo = df.groupby('Categoria_IMC')['charges'].median()\n",
    "\n",
    "print(grupo)"
   ]
  },
  {
   "cell_type": "code",
   "execution_count": null,
   "id": "4a87be73",
   "metadata": {},
   "outputs": [],
   "source": [
    "import matplotlib.pyplot as plt\n",
    "\n",
    "# Dados\n",
    "idade = [18, 19, 50, 51, 47, 46, 45, 20, 48, 52, 22, 49, 54, 53, 21, 26, 24, 25, 28, 27, 23, 43, 29, 30, 41, 42, 44, 31, 40, 32, 33, 56, 34, 55, 57, 37, 59, 58, 36, 38, 35, 39, 61, 60, 63, 62, 64]\n",
    "porcentagem = [5.156951, 5.082212, 2.167414, 2.167414, 2.167414, 2.167414, 2.167414, 2.167414, 2.167414, 2.167414, 2.092676, 2.092676, 2.092676, 2.092676, 2.092676, 2.092676, 2.092676, 2.092676, 2.092676, 2.092676, 2.092676, 2.017937, 2.017937, 2.017937, 2.017937, 2.017937, 2.017937, 2.017937, 2.017937, 1.943199, 1.943199, 1.943199, 1.943199, 1.943199, 1.943199, 1.868460, 1.868460, 1.868460, 1.868460, 1.868460, 1.868460, 1.868460, 1.718984, 1.718984, 1.718984, 1.718984, 1.644245]\n",
    "\n",
    "# Plotando o gráfico de dispersão\n",
    "plt.scatter(idade, porcentagem)\n",
    "\n",
    "# Adicionando rótulos aos eixos\n",
    "plt.xlabel('idade')\n",
    "plt.ylabel('porcentagem')\n",
    "\n",
    "# Adicionando título ao gráfico\n",
    "plt.title('Gráfico de Dispersão')\n",
    "\n",
    "# Exibindo o gráfico\n",
    "plt.show()\n",
    "\n",
    "\n",
    "\n"
   ]
  },
  {
   "cell_type": "code",
   "execution_count": null,
   "id": "135ed50e",
   "metadata": {},
   "outputs": [],
   "source": []
  },
  {
   "cell_type": "code",
   "execution_count": null,
   "id": "c3ad2427",
   "metadata": {},
   "outputs": [],
   "source": []
  },
  {
   "cell_type": "code",
   "execution_count": null,
   "id": "1aa0d836",
   "metadata": {},
   "outputs": [],
   "source": []
  },
  {
   "cell_type": "code",
   "execution_count": null,
   "id": "8d4ffb15",
   "metadata": {},
   "outputs": [],
   "source": [
    "dados.groupby('sex')['charges'].median()"
   ]
  },
  {
   "cell_type": "markdown",
   "id": "a7916af4",
   "metadata": {},
   "source": [
    "Os homens na mediana gastam mais "
   ]
  },
  {
   "cell_type": "markdown",
   "id": "2b4c2e68",
   "metadata": {},
   "source": []
  },
  {
   "cell_type": "code",
   "execution_count": null,
   "id": "58d2dba2",
   "metadata": {},
   "outputs": [],
   "source": []
  },
  {
   "cell_type": "code",
   "execution_count": null,
   "id": "fbdd4f19",
   "metadata": {},
   "outputs": [],
   "source": []
  },
  {
   "cell_type": "markdown",
   "id": "2750e197",
   "metadata": {},
   "source": [
    "# <font color = 'Redblue'> **Análise Exploratória**</font> $→$ <font color = 'GREY'> **Titanic**</font>"
   ]
  },
  {
   "cell_type": "markdown",
   "id": "68d0738d",
   "metadata": {},
   "source": [
    "### **Contexto**\n",
    "\n",
    "- O naufrágio do Titanic é um dos eventos mais conhecidos do mundo.\n",
    "\n",
    "### **Objetivo Principal**\n",
    "\n",
    "-  É analisar ou identificar  os principais fatores grupos de passageiros com maior **chance de sobrevivência** tendo em vista as características demográficas e sociais presentes na base de dados."
   ]
  },
  {
   "cell_type": "markdown",
   "id": "0c5bb03d",
   "metadata": {},
   "source": [
    "## *Descrição das Variáveis*"
   ]
  },
  {
   "cell_type": "markdown",
   "id": "e63084ab",
   "metadata": {},
   "source": [
    "- **PassengerId** $→$Indetificador único do  passageiro  na viagem;\n",
    "\n",
    "- **Survived** $→$ é a variável alvo $(Target)$, que indica a sobrevivência do passageiro, isto é:\n",
    "   - $1 →$ *Indica que o passageiro sobreviveu*\n",
    "   - $0→$ *Indica que o passageiro não sobreviveu*\n",
    "\n",
    "- **Pclass** $→$ Representa a classe social do passageiro, isto é:\n",
    "   - $1→$ Classe Alta\n",
    "   - $2→$ Classe Média\n",
    "   - $3→$ Classe Baixa\n",
    "\n",
    "- **Name** $→$ Indica o Nome do passageiro;\n",
    "\n",
    "- **Sex** $→$ Indica o Sexo/gênero do passageiro;\n",
    "\n",
    "- **Age** $→$ Indica a Idade do passageiro;\n",
    "\n",
    "- **SibSp** Inica o total de irmãos/cônjuges do passageiro a bordo do navio;\n",
    "\n",
    "- **Parch** $→$ Total de pais/filhos do passageiro a bordo do navio;\n",
    "\n",
    "- **Ticket** $→$ Número de referência do bilhete do passageiro;\n",
    "\n",
    "- **Fare** $→$ Valor pago pelo passageiro na compra da passagem;\n",
    "\n",
    "- **Cabin** $→$ Número de referência da cabine em que está o passageiro;\n",
    "\n",
    "- **Embarked** $→$ Indica o local/porto de embarque:\n",
    "\n",
    "   - $C→$ *Cherbourg*\n",
    "   - $Q →$ *Queenstown*\n",
    "   - $S →$ *Southampton*"
   ]
  },
  {
   "cell_type": "code",
   "execution_count": 6,
   "id": "257d5718",
   "metadata": {},
   "outputs": [],
   "source": [
    "# Importando as Bibliotecas\n",
    "import pandas as pd # ---> É uma bibliotecas para Manipular dados\n",
    "import matplotlib.pyplot as plt # ---> Serve para criar visualizções (Gráficos)\n",
    "import seaborn as sns # ---> Serve para criar visualizções (Gráficos)\n",
    "import numpy as np # ---> Biblioteca Matematica (Serve para fazer manipulações matematicas)\n",
    "\n",
    "# Serve para Ignorando alertas idesejados\n",
    "import warnings\n",
    "warnings.filterwarnings(\"ignore\")\n",
    "\n",
    "# Serve para Manter os gráficos nesse mesmo Notebook\n",
    "%matplotlib inline\n",
    "\n",
    "# Define o estilo do gráfico seaborn\n",
    "sns.set(style=\"whitegrid\")"
   ]
  },
  {
   "cell_type": "code",
   "execution_count": 7,
   "id": "f5a21822",
   "metadata": {},
   "outputs": [
    {
     "ename": "FileNotFoundError",
     "evalue": "[Errno 2] No such file or directory: 'titanic.csv'",
     "output_type": "error",
     "traceback": [
      "\u001b[1;31m---------------------------------------------------------------------------\u001b[0m",
      "\u001b[1;31mFileNotFoundError\u001b[0m                         Traceback (most recent call last)",
      "Cell \u001b[1;32mIn[7], line 2\u001b[0m\n\u001b[0;32m      1\u001b[0m \u001b[38;5;66;03m# Carregando os Dados\u001b[39;00m\n\u001b[1;32m----> 2\u001b[0m titanic \u001b[38;5;241m=\u001b[39m pd\u001b[38;5;241m.\u001b[39mread_csv(\u001b[38;5;124m'\u001b[39m\u001b[38;5;124mtitanic.csv\u001b[39m\u001b[38;5;124m'\u001b[39m)\n",
      "File \u001b[1;32mC:\\instalacao\\Anaconda\\Lib\\site-packages\\pandas\\io\\parsers\\readers.py:912\u001b[0m, in \u001b[0;36mread_csv\u001b[1;34m(filepath_or_buffer, sep, delimiter, header, names, index_col, usecols, dtype, engine, converters, true_values, false_values, skipinitialspace, skiprows, skipfooter, nrows, na_values, keep_default_na, na_filter, verbose, skip_blank_lines, parse_dates, infer_datetime_format, keep_date_col, date_parser, date_format, dayfirst, cache_dates, iterator, chunksize, compression, thousands, decimal, lineterminator, quotechar, quoting, doublequote, escapechar, comment, encoding, encoding_errors, dialect, on_bad_lines, delim_whitespace, low_memory, memory_map, float_precision, storage_options, dtype_backend)\u001b[0m\n\u001b[0;32m    899\u001b[0m kwds_defaults \u001b[38;5;241m=\u001b[39m _refine_defaults_read(\n\u001b[0;32m    900\u001b[0m     dialect,\n\u001b[0;32m    901\u001b[0m     delimiter,\n\u001b[1;32m   (...)\u001b[0m\n\u001b[0;32m    908\u001b[0m     dtype_backend\u001b[38;5;241m=\u001b[39mdtype_backend,\n\u001b[0;32m    909\u001b[0m )\n\u001b[0;32m    910\u001b[0m kwds\u001b[38;5;241m.\u001b[39mupdate(kwds_defaults)\n\u001b[1;32m--> 912\u001b[0m \u001b[38;5;28;01mreturn\u001b[39;00m _read(filepath_or_buffer, kwds)\n",
      "File \u001b[1;32mC:\\instalacao\\Anaconda\\Lib\\site-packages\\pandas\\io\\parsers\\readers.py:577\u001b[0m, in \u001b[0;36m_read\u001b[1;34m(filepath_or_buffer, kwds)\u001b[0m\n\u001b[0;32m    574\u001b[0m _validate_names(kwds\u001b[38;5;241m.\u001b[39mget(\u001b[38;5;124m\"\u001b[39m\u001b[38;5;124mnames\u001b[39m\u001b[38;5;124m\"\u001b[39m, \u001b[38;5;28;01mNone\u001b[39;00m))\n\u001b[0;32m    576\u001b[0m \u001b[38;5;66;03m# Create the parser.\u001b[39;00m\n\u001b[1;32m--> 577\u001b[0m parser \u001b[38;5;241m=\u001b[39m TextFileReader(filepath_or_buffer, \u001b[38;5;241m*\u001b[39m\u001b[38;5;241m*\u001b[39mkwds)\n\u001b[0;32m    579\u001b[0m \u001b[38;5;28;01mif\u001b[39;00m chunksize \u001b[38;5;129;01mor\u001b[39;00m iterator:\n\u001b[0;32m    580\u001b[0m     \u001b[38;5;28;01mreturn\u001b[39;00m parser\n",
      "File \u001b[1;32mC:\\instalacao\\Anaconda\\Lib\\site-packages\\pandas\\io\\parsers\\readers.py:1407\u001b[0m, in \u001b[0;36mTextFileReader.__init__\u001b[1;34m(self, f, engine, **kwds)\u001b[0m\n\u001b[0;32m   1404\u001b[0m     \u001b[38;5;28mself\u001b[39m\u001b[38;5;241m.\u001b[39moptions[\u001b[38;5;124m\"\u001b[39m\u001b[38;5;124mhas_index_names\u001b[39m\u001b[38;5;124m\"\u001b[39m] \u001b[38;5;241m=\u001b[39m kwds[\u001b[38;5;124m\"\u001b[39m\u001b[38;5;124mhas_index_names\u001b[39m\u001b[38;5;124m\"\u001b[39m]\n\u001b[0;32m   1406\u001b[0m \u001b[38;5;28mself\u001b[39m\u001b[38;5;241m.\u001b[39mhandles: IOHandles \u001b[38;5;241m|\u001b[39m \u001b[38;5;28;01mNone\u001b[39;00m \u001b[38;5;241m=\u001b[39m \u001b[38;5;28;01mNone\u001b[39;00m\n\u001b[1;32m-> 1407\u001b[0m \u001b[38;5;28mself\u001b[39m\u001b[38;5;241m.\u001b[39m_engine \u001b[38;5;241m=\u001b[39m \u001b[38;5;28mself\u001b[39m\u001b[38;5;241m.\u001b[39m_make_engine(f, \u001b[38;5;28mself\u001b[39m\u001b[38;5;241m.\u001b[39mengine)\n",
      "File \u001b[1;32mC:\\instalacao\\Anaconda\\Lib\\site-packages\\pandas\\io\\parsers\\readers.py:1661\u001b[0m, in \u001b[0;36mTextFileReader._make_engine\u001b[1;34m(self, f, engine)\u001b[0m\n\u001b[0;32m   1659\u001b[0m     \u001b[38;5;28;01mif\u001b[39;00m \u001b[38;5;124m\"\u001b[39m\u001b[38;5;124mb\u001b[39m\u001b[38;5;124m\"\u001b[39m \u001b[38;5;129;01mnot\u001b[39;00m \u001b[38;5;129;01min\u001b[39;00m mode:\n\u001b[0;32m   1660\u001b[0m         mode \u001b[38;5;241m+\u001b[39m\u001b[38;5;241m=\u001b[39m \u001b[38;5;124m\"\u001b[39m\u001b[38;5;124mb\u001b[39m\u001b[38;5;124m\"\u001b[39m\n\u001b[1;32m-> 1661\u001b[0m \u001b[38;5;28mself\u001b[39m\u001b[38;5;241m.\u001b[39mhandles \u001b[38;5;241m=\u001b[39m get_handle(\n\u001b[0;32m   1662\u001b[0m     f,\n\u001b[0;32m   1663\u001b[0m     mode,\n\u001b[0;32m   1664\u001b[0m     encoding\u001b[38;5;241m=\u001b[39m\u001b[38;5;28mself\u001b[39m\u001b[38;5;241m.\u001b[39moptions\u001b[38;5;241m.\u001b[39mget(\u001b[38;5;124m\"\u001b[39m\u001b[38;5;124mencoding\u001b[39m\u001b[38;5;124m\"\u001b[39m, \u001b[38;5;28;01mNone\u001b[39;00m),\n\u001b[0;32m   1665\u001b[0m     compression\u001b[38;5;241m=\u001b[39m\u001b[38;5;28mself\u001b[39m\u001b[38;5;241m.\u001b[39moptions\u001b[38;5;241m.\u001b[39mget(\u001b[38;5;124m\"\u001b[39m\u001b[38;5;124mcompression\u001b[39m\u001b[38;5;124m\"\u001b[39m, \u001b[38;5;28;01mNone\u001b[39;00m),\n\u001b[0;32m   1666\u001b[0m     memory_map\u001b[38;5;241m=\u001b[39m\u001b[38;5;28mself\u001b[39m\u001b[38;5;241m.\u001b[39moptions\u001b[38;5;241m.\u001b[39mget(\u001b[38;5;124m\"\u001b[39m\u001b[38;5;124mmemory_map\u001b[39m\u001b[38;5;124m\"\u001b[39m, \u001b[38;5;28;01mFalse\u001b[39;00m),\n\u001b[0;32m   1667\u001b[0m     is_text\u001b[38;5;241m=\u001b[39mis_text,\n\u001b[0;32m   1668\u001b[0m     errors\u001b[38;5;241m=\u001b[39m\u001b[38;5;28mself\u001b[39m\u001b[38;5;241m.\u001b[39moptions\u001b[38;5;241m.\u001b[39mget(\u001b[38;5;124m\"\u001b[39m\u001b[38;5;124mencoding_errors\u001b[39m\u001b[38;5;124m\"\u001b[39m, \u001b[38;5;124m\"\u001b[39m\u001b[38;5;124mstrict\u001b[39m\u001b[38;5;124m\"\u001b[39m),\n\u001b[0;32m   1669\u001b[0m     storage_options\u001b[38;5;241m=\u001b[39m\u001b[38;5;28mself\u001b[39m\u001b[38;5;241m.\u001b[39moptions\u001b[38;5;241m.\u001b[39mget(\u001b[38;5;124m\"\u001b[39m\u001b[38;5;124mstorage_options\u001b[39m\u001b[38;5;124m\"\u001b[39m, \u001b[38;5;28;01mNone\u001b[39;00m),\n\u001b[0;32m   1670\u001b[0m )\n\u001b[0;32m   1671\u001b[0m \u001b[38;5;28;01massert\u001b[39;00m \u001b[38;5;28mself\u001b[39m\u001b[38;5;241m.\u001b[39mhandles \u001b[38;5;129;01mis\u001b[39;00m \u001b[38;5;129;01mnot\u001b[39;00m \u001b[38;5;28;01mNone\u001b[39;00m\n\u001b[0;32m   1672\u001b[0m f \u001b[38;5;241m=\u001b[39m \u001b[38;5;28mself\u001b[39m\u001b[38;5;241m.\u001b[39mhandles\u001b[38;5;241m.\u001b[39mhandle\n",
      "File \u001b[1;32mC:\\instalacao\\Anaconda\\Lib\\site-packages\\pandas\\io\\common.py:859\u001b[0m, in \u001b[0;36mget_handle\u001b[1;34m(path_or_buf, mode, encoding, compression, memory_map, is_text, errors, storage_options)\u001b[0m\n\u001b[0;32m    854\u001b[0m \u001b[38;5;28;01melif\u001b[39;00m \u001b[38;5;28misinstance\u001b[39m(handle, \u001b[38;5;28mstr\u001b[39m):\n\u001b[0;32m    855\u001b[0m     \u001b[38;5;66;03m# Check whether the filename is to be opened in binary mode.\u001b[39;00m\n\u001b[0;32m    856\u001b[0m     \u001b[38;5;66;03m# Binary mode does not support 'encoding' and 'newline'.\u001b[39;00m\n\u001b[0;32m    857\u001b[0m     \u001b[38;5;28;01mif\u001b[39;00m ioargs\u001b[38;5;241m.\u001b[39mencoding \u001b[38;5;129;01mand\u001b[39;00m \u001b[38;5;124m\"\u001b[39m\u001b[38;5;124mb\u001b[39m\u001b[38;5;124m\"\u001b[39m \u001b[38;5;129;01mnot\u001b[39;00m \u001b[38;5;129;01min\u001b[39;00m ioargs\u001b[38;5;241m.\u001b[39mmode:\n\u001b[0;32m    858\u001b[0m         \u001b[38;5;66;03m# Encoding\u001b[39;00m\n\u001b[1;32m--> 859\u001b[0m         handle \u001b[38;5;241m=\u001b[39m \u001b[38;5;28mopen\u001b[39m(\n\u001b[0;32m    860\u001b[0m             handle,\n\u001b[0;32m    861\u001b[0m             ioargs\u001b[38;5;241m.\u001b[39mmode,\n\u001b[0;32m    862\u001b[0m             encoding\u001b[38;5;241m=\u001b[39mioargs\u001b[38;5;241m.\u001b[39mencoding,\n\u001b[0;32m    863\u001b[0m             errors\u001b[38;5;241m=\u001b[39merrors,\n\u001b[0;32m    864\u001b[0m             newline\u001b[38;5;241m=\u001b[39m\u001b[38;5;124m\"\u001b[39m\u001b[38;5;124m\"\u001b[39m,\n\u001b[0;32m    865\u001b[0m         )\n\u001b[0;32m    866\u001b[0m     \u001b[38;5;28;01melse\u001b[39;00m:\n\u001b[0;32m    867\u001b[0m         \u001b[38;5;66;03m# Binary mode\u001b[39;00m\n\u001b[0;32m    868\u001b[0m         handle \u001b[38;5;241m=\u001b[39m \u001b[38;5;28mopen\u001b[39m(handle, ioargs\u001b[38;5;241m.\u001b[39mmode)\n",
      "\u001b[1;31mFileNotFoundError\u001b[0m: [Errno 2] No such file or directory: 'titanic.csv'"
     ]
    }
   ],
   "source": [
    "# Carregando os Dados\n",
    "titanic = pd.read_csv('titanic.csv')"
   ]
  },
  {
   "cell_type": "code",
   "execution_count": null,
   "id": "735afdf3",
   "metadata": {},
   "outputs": [],
   "source": [
    "titanic"
   ]
  },
  {
   "cell_type": "code",
   "execution_count": null,
   "id": "fd85d7cd",
   "metadata": {},
   "outputs": [],
   "source": [
    "styled_df = titanic.head(15).style\n",
    "\n",
    "# Defina a cor de fundo, a cor do texto e a borda de todo o DataFrame\n",
    "styled_df.set_properties(**{\"background-color\": \"#254E58\", \"color\": \"#e9c46a\", \"border\": \"1.5px solid black\"})\n",
    "\n",
    "# Modificando a cor de fundo dos cabeçalhos da tabela\n",
    "styled_df.set_table_styles([\n",
    "    {\"selector\": \"th\", \"props\": [(\"color\", 'white'), (\"background-color\", \"#333333\")]}\n",
    "])"
   ]
  },
  {
   "cell_type": "code",
   "execution_count": null,
   "id": "54bda7e2",
   "metadata": {},
   "outputs": [],
   "source": [
    "# Verificando o nome das colunas\n",
    "titanic.columns"
   ]
  },
  {
   "cell_type": "code",
   "execution_count": null,
   "id": "b59f7716",
   "metadata": {},
   "outputs": [],
   "source": [
    "titanic.shape"
   ]
  },
  {
   "cell_type": "code",
   "execution_count": 4,
   "id": "39a9e194",
   "metadata": {},
   "outputs": [
    {
     "ename": "NameError",
     "evalue": "name 'titanic' is not defined",
     "output_type": "error",
     "traceback": [
      "\u001b[1;31m---------------------------------------------------------------------------\u001b[0m",
      "\u001b[1;31mNameError\u001b[0m                                 Traceback (most recent call last)",
      "Cell \u001b[1;32mIn[4], line 1\u001b[0m\n\u001b[1;32m----> 1\u001b[0m titanic\u001b[38;5;241m.\u001b[39minfo()\n",
      "\u001b[1;31mNameError\u001b[0m: name 'titanic' is not defined"
     ]
    }
   ],
   "source": [
    "titanic.info()"
   ]
  },
  {
   "cell_type": "code",
   "execution_count": 5,
   "id": "92f5620f",
   "metadata": {},
   "outputs": [
    {
     "ename": "NameError",
     "evalue": "name 'titanic' is not defined",
     "output_type": "error",
     "traceback": [
      "\u001b[1;31m---------------------------------------------------------------------------\u001b[0m",
      "\u001b[1;31mNameError\u001b[0m                                 Traceback (most recent call last)",
      "Cell \u001b[1;32mIn[5], line 2\u001b[0m\n\u001b[0;32m      1\u001b[0m \u001b[38;5;66;03m# Verificando a quantidade de Registros\u001b[39;00m\n\u001b[1;32m----> 2\u001b[0m titanic\u001b[38;5;241m.\u001b[39mcount()\n",
      "\u001b[1;31mNameError\u001b[0m: name 'titanic' is not defined"
     ]
    }
   ],
   "source": [
    "# Verificando a quantidade de Registros\n",
    "titanic.count()"
   ]
  },
  {
   "cell_type": "code",
   "execution_count": null,
   "id": "ad668a92",
   "metadata": {},
   "outputs": [],
   "source": [
    "# Verificando se há valores ausentes\n",
    "titanic.isna().sum()"
   ]
  },
  {
   "cell_type": "code",
   "execution_count": null,
   "id": "8c0d01b2",
   "metadata": {},
   "outputs": [],
   "source": [
    "# Verificando se há valores duplicados\n",
    "titanic.duplicated()"
   ]
  },
  {
   "cell_type": "code",
   "execution_count": null,
   "id": "c82963fa",
   "metadata": {},
   "outputs": [],
   "source": [
    "titanic.describe()"
   ]
  },
  {
   "cell_type": "markdown",
   "id": "d441d82e",
   "metadata": {},
   "source": [
    "**Começando a analise**"
   ]
  },
  {
   "cell_type": "markdown",
   "id": "e80154ce",
   "metadata": {},
   "source": [
    "**Qual é a porcentagem de sobreviventes no navio?**"
   ]
  },
  {
   "cell_type": "code",
   "execution_count": null,
   "id": "4389e5e5",
   "metadata": {},
   "outputs": [],
   "source": [
    "# Verificando a porcentagem dos passageiros que sobreviveram\n",
    "(titanic.Survived.value_counts())*100/890"
   ]
  },
  {
   "cell_type": "code",
   "execution_count": null,
   "id": "b14981f1",
   "metadata": {},
   "outputs": [],
   "source": [
    "#Media de subreviventes por sexo\n",
    "titanic.groupby('Sex')['Survived'].mean()"
   ]
  },
  {
   "cell_type": "code",
   "execution_count": null,
   "id": "cc7fb177",
   "metadata": {},
   "outputs": [],
   "source": []
  },
  {
   "cell_type": "code",
   "execution_count": null,
   "id": "d08a1ab7",
   "metadata": {},
   "outputs": [],
   "source": []
  },
  {
   "cell_type": "code",
   "execution_count": null,
   "id": "b154fb2c",
   "metadata": {},
   "outputs": [],
   "source": []
  },
  {
   "cell_type": "code",
   "execution_count": null,
   "id": "1521dec8",
   "metadata": {},
   "outputs": [],
   "source": []
  },
  {
   "cell_type": "code",
   "execution_count": null,
   "id": "193deaa0",
   "metadata": {},
   "outputs": [],
   "source": []
  },
  {
   "cell_type": "code",
   "execution_count": null,
   "id": "7c6298cc",
   "metadata": {},
   "outputs": [],
   "source": []
  },
  {
   "cell_type": "code",
   "execution_count": null,
   "id": "c02bc207",
   "metadata": {},
   "outputs": [],
   "source": []
  },
  {
   "cell_type": "code",
   "execution_count": null,
   "id": "31730a7c",
   "metadata": {},
   "outputs": [],
   "source": []
  },
  {
   "cell_type": "code",
   "execution_count": null,
   "id": "305b95ff",
   "metadata": {},
   "outputs": [],
   "source": []
  },
  {
   "cell_type": "code",
   "execution_count": null,
   "id": "78f172ff",
   "metadata": {},
   "outputs": [],
   "source": []
  },
  {
   "cell_type": "code",
   "execution_count": null,
   "id": "c49c24ea",
   "metadata": {},
   "outputs": [],
   "source": []
  },
  {
   "cell_type": "code",
   "execution_count": null,
   "id": "be14ac2f",
   "metadata": {},
   "outputs": [],
   "source": [
    "# Verificando a porcentagem dos passageiros\n",
    "(titanic.Pclass.value_counts())*100/890"
   ]
  },
  {
   "cell_type": "code",
   "execution_count": null,
   "id": "4a6c3cce",
   "metadata": {},
   "outputs": [],
   "source": [
    "plt.figure(figsize=(8, 6))\n",
    "sns.countplot(data=titanic, x='Pclass', palette='Blues')\n",
    "plt.title('Numero de passageiros por classe social')\n",
    "plt.xlabel('Classe Social')\n",
    "plt.ylabel('Pessoas')\n",
    "plt.show();"
   ]
  },
  {
   "cell_type": "code",
   "execution_count": null,
   "id": "407885cc",
   "metadata": {},
   "outputs": [],
   "source": [
    "\n",
    "\n",
    "plt.figure(figsize=(8, 6))\n",
    "ax = sns.countplot(data=titanic, x='Pclass', palette='Blues')\n",
    "plt.title('Número de passageiros por classe social')\n",
    "plt.xlabel('Classe Social')\n",
    "plt.ylabel('Pessoas')\n",
    "\n",
    "# Substituindo os números 1, 2, 3 por \"Classe Alta\", \"Classe Média\" e \"Classe Baixa\"\n",
    "plt.xticks(ticks=[0, 1, 2], labels=['Classe Média', 'Classe baixa', 'Classe Alta'])\n",
    "\n",
    "plt.show()\n"
   ]
  },
  {
   "cell_type": "code",
   "execution_count": null,
   "id": "df7751f8",
   "metadata": {},
   "outputs": [],
   "source": [
    "plt.figure(figsize=(16, 6))\n",
    "plt.pie(x=titanic['Pclass'].value_counts(),\n",
    "        labels=['classe alta', 'classe media', 'classe baixa'],\n",
    "        autopct='%1.1f%%',\n",
    "        textprops={'fontsize': 11.5, 'color': 'k'},\n",
    "        shadow=True,\n",
    "        colors=sns.color_palette('Blues'),\n",
    "        wedgeprops={'edgecolor': 'lightgreen'})\n",
    "plt.title('Porcentagem por classe social', fontsize=12.5, color='k')\n",
    "plt.show()"
   ]
  },
  {
   "cell_type": "code",
   "execution_count": null,
   "id": "1e3a699e",
   "metadata": {},
   "outputs": [],
   "source": [
    "# Verificando a Média classe social por sobreviventes \n",
    "titanic.groupby('Pclass')['Survived'].mean()"
   ]
  },
  {
   "cell_type": "markdown",
   "id": "281ed830",
   "metadata": {},
   "source": [
    "***A media de sobreviventes da classe alta foi quase 3 vezes mais alta que a de classe baixa***"
   ]
  },
  {
   "cell_type": "code",
   "execution_count": null,
   "id": "357104ce",
   "metadata": {},
   "outputs": [],
   "source": [
    "# Verificando a porcentagem dos passageiros\n",
    "(titanic.Sex.value_counts())*100/890"
   ]
  },
  {
   "cell_type": "code",
   "execution_count": null,
   "id": "36704719",
   "metadata": {},
   "outputs": [],
   "source": [
    "plt.figure(figsize=(8, 6))\n",
    "sns.countplot(data=titanic, x='Sex', palette='Blues')\n",
    "plt.title('Passageiros por Sexo')\n",
    "plt.xlabel('Sexo')\n",
    "plt.ylabel('Pessoas')\n",
    "plt.show();"
   ]
  },
  {
   "cell_type": "code",
   "execution_count": null,
   "id": "920531ce",
   "metadata": {},
   "outputs": [],
   "source": [
    "import matplotlib.pyplot as plt\n",
    "import seaborn as sns\n",
    "\n",
    "plt.figure(figsize=(8, 6))\n",
    "ax = sns.countplot(data=titanic, x='Sex', palette='Blues')\n",
    "plt.title('Passageiros por Sexo')\n",
    "plt.xlabel('Sexo')\n",
    "plt.ylabel('Pessoas')\n",
    "\n",
    "# Adicionando números em cima das barras\n",
    "for p in ax.patches:\n",
    "    ax.annotate(format(p.get_height(), '.0f'), \n",
    "                (p.get_x() + p.get_width() / 2., p.get_height()), \n",
    "                ha = 'center', va = 'center', \n",
    "                xytext = (0, 9), \n",
    "                textcoords = 'offset points')\n",
    "\n",
    "plt.show()\n"
   ]
  },
  {
   "cell_type": "code",
   "execution_count": null,
   "id": "25d16f7f",
   "metadata": {},
   "outputs": [],
   "source": [
    "plt.figure(figsize=(16, 6))\n",
    "plt.pie(x=titanic['Sex'].value_counts(),\n",
    "        labels=['Masculino','Feminino'],\n",
    "        autopct='%1.1f%%',\n",
    "        textprops={'fontsize': 11.5, 'color': 'k'},\n",
    "        shadow=True,\n",
    "        colors=sns.color_palette('Blues'),\n",
    "        wedgeprops={'edgecolor': 'lightgreen'})\n",
    "plt.title('Porcentagem por sexo', fontsize=12.5, color='k')\n",
    "plt.show()"
   ]
  },
  {
   "cell_type": "code",
   "execution_count": null,
   "id": "12a6db06",
   "metadata": {},
   "outputs": [],
   "source": [
    "titanic.groupby('Sex')['Survived'].mean()"
   ]
  },
  {
   "cell_type": "code",
   "execution_count": null,
   "id": "6af453d5",
   "metadata": {},
   "outputs": [],
   "source": [
    "\n",
    "# Defina o estilo do seaborn\n",
    "sns.set_style('darkgrid')\n",
    "\n",
    "# Crie um gráfico de barras vertical com contagem de valores\n",
    "ax = sns.countplot(data=titanic, x='Sex', hue='Survived', palette=('Blues'))\n",
    "\n",
    "plt.xlabel('Sexo')\n",
    "plt.ylabel('Pessoas')\n",
    "plt.title('Número de sobreviventes por sexo')\n",
    "\n",
    "# Mapeamento de valores para rótulos na legenda\n",
    "labels = {0: 'Não sobreviveu', 1: 'Sobreviveu'}\n",
    "\n",
    "plt.legend(title='Sobrevivência', labels=[labels[0], labels[1]], fontsize=10, edgecolor='k')\n",
    "\n",
    "# Adicionar informações em cima das barras\n",
    "for p in ax.patches:\n",
    "    height = p.get_height()\n",
    "    ax.annotate(f'{height}', \n",
    "                xy=(p.get_x() + p.get_width() / 2, height), \n",
    "                xytext=(0, 3), \n",
    "                textcoords=\"offset points\",\n",
    "                ha='center')\n",
    "\n",
    "plt.show()\n",
    "\n"
   ]
  },
  {
   "cell_type": "markdown",
   "id": "21474226",
   "metadata": {},
   "source": [
    "***A quantidade de mulheres que sobriveram foi muito maior que os homens mesmo sabendo que a quantidade de homens a bordo fosse quase o dobro das mulhes***"
   ]
  },
  {
   "cell_type": "code",
   "execution_count": null,
   "id": "79e33e15",
   "metadata": {},
   "outputs": [],
   "source": [
    "titanic.groupby('Survived')['Fare'].median()"
   ]
  },
  {
   "cell_type": "markdown",
   "id": "730f8d22",
   "metadata": {},
   "source": [
    "***A mediana de sobrevivencia nas cabines mais caras foi de mais que o dobro das mais baratas o que pode signicar que as cabines mais caras são mais seguras***"
   ]
  },
  {
   "cell_type": "code",
   "execution_count": null,
   "id": "d7ca2930",
   "metadata": {},
   "outputs": [],
   "source": [
    "# Verificando a porcentagem dos passageiros\n",
    "(titanic.Age.value_counts())"
   ]
  },
  {
   "cell_type": "code",
   "execution_count": null,
   "id": "7ae036e5",
   "metadata": {},
   "outputs": [],
   "source": [
    "# Gráfico: Distribuição de Idade dos Clientes\n",
    "plt.figure(figsize=(8, 6))\n",
    "sns.histplot(titanic['Age'], bins=30, kde=True)\n",
    "plt.title('Distribuição de Idade por passageiro')\n",
    "plt.ylabel('Pessoas')\n",
    "plt.show();"
   ]
  },
  {
   "cell_type": "markdown",
   "id": "c8b9556d",
   "metadata": {},
   "source": [
    "***A grande parte dos passageiros tinham idade de 20 a 30 anos***"
   ]
  },
  {
   "cell_type": "code",
   "execution_count": null,
   "id": "c0bfba29",
   "metadata": {},
   "outputs": [],
   "source": [
    "titanic.groupby('Embarked')['Fare'].median()"
   ]
  },
  {
   "cell_type": "markdown",
   "id": "a589f35b",
   "metadata": {},
   "source": [
    "***O local de embarque onde enbarcou os que pagaram mais caro nas cabines foi do 𝐶→\n",
    "  Cherbourg***"
   ]
  },
  {
   "cell_type": "code",
   "execution_count": null,
   "id": "8ac7a28c",
   "metadata": {},
   "outputs": [],
   "source": [
    "# Gráfico relplot\n",
    "# Passando outro parametro como classe no gráfico\n",
    "sns.relplot( x='Age', y='Fare', data = titanic, hue='Survived' )\n",
    "plt.ylabel('Preço da passagem')\n",
    "plt.xlabel('Idade')\n",
    "plt.show();"
   ]
  },
  {
   "cell_type": "code",
   "execution_count": null,
   "id": "7d9253ca",
   "metadata": {},
   "outputs": [],
   "source": [
    "# Gráfico relplot\n",
    "# Passando outro parametro como classe no gráfico\n",
    "sns.relplot( x='Age', y='Fare', data = titanic, hue='Sex' )\n",
    "plt.ylabel('Preço da passagem')\n",
    "plt.xlabel('Idade')\n",
    "plt.show();"
   ]
  },
  {
   "cell_type": "code",
   "execution_count": null,
   "id": "e2419b02",
   "metadata": {},
   "outputs": [],
   "source": [
    "import seaborn as sns\n",
    "import matplotlib.pyplot as plt\n",
    "\n",
    "# Criando uma paleta de tons de azul personalizada\n",
    "custom_palette = sns.color_palette(\"Set1\", as_cmap=True)\n",
    "\n",
    "# Gráfico relplot Passando outro parametro como classe no gráfico\n",
    "sns.relplot(x='Age', y='Fare', data=titanic, hue='Pclass', palette=custom_palette)\n",
    "plt.ylabel('Preço da passagem')\n",
    "plt.xlabel('Idade')\n",
    "plt.show()\n",
    "\n"
   ]
  },
  {
   "cell_type": "markdown",
   "id": "26f5909f",
   "metadata": {},
   "source": [
    "- **PassengerId** $→$Indetificador único do  passageiro  na viagem;\n",
    "\n",
    "- **Survived** $→$ é a variável alvo $(Target)$, que indica a sobrevivência do passageiro, isto é:\n",
    "   - $1 →$ *Indica que o passageiro sobreviveu*\n",
    "   - $0→$ *Indica que o passageiro não sobreviveu*\n",
    "\n",
    "- **Pclass** $→$ Representa a classe social do passageiro, isto é:\n",
    "   - $1→$ Classe Alta\n",
    "   - $2→$ Classe Média\n",
    "   - $3→$ Classe Baixa\n",
    "\n",
    "- **Name** $→$ Indica o Nome do passageiro;\n",
    "\n",
    "- **Sex** $→$ Indica o Sexo/gênero do passageiro;\n",
    "\n",
    "- **Age** $→$ Indica a Idade do passageiro;\n",
    "\n",
    "- **SibSp** Inica o total de irmãos/cônjuges do passageiro a bordo do navio;\n",
    "\n",
    "- **Parch** $→$ Total de pais/filhos do passageiro a bordo do navio;\n",
    "\n",
    "- **Ticket** $→$ Número de referência do bilhete do passageiro;\n",
    "\n",
    "- **Fare** $→$ Valor pago pelo passageiro na compra da passagem;\n",
    "\n",
    "- **Cabin** $→$ Número de referência da cabine em que está o passageiro;\n",
    "\n",
    "- **Embarked** $→$ Indica o local/porto de embarque:\n",
    "\n",
    "   - $C→$ *Cherbourg*\n",
    "   - $Q →$ *Queenstown*\n",
    "   - $S →$ *Southampton*"
   ]
  },
  {
   "cell_type": "code",
   "execution_count": null,
   "id": "731be90a",
   "metadata": {},
   "outputs": [],
   "source": []
  },
  {
   "cell_type": "code",
   "execution_count": null,
   "id": "2b7aad92",
   "metadata": {},
   "outputs": [],
   "source": []
  },
  {
   "cell_type": "markdown",
   "id": "954ffab2",
   "metadata": {},
   "source": [
    "# <font color = 'Redblue'> **Análise Exploratória**</font> $→$ <font color = 'GREY'> **Recursos Humanos**</font>"
   ]
  },
  {
   "cell_type": "markdown",
   "id": "80a4c5f6",
   "metadata": {},
   "source": [
    "### **Contexto e o Objetivo Principal**\n",
    "\n",
    "Suponhamos hipoteticamente que o gerente do setor de RH (Recursos Humanos) queira que façamos uma análise descritiva que ajude-o à prever quais são os fatores que influenciam na demissão ou na retenção de um funcionário na empresa. **(left)**\n",
    "\n",
    "### **Motivação do Gerente**\n",
    "\n",
    "- O objetivo do gerente ao obter tais análises é implementar medidas no setor de RH que possam evitar a demissão futura dos funcionários."
   ]
  },
  {
   "cell_type": "markdown",
   "id": "4b80d448",
   "metadata": {},
   "source": [
    "## *Descrição das Variáveis*"
   ]
  },
  {
   "cell_type": "markdown",
   "id": "ac22e1be",
   "metadata": {},
   "source": [
    "- **satisfaction_level**: Taxa de satisfação do funcionário com a empresa (está na faixa entre $0$ e $1$);\n",
    "    \n",
    "- **last_evaluation**: Última avaliação de desempenho que os funcionários receberam (está na faixa entre $0$ e $1$);\n",
    "    \n",
    "- **number_project**: Número de projetos que os funcionários participaram na empresa;\n",
    "    \n",
    "- **average_montly_hours**: Média de horas de trabalho que cada funcionário gastou na empresa mensalmente;\n",
    "    \n",
    "- **time_spend_company**: Anos de trabalho que cada funcionário teve na empresa;\n",
    "    \n",
    "- **work_acident**: Informação sobre acidente de trabalho sofrido por cada funcionário;\n",
    "\n",
    "    - $0 →$  Indica que o funcionário *não* sofreu acidente de trabalho;\n",
    "    \n",
    "    - $1→$ Indica que o funcinário *sofreu* acidente de trabalho.\n",
    "    \n",
    "- **left**: Informação sobre o fato de cada funcionário ter sido demitido ou não da empresa; \n",
    "    \n",
    "    - $0 →$  Indica que o funcionário *não* foi demitido.\n",
    "    \n",
    "    - $1→$ Indica que o funcinário *foi* demitido.\n",
    "    \n",
    "- **promotion_last_5_years**: Promoção na empresa nos últimos $5$ anos para cada funcionário;\n",
    "\n",
    "    - $0 →$  Indica que o funcionário *não* foi promovidos nos últimos $5$ anos;\n",
    "    \n",
    "    - $1→$ Indica que o funcinário *foi* promovidos nos últimos $5$ anos.\n",
    "    \n",
    "- **department**: Departamento que cada funcionário trabalha na empresa;\n",
    "    \n",
    "- **salary**: Classificação salarial de cada funcionário entre baixo, médio e alto salário."
   ]
  },
  {
   "cell_type": "markdown",
   "id": "4d9dd0f5",
   "metadata": {},
   "source": [
    "## <font color = 'ligthstee'> **Responda as perguntas abaixo**👇🏽👇</font>"
   ]
  },
  {
   "cell_type": "markdown",
   "id": "84e148db",
   "metadata": {},
   "source": [
    "- Qual é a quantidade de funcionários demitidos e retidos da empresa?\n",
    "- Qual é a porcentagem de funcionários por classificação salarial?\n",
    "- Qual é a taxa de retenção e demissão dos funcionários por classificação salarial?\n",
    "- Qual é a quantidade de retenções e demissões de funcionários por departamento?\n",
    "- Qual é a média e a mediana das demais variáveis por taxa de retenção dos funcionários?\n",
    "- Qual é a taxa de funcionários retidos e demitidos que receberam promoções na empresa nos últimos 5 anos?\n"
   ]
  },
  {
   "cell_type": "code",
   "execution_count": null,
   "id": "652e3117",
   "metadata": {},
   "outputs": [],
   "source": [
    "# Carregando os Dados\n",
    "df = pd.read_csv('HR_comma.csv')"
   ]
  },
  {
   "cell_type": "code",
   "execution_count": null,
   "id": "5735eee7",
   "metadata": {},
   "outputs": [],
   "source": [
    "df.drop_duplicates(inplace=True)"
   ]
  },
  {
   "cell_type": "code",
   "execution_count": null,
   "id": "bf22c751",
   "metadata": {},
   "outputs": [],
   "source": [
    "df"
   ]
  },
  {
   "cell_type": "code",
   "execution_count": null,
   "id": "093cab48",
   "metadata": {},
   "outputs": [],
   "source": [
    "# Visualizando as 5 últimas linhas do DataFrame\n",
    "df.head()"
   ]
  },
  {
   "cell_type": "code",
   "execution_count": null,
   "id": "590ac823",
   "metadata": {},
   "outputs": [],
   "source": [
    "df.tail()"
   ]
  },
  {
   "cell_type": "code",
   "execution_count": null,
   "id": "e7d82910",
   "metadata": {},
   "outputs": [],
   "source": [
    "# Verificando o nome das colunas\n",
    "df.columns"
   ]
  },
  {
   "cell_type": "code",
   "execution_count": null,
   "id": "b41d8b52",
   "metadata": {},
   "outputs": [],
   "source": [
    "# Verificar o tamanho da base de dados \"(Linhas, Colunas\")\n",
    "df.shape"
   ]
  },
  {
   "cell_type": "code",
   "execution_count": null,
   "id": "70c29e08",
   "metadata": {},
   "outputs": [],
   "source": [
    "# Verificando o tipo de dados\n",
    "df.info()"
   ]
  },
  {
   "cell_type": "code",
   "execution_count": null,
   "id": "7382f0d8",
   "metadata": {},
   "outputs": [],
   "source": [
    "# Verificando a quantidade de Registros\n",
    "df.count()"
   ]
  },
  {
   "cell_type": "code",
   "execution_count": null,
   "id": "ee1f82f8",
   "metadata": {},
   "outputs": [],
   "source": [
    "# Verificando se há valores ausentes\n",
    "df.isna().sum()"
   ]
  },
  {
   "cell_type": "code",
   "execution_count": null,
   "id": "1685aba1",
   "metadata": {},
   "outputs": [],
   "source": [
    "# Verificando se há valores duplicados\n",
    "df.duplicated()"
   ]
  },
  {
   "cell_type": "code",
   "execution_count": null,
   "id": "89b11aef",
   "metadata": {},
   "outputs": [],
   "source": [
    "# Verificando se há valores duplicados\n",
    "df.duplicated().sum()"
   ]
  },
  {
   "cell_type": "code",
   "execution_count": null,
   "id": "6644a217",
   "metadata": {},
   "outputs": [],
   "source": [
    "df.drop_duplicates(inplace=True)"
   ]
  },
  {
   "cell_type": "code",
   "execution_count": null,
   "id": "f952cb85",
   "metadata": {},
   "outputs": [],
   "source": [
    "df['satisfaction_level'].unique()"
   ]
  },
  {
   "cell_type": "code",
   "execution_count": null,
   "id": "37a320da",
   "metadata": {},
   "outputs": [],
   "source": [
    "# Análise matematica - ESTATISTICA DESCRITIVA\n",
    "df.describe()"
   ]
  },
  {
   "cell_type": "markdown",
   "id": "3a794e78",
   "metadata": {},
   "source": [
    "**Começando as analises**"
   ]
  },
  {
   "cell_type": "markdown",
   "id": "2d1a5661",
   "metadata": {},
   "source": [
    "**Qual é a quantidade de funcionários demitidos e retidos da empresa?**"
   ]
  },
  {
   "cell_type": "code",
   "execution_count": null,
   "id": "0a83b9bc",
   "metadata": {},
   "outputs": [],
   "source": [
    "(df.left.value_counts())"
   ]
  },
  {
   "cell_type": "markdown",
   "id": "9ace52d0",
   "metadata": {},
   "source": [
    "**Qual é a porcentagem de funcionários por classificação salarial?**"
   ]
  },
  {
   "cell_type": "code",
   "execution_count": null,
   "id": "8a5f80bf",
   "metadata": {},
   "outputs": [],
   "source": [
    "(df.salary.value_counts())*100/11999"
   ]
  },
  {
   "cell_type": "markdown",
   "id": "fdcd2f3b",
   "metadata": {},
   "source": [
    "**Qual é a taxa de retenção e demissão dos funcionários por classificação salarial?**"
   ]
  },
  {
   "cell_type": "code",
   "execution_count": null,
   "id": "6f3b99eb",
   "metadata": {},
   "outputs": [],
   "source": [
    "# Agrupamento da quantidade de funcionários demitidos e retidos por classificão salarial:\n",
    "df_salary_demitido_retido = df.groupby(['salary', 'left']).agg({'left': 'size'})\n",
    "\n",
    "# Renomeando as coluna:\n",
    "df_salary_demitido_retido.rename(columns = {'left': 'qtd_demitido_retido'}, inplace = True)\n",
    "\n",
    "# Visualização da quantidade de demissões e retenções pela classificação salarial dos funcionários\n",
    "df_salary_demitido_retido"
   ]
  },
  {
   "cell_type": "markdown",
   "id": "fb6d279b",
   "metadata": {},
   "source": [
    "**Qual é a quantidade de retenções e demissões de funcionários por departamento?**"
   ]
  },
  {
   "cell_type": "code",
   "execution_count": null,
   "id": "a3315c1a",
   "metadata": {},
   "outputs": [],
   "source": [
    "# Agrupamento da quantidade de funcionários demitidos e retidos por setor:\n",
    "df_departamento_demitido_retido = df.groupby(['sales', 'left']).agg({'left': 'size'})\n",
    "\n",
    "# Renomeando as coluna:\n",
    "df_departamento_demitido_retido.rename(columns = {'left': 'qtd_demitido_retido'}, inplace = True) \n",
    "\n",
    "# Visualização da quantidade de demissões e retenções pelo departamento dos funcionários\n",
    "df_departamento_demitido_retido"
   ]
  },
  {
   "cell_type": "markdown",
   "id": "8088fe64",
   "metadata": {},
   "source": [
    "**Qual é a média e a mediana das demais variáveis por taxa de retenção dos funcionários?**"
   ]
  },
  {
   "cell_type": "code",
   "execution_count": null,
   "id": "fb349ad6",
   "metadata": {},
   "outputs": [],
   "source": [
    "#Media por reteção de satisfação \n",
    "df.groupby('left')['satisfaction_level'].mean()"
   ]
  },
  {
   "cell_type": "code",
   "execution_count": null,
   "id": "6aaee5d4",
   "metadata": {},
   "outputs": [],
   "source": [
    "#Mediana por reteção de satisfação \n",
    "df.groupby('left')['satisfaction_level'].median()"
   ]
  },
  {
   "cell_type": "code",
   "execution_count": null,
   "id": "d11dcfda",
   "metadata": {},
   "outputs": [],
   "source": [
    "#Media por reteção da ultima avaliação de desempenho que os funcionários receberam \n",
    "df.groupby('left')['last_evaluation'].mean()"
   ]
  },
  {
   "cell_type": "code",
   "execution_count": null,
   "id": "43e72826",
   "metadata": {},
   "outputs": [],
   "source": [
    "#Mediana por reteção da ultima avaliação de desempenho que os funcionários receberam \n",
    "df.groupby('left')['last_evaluation'].median()"
   ]
  },
  {
   "cell_type": "code",
   "execution_count": null,
   "id": "287e5af4",
   "metadata": {},
   "outputs": [],
   "source": [
    "#Media por reteção por numero de projeto\n",
    "df.groupby('left')['number_project'].mean()"
   ]
  },
  {
   "cell_type": "code",
   "execution_count": null,
   "id": "ce0d7505",
   "metadata": {},
   "outputs": [],
   "source": [
    "#Mediana por reteção por numero de projeto\n",
    "df.groupby('left')['number_project'].median()"
   ]
  },
  {
   "cell_type": "code",
   "execution_count": null,
   "id": "1e8dac8a",
   "metadata": {},
   "outputs": [],
   "source": [
    "#Media por retenção por média de horas de trabalho que cada funcionário gastou na empresa mensalmente\n",
    "df.groupby('left')['average_montly_hours'].mean()"
   ]
  },
  {
   "cell_type": "code",
   "execution_count": null,
   "id": "a728472a",
   "metadata": {},
   "outputs": [],
   "source": [
    "#Mediana por retenção por média de horas de trabalho que cada funcionário gastou na empresa mensalmente\n",
    "df.groupby('left')['average_montly_hours'].median()"
   ]
  },
  {
   "cell_type": "code",
   "execution_count": null,
   "id": "ee25be02",
   "metadata": {},
   "outputs": [],
   "source": [
    "#Media por retenção e por anos de trabalho na empresa\n",
    "df.groupby('left')['time_spend_company'].mean()"
   ]
  },
  {
   "cell_type": "code",
   "execution_count": null,
   "id": "a21f136e",
   "metadata": {},
   "outputs": [],
   "source": [
    "#Mediana por retenção e por anos de trabalho na empresa\n",
    "df.groupby('left')['time_spend_company'].median()"
   ]
  },
  {
   "cell_type": "code",
   "execution_count": null,
   "id": "31aec3be",
   "metadata": {},
   "outputs": [],
   "source": [
    "#Media por retenção e por acidente de trabalho\n",
    "df.groupby('left')['Work_accident'].mean()"
   ]
  },
  {
   "cell_type": "code",
   "execution_count": null,
   "id": "b209230d",
   "metadata": {},
   "outputs": [],
   "source": [
    "#Mediana por retenção e por acidente de trabalho\n",
    "df.groupby('left')['Work_accident'].median()"
   ]
  },
  {
   "cell_type": "code",
   "execution_count": null,
   "id": "c5346aaf",
   "metadata": {},
   "outputs": [],
   "source": [
    "#Mediana por retenção e por Promoção nos ultimos 5 anos\n",
    "df.groupby('left')['promotion_last_5years'].mean()"
   ]
  },
  {
   "cell_type": "code",
   "execution_count": null,
   "id": "484f3eca",
   "metadata": {},
   "outputs": [],
   "source": [
    "#Mediana por retenção e por Promoção nos ultimos 5 anos\n",
    "df.groupby('left')['promotion_last_5years'].median()"
   ]
  },
  {
   "cell_type": "markdown",
   "id": "0529dcc6",
   "metadata": {},
   "source": [
    "**Qual é a taxa de funcionários retidos e demitidos que receberam promoções na empresa nos últimos 5 anos?**"
   ]
  },
  {
   "cell_type": "code",
   "execution_count": null,
   "id": "ac6bd68a",
   "metadata": {},
   "outputs": [],
   "source": [
    "# Agrupamento da quantidade de funcionários demitidos e retidos por promoção:\n",
    "df_promocao_demitido_retido = df.groupby(['left','promotion_last_5years']).agg({'promotion_last_5years': 'size'})\n",
    "\n",
    "# Renomeando as coluna:\n",
    "df_promocao_demitido_retido.rename(columns = {'promotion_last_5years': 'qtd_promocao_retido'}, inplace = True) \n",
    "\n",
    "# Visualização da quantidade de demissões e retenções pelo departamento dos funcionários\n",
    "df_promocao_demitido_retido"
   ]
  },
  {
   "cell_type": "code",
   "execution_count": null,
   "id": "c9aa0c8b",
   "metadata": {},
   "outputs": [],
   "source": []
  },
  {
   "cell_type": "code",
   "execution_count": null,
   "id": "8c482669",
   "metadata": {},
   "outputs": [],
   "source": []
  },
  {
   "cell_type": "code",
   "execution_count": null,
   "id": "aee006a5",
   "metadata": {},
   "outputs": [],
   "source": []
  },
  {
   "cell_type": "code",
   "execution_count": null,
   "id": "7ac2df3d",
   "metadata": {},
   "outputs": [],
   "source": []
  },
  {
   "cell_type": "code",
   "execution_count": null,
   "id": "f3fe38b9",
   "metadata": {},
   "outputs": [],
   "source": []
  },
  {
   "cell_type": "code",
   "execution_count": null,
   "id": "e251f8f6",
   "metadata": {},
   "outputs": [],
   "source": []
  },
  {
   "cell_type": "code",
   "execution_count": null,
   "id": "5fcda155",
   "metadata": {},
   "outputs": [],
   "source": []
  },
  {
   "cell_type": "code",
   "execution_count": null,
   "id": "d54772f7",
   "metadata": {},
   "outputs": [],
   "source": []
  },
  {
   "cell_type": "code",
   "execution_count": null,
   "id": "821265f1",
   "metadata": {},
   "outputs": [],
   "source": []
  },
  {
   "cell_type": "code",
   "execution_count": null,
   "id": "60160cca",
   "metadata": {},
   "outputs": [],
   "source": []
  },
  {
   "cell_type": "code",
   "execution_count": null,
   "id": "2f314152",
   "metadata": {},
   "outputs": [],
   "source": []
  },
  {
   "cell_type": "code",
   "execution_count": null,
   "id": "2cd847ce",
   "metadata": {},
   "outputs": [],
   "source": [
    "styled_df = df.head(15).style\n",
    "\n",
    "# Defina a cor de fundo, a cor do texto e a borda de todo o DataFrame\n",
    "styled_df.set_properties(**{\"background-color\": \"#254E58\", \"color\": \"#e9c46a\", \"border\": \"1.5px solid black\"})\n",
    "\n",
    "# Modificando a cor de fundo dos cabeçalhos da tabela\n",
    "styled_df.set_table_styles([\n",
    "    {\"selector\": \"th\", \"props\": [(\"color\", 'white'), (\"background-color\", \"#333333\")]}"
   ]
  },
  {
   "cell_type": "code",
   "execution_count": null,
   "id": "b4030190",
   "metadata": {},
   "outputs": [],
   "source": [
    "# Visualizando a \"Estatística Descritiva\" colocando Background\n",
    "\n",
    "styled_df = df.describe().style \\\n",
    "    .set_table_styles([\n",
    "        {'selector': 'th', 'props': [('background-color', '#254E58'), ('color', 'white'), ('font-weight', 'bold'), ('text-align', 'left'), ('padding', '8px')]},\n",
    "        {'selector': 'td', 'props': [('padding', '8px')]}\n",
    "    ]) \\\n",
    "    .set_properties(**{'font-size': '14px', 'background-color': '#F5F5F5', 'border-collapse': 'collapse', 'margin': '10px'})\n"
   ]
  },
  {
   "cell_type": "code",
   "execution_count": null,
   "id": "7044df4c",
   "metadata": {},
   "outputs": [],
   "source": [
    "# Verificando somente a Variável Idade\n",
    "df.Work_accident.describe()"
   ]
  },
  {
   "cell_type": "code",
   "execution_count": null,
   "id": "411b3315",
   "metadata": {},
   "outputs": [],
   "source": [
    "# Verificando a distribuição dos dados categoricos\n",
    "df.select_dtypes(include= 'object').describe() # OU df.describe(include = 'O')"
   ]
  },
  {
   "cell_type": "markdown",
   "id": "4cc64d59",
   "metadata": {},
   "source": [
    "2.6 | Associação de Variáveis"
   ]
  },
  {
   "cell_type": "code",
   "execution_count": null,
   "id": "d235d35d",
   "metadata": {},
   "outputs": [],
   "source": [
    "# Verificando a Média de Idade por Sexo\n",
    "df.groupby('salary')['satisfaction_level'].median()"
   ]
  },
  {
   "cell_type": "markdown",
   "id": "eafc8c0d",
   "metadata": {},
   "source": [
    "A mediana de salario mostra que está praticamente igual o que mostra que a satisfação não está relacionada com salario"
   ]
  },
  {
   "cell_type": "code",
   "execution_count": null,
   "id": "111fa38a",
   "metadata": {},
   "outputs": [],
   "source": [
    "df.groupby('satisfaction_level')['number_project'].mean()"
   ]
  },
  {
   "cell_type": "markdown",
   "id": "7bc7ff42",
   "metadata": {},
   "source": [
    "Nota-se que os mais insatisfeitos são os que mais estão desenvolvendo projetos ajudará na satisfação dos funcionarios diminuir um pouco os projetos de alguns grupos"
   ]
  },
  {
   "cell_type": "code",
   "execution_count": null,
   "id": "47e85c92",
   "metadata": {},
   "outputs": [],
   "source": [
    "df.groupby('satisfaction_level')['average_montly_hours'].mean()"
   ]
  },
  {
   "cell_type": "markdown",
   "id": "5156d661",
   "metadata": {},
   "source": [
    "Pra desenvolver mais projetos os grupos mais insatisfeitos ficam mais tempo na empresa "
   ]
  },
  {
   "cell_type": "code",
   "execution_count": null,
   "id": "e3ff846f",
   "metadata": {},
   "outputs": [],
   "source": [
    "df.groupby('sales')['satisfaction_level'].median()"
   ]
  },
  {
   "cell_type": "markdown",
   "id": "2da77656",
   "metadata": {},
   "source": [
    "Satisfação por setor"
   ]
  },
  {
   "cell_type": "code",
   "execution_count": null,
   "id": "376133c7",
   "metadata": {},
   "outputs": [],
   "source": [
    "df.groupby('sales')['average_montly_hours'].mean()"
   ]
  },
  {
   "cell_type": "markdown",
   "id": "4781e783",
   "metadata": {},
   "source": [
    "Não tem muito um setor que está trabalhando mais que o outro nao em relação a horas medias trabalhadas"
   ]
  },
  {
   "cell_type": "code",
   "execution_count": null,
   "id": "e2d9d580",
   "metadata": {},
   "outputs": [],
   "source": [
    "df.groupby('sales')['number_project'].mean()"
   ]
  },
  {
   "cell_type": "code",
   "execution_count": null,
   "id": "4f354f45",
   "metadata": {},
   "outputs": [],
   "source": [
    "df.groupby('sales')['time_spend_company'].mean()"
   ]
  },
  {
   "cell_type": "code",
   "execution_count": null,
   "id": "cf62a048",
   "metadata": {},
   "outputs": [],
   "source": [
    "(df.Work_accident.value_counts())"
   ]
  },
  {
   "cell_type": "markdown",
   "id": "fde558ad",
   "metadata": {},
   "source": [
    "Quase 20% dos funcionarios já sofreram assidentes no trabalho um numero bem alto"
   ]
  },
  {
   "cell_type": "code",
   "execution_count": null,
   "id": "56d79031",
   "metadata": {},
   "outputs": [],
   "source": [
    "(df.left.value_counts())"
   ]
  },
  {
   "cell_type": "code",
   "execution_count": null,
   "id": "fd03e2f2",
   "metadata": {},
   "outputs": [],
   "source": []
  },
  {
   "cell_type": "code",
   "execution_count": null,
   "id": "050a16a8",
   "metadata": {},
   "outputs": [],
   "source": []
  },
  {
   "cell_type": "markdown",
   "id": "18aa093b",
   "metadata": {},
   "source": []
  },
  {
   "cell_type": "code",
   "execution_count": null,
   "id": "175378a1",
   "metadata": {},
   "outputs": [],
   "source": []
  },
  {
   "cell_type": "code",
   "execution_count": null,
   "id": "991d4f26",
   "metadata": {},
   "outputs": [],
   "source": []
  },
  {
   "cell_type": "code",
   "execution_count": null,
   "id": "88b76052",
   "metadata": {},
   "outputs": [],
   "source": [
    "df"
   ]
  },
  {
   "cell_type": "markdown",
   "id": "66cb3c7f",
   "metadata": {},
   "source": [
    "***Qual é a quantidade de funcionários demitidos e retidos da empresa?***"
   ]
  },
  {
   "cell_type": "code",
   "execution_count": null,
   "id": "e2720f7e",
   "metadata": {},
   "outputs": [],
   "source": [
    "(df.left.value_counts())"
   ]
  },
  {
   "cell_type": "code",
   "execution_count": null,
   "id": "1dc5fa1c",
   "metadata": {},
   "outputs": [],
   "source": [
    "# The snippet above can also be represented as:\n",
    "g_continents = df.groupby(['left'])\n",
    "g_continents.size().reset_index(name= 'funcionários demitidos e retidos')"
   ]
  },
  {
   "cell_type": "code",
   "execution_count": null,
   "id": "2cbed89c",
   "metadata": {},
   "outputs": [],
   "source": [
    "# Gráfico usando a paleta de cor \"QUALITATIVA\" “Set2”. Também chamdo de \"GRÁFICO DE BARRAS\"\n",
    "# Você pode testar usano o \"SET1\" para verificar como ficrá o seu gráfico.\n",
    "\n",
    "sns.catplot(x=\"left\", kind=\"count\", edgecolor='k', data=df)\n",
    "plt.xlabel('Não demitidos/demitidos')\n",
    "plt.ylabel('Quantidade')\n",
    "plt.title('Quantidade de Funcionários Retidos')\n",
    "palette=('Blues')\n",
    "plt.show();\n",
    "\n",
    "# Note que não existe uma variação das cores, pois temos dados categóricos e não contínuos como os da coluna size."
   ]
  },
  {
   "cell_type": "code",
   "execution_count": null,
   "id": "6410467d",
   "metadata": {},
   "outputs": [],
   "source": [
    "# Gráfico usando a paleta de cor \"QUALITATIVA\" “Set2”. Também chamdo de \"GRÁFICO DE BARRAS\"\n",
    "# Você pode testar usano o \"SET1\" para verificar como ficrá o seu gráfico.\n",
    "\n",
    "sns.catplot(x=\"salary\", kind=\"count\", edgecolor='k', data=df)\n",
    "plt.xlabel('Não demitidos/demitidos')\n",
    "plt.ylabel('Quantidade')\n",
    "plt.title('Quantidade de Funcionários Retidos')\n",
    "palette=('Blues')\n",
    "plt.show();\n"
   ]
  },
  {
   "cell_type": "markdown",
   "id": "29ee6a1e",
   "metadata": {},
   "source": [
    "Qual é a porcentagem de funcionários por classificação salarial?"
   ]
  },
  {
   "cell_type": "code",
   "execution_count": null,
   "id": "b222d8f2",
   "metadata": {},
   "outputs": [],
   "source": [
    "salario = (df.salary.value_counts())*100/11999\n",
    "salario"
   ]
  },
  {
   "cell_type": "code",
   "execution_count": null,
   "id": "928ceedb",
   "metadata": {},
   "outputs": [],
   "source": [
    "plt.style.use('fivethirtyeight')\n",
    "salario.plot(kind='bar', x='Country', rot=0,\n",
    "                      figsize=(20,10), fontsize=20, edgecolor='k');"
   ]
  },
  {
   "cell_type": "markdown",
   "id": "99dd0359",
   "metadata": {},
   "source": [
    "***Qual é a taxa de retenção e demissão dos funcionários por classificação salarial?***"
   ]
  },
  {
   "cell_type": "code",
   "execution_count": null,
   "id": "e9d10df8",
   "metadata": {},
   "outputs": [],
   "source": [
    "# Agrupamento da quantidade de funcionários demitidos e retidos por classificão salarial:\n",
    "df_salary_demitido_retido = df.groupby(['salary', 'left']).agg({'left': 'size'})\n",
    "\n",
    "# Renomeando as coluna:\n",
    "df_salary_demitido_retido.rename(columns = {'left': 'qtd_demitido_retido'}, inplace = True)\n",
    "\n",
    "# Visualização da quantidade de demissões e retenções pela classificação salarial dos funcionários\n",
    "df_salary_demitido_retido"
   ]
  },
  {
   "cell_type": "code",
   "execution_count": null,
   "id": "036b94bc",
   "metadata": {},
   "outputs": [],
   "source": [
    "# Criação de coluna para representar a porcentagem de retenção / demissão por classificação salarial dos funcionários:\n",
    "\n",
    "df_salary_demitido_retido = df_salary_demitido_retido.assign(perc_left = \n",
    "                           (df_salary_demitido_retido.qtd_demitido_retido / \n",
    "                            df_salary_demitido_retido.qtd_demitido_retido.sum() * 100)).round(2)"
   ]
  },
  {
   "cell_type": "code",
   "execution_count": null,
   "id": "f6add56f",
   "metadata": {},
   "outputs": [],
   "source": [
    "sns.set_style('darkgrid')\n",
    "\n",
    "# Crie um gráfico de barras vertical com contagem de valores\n",
    "sns.countplot(data=df, x='salary', hue='left', palette=['skyblue', 'salmon'])\n",
    "plt.xlabel('Classificação Salarial')\n",
    "plt.ylabel('Quantidade')\n",
    "plt.title('Quantidade de Funcionários Retidos / Demitidos por Classificação Salarial')\n",
    "plt.legend(title='Status', fontsize=10, edgecolor='k')\n",
    "plt.show()"
   ]
  },
  {
   "cell_type": "markdown",
   "id": "6dcaf3bc",
   "metadata": {},
   "source": [
    "***Qual é a quantidade de retenções e demissões de funcionários por departamento?***"
   ]
  },
  {
   "cell_type": "code",
   "execution_count": null,
   "id": "55aaf8a4",
   "metadata": {},
   "outputs": [],
   "source": [
    "# Agrupamento da quantidade de funcionários demitidos e retidos por setor:\n",
    "df_departamento_demitido_retido = df.groupby(['sales', 'left']).agg({'left': 'size'})\n",
    "\n",
    "# Renomeando as coluna:\n",
    "df_departamento_demitido_retido.rename(columns = {'left': 'qtd_demitido_retido'}, inplace = True) \n",
    "\n",
    "# Visualização da quantidade de demissões e retenções pelo departamento dos funcionários\n",
    "df_departamento_demitido_retido"
   ]
  },
  {
   "cell_type": "code",
   "execution_count": null,
   "id": "55eed4a8",
   "metadata": {},
   "outputs": [],
   "source": [
    "df_departamento_demitido_retido *100/11999"
   ]
  },
  {
   "cell_type": "code",
   "execution_count": null,
   "id": "0c75bbf8",
   "metadata": {},
   "outputs": [],
   "source": [
    "sns.set_style('darkgrid')\n",
    "\n",
    "# Crie um gráfico de barras vertical com contagem de valores\n",
    "sns.countplot(data=df, x='sales', hue='left', palette=['skyblue', 'salmon'])\n",
    "plt.xlabel('Departamentos')\n",
    "plt.ylabel('Quantidade')\n",
    "plt.title('Quantidade de Funcionários Retidos / Demitidos por Departamento') \n",
    "plt.legend(title='Status', fontsize=10,  edgecolor='k')\n",
    "plt.xticks(rotation=45)\n",
    "plt.show()\n"
   ]
  },
  {
   "cell_type": "markdown",
   "id": "a36cedb7",
   "metadata": {},
   "source": [
    "***Qual é a média e a mediana das demais variáveis por taxa de retenção dos funcionários?***"
   ]
  },
  {
   "cell_type": "markdown",
   "id": "b11c7e7c",
   "metadata": {},
   "source": [
    "***Qual é a taxa de funcionários retidos e demitidos que receberam promoções na empresa nos últimos 5 anos?***"
   ]
  },
  {
   "cell_type": "code",
   "execution_count": null,
   "id": "9b5cbd67",
   "metadata": {},
   "outputs": [],
   "source": [
    "# Agrupamento da quantidade de funcionários demitidos e retidos por promoção:\n",
    "df_promocao_demitido_retido = df.groupby(['left','promotion_last_5years']).agg({'promotion_last_5years': 'size'})\n",
    "\n",
    "# Renomeando as coluna:\n",
    "df_promocao_demitido_retido.rename(columns = {'promotion_last_5years': 'qtd_promocao_retido'}, inplace = True) \n",
    "\n",
    "# Visualização da quantidade de demissões e retenções pelo departamento dos funcionários\n",
    "df_promocao_demitido_retido"
   ]
  },
  {
   "cell_type": "code",
   "execution_count": null,
   "id": "1b14c74c",
   "metadata": {},
   "outputs": [],
   "source": [
    "sns.set_style('darkgrid')\n",
    "\n",
    "# Crie um gráfico de barras vertical com contagem de valores\n",
    "sns.countplot(data=df, x='left', hue='promotion_last_5years', palette=['skyblue', 'salmon'])\n",
    "plt.xlabel('Não demitidos/demitidos')\n",
    "plt.ylabel('Quantidade')\n",
    "plt.title('funcionários retidos e demitidos/promoções na empresa nos últimos 5 anos') \n",
    "plt.legend(title='Status', fontsize=10,  edgecolor='k')\n",
    "plt.show()\n"
   ]
  },
  {
   "cell_type": "code",
   "execution_count": null,
   "id": "94e24f6e",
   "metadata": {},
   "outputs": [],
   "source": [
    "%%html\n",
    "<marquee style='width: 100%; color:  Red;'><b> Bons Estudos!</b></marquee>"
   ]
  },
  {
   "cell_type": "code",
   "execution_count": null,
   "id": "4793ac33",
   "metadata": {},
   "outputs": [],
   "source": []
  },
  {
   "cell_type": "code",
   "execution_count": null,
   "id": "c55702c9",
   "metadata": {},
   "outputs": [],
   "source": []
  },
  {
   "cell_type": "code",
   "execution_count": null,
   "id": "a104ccb9",
   "metadata": {},
   "outputs": [],
   "source": []
  }
 ],
 "metadata": {
  "kernelspec": {
   "display_name": "Python 3 (ipykernel)",
   "language": "python",
   "name": "python3"
  },
  "language_info": {
   "codemirror_mode": {
    "name": "ipython",
    "version": 3
   },
   "file_extension": ".py",
   "mimetype": "text/x-python",
   "name": "python",
   "nbconvert_exporter": "python",
   "pygments_lexer": "ipython3",
   "version": "3.11.5"
  }
 },
 "nbformat": 4,
 "nbformat_minor": 5
}
