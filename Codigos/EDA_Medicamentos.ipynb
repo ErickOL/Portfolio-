{
 "cells": [
  {
   "cell_type": "markdown",
   "id": "44ab6a08",
   "metadata": {},
   "source": [
    "<div style=\"background-color:#3b5998; border-radius:2px; border:#000000 solid; padding: 15px; font-size:100%; text-align:center\">\n",
    "    <h1 align=\"center\" style=\"color:#ffffff;\"><b>SISTEMA DE DIAGNÓSTICO MÉDICO🔬💙💊</b></h1>\n",
    "</div>"
   ]
  },
  {
   "cell_type": "code",
   "execution_count": null,
   "id": "25436f37",
   "metadata": {},
   "outputs": [],
   "source": [
    "%%html\n",
    "<marquee style='width: 100%; color:  #14b8b8;'><b> CIENTISTA DE DADOS!</b></marquee>"
   ]
  },
  {
   "cell_type": "markdown",
   "id": "fa0c43d3",
   "metadata": {},
   "source": [
    "<center><div style=\"font-size: 30px; font-weight: bold;\"><span style=\"background-color: yellow; color: blue;\">Análise Exploratória de Dados</span></div></center>\n",
    "\n",
    "\n"
   ]
  },
  {
   "cell_type": "markdown",
   "id": "c5aa931c",
   "metadata": {},
   "source": [
    "A *Análise Exploratória de Dados* $(AED)$ é uma etapa fundamental no processo de análise de dados, que envolve a *exploração* e a *compreensão dos dados disponíveis*. \n",
    "\n",
    "- Seu objetivo principal é nos ajudar a entendermos melhor do conjunto de dados com o qual estão trabalhando, identificando *padrões, tendências, relações e anomalias nos dados*;\n",
    "\n",
    "  - Também, é nessa fase onde levantamos hipóteses sobre os dados que visam atender o problema de Negócio. "
   ]
  },
  {
   "cell_type": "markdown",
   "id": "1bb7e184",
   "metadata": {},
   "source": [
    "<a id=\"1\"></a>\n",
    "## <div style=\"padding:20px;color:white;margin:0;font-size:30px;font-family:Georgia;text-align:left;display:fill;border-radius:5px;background-color:#254E58;overflow:hidden\">1° | Problema de Negócio</div>"
   ]
  },
  {
   "cell_type": "markdown",
   "id": "53924a1b",
   "metadata": {},
   "source": [
    "Esses são dados coletados sobre um conjunto de pacientes que sofriam da mesma doença. Durante o período de tratamento, cada paciente respondeu a um dos $5$ medicamentos, *medicamento* $A$, *medicamento* $B$, *medicamento* $C$, *medicamento* $X$ e *medicamento* $Y$. As características desse conjunto de dados são *idade, sexo, pressão arterial, sódio-potássio e o colesterol dos pacientes*, e o alvo é o medicamento ao qual cada paciente respondeu.\n",
    "\n",
    "- Sendo você um Cientista de Dados experiente, então pedimos que nos ajude a extrair informações relevantes que possam auxiliar os proficionais de saúde sobre os medicamentos.\n"
   ]
  },
  {
   "cell_type": "markdown",
   "id": "43ded385",
   "metadata": {},
   "source": [
    "<a id=\"1.1\"></a>\n",
    "<h4 style=\"font-family: Verdana; font-size: 25px; font-style: normal; font-weight: normal; text-decoration: none; text-transform: none; letter-spacing: 2px; color: #254E58; background-color: #ffffff;\"><b>1.1 | Objetivo</b> Principal"
   ]
  },
  {
   "cell_type": "markdown",
   "id": "24a30eab",
   "metadata": {},
   "source": [
    "- Entender e explorar os dados para que possamos extrair insights que auxiliem o time\n",
    "estratégico na tomada de decisão com relaçãoalgumas aos medicamentos a serem aplicados."
   ]
  },
  {
   "cell_type": "markdown",
   "id": "9248b454",
   "metadata": {},
   "source": [
    "<a id=\"1.2\"></a>\n",
    "<h4 style=\"font-family: Verdana; font-size: 25px; font-style: normal; font-weight: normal; text-decoration: none; text-transform: none; letter-spacing: 2px; color: #254E58; background-color: #ffffff;\"><b>1.2 | Descrição das</b> Varáveis"
   ]
  },
  {
   "cell_type": "markdown",
   "id": "57da53fc",
   "metadata": {},
   "source": [
    "- **Age** → é a idade da pessoa\n",
    "\n",
    "- **Sex** → é o sexo da Pessoa (*Masculino = M   e     Feminino = F*)\n",
    "\n",
    "- **BP** → é o níveil de pressão arterial (*Alto, Baixo, e Normal*)\n",
    "\n",
    "- **Cholesterol** → é o níveil de Colesterol (*Alto e Normal*)\n",
    "\n",
    "- **Na_to_k**  → é a razão entre a quantidade de Sódio (**Na**) para Potássio (**K**) encontrada no sangue. \n",
    "\n",
    "- **Drug** → é o tipo de medicamento ou droga a ser aplicada (que é o nosso *Target* ou seja, *é variável a ser predita*)"
   ]
  },
  {
   "cell_type": "markdown",
   "id": "72d3599e",
   "metadata": {},
   "source": [
    "<a id=\"2\"></a>\n",
    "## <div style=\"padding:20px;color:white;margin:0;font-size:30px;font-family:Georgia;text-align:left;display:fill;border-radius:5px;background-color:#254E58;overflow:hidden\">2° | Análise Exploratória dos Dados</div>"
   ]
  },
  {
   "cell_type": "markdown",
   "id": "2c558b16",
   "metadata": {},
   "source": [
    "<a id=\"2.1\"></a>\n",
    "<h4 style=\"font-family: Verdana; font-size: 25px; font-style: normal; font-weight: normal; text-decoration: none; text-transform: none; letter-spacing: 2px; color: #254E58; background-color: #ffffff;\"><b>2.1 | Importando as</b> Bibliotecas"
   ]
  },
  {
   "cell_type": "code",
   "execution_count": 1,
   "id": "aab16f64",
   "metadata": {},
   "outputs": [],
   "source": [
    "# Importando as Bibliotecas\n",
    "import pandas as pd # ---> É uma bibliotecas para Manipular dados\n",
    "import matplotlib.pyplot as plt # ---> Serve para criar visualizções (Gráficos)\n",
    "import seaborn as sns # ---> Serve para criar visualizções (Gráficos)\n",
    "import numpy as np # ---> Biblioteca Matematica (Serve para fazer manipulações matematicas)\n",
    "\n",
    "# Serve para Ignorando alertas idesejados\n",
    "import warnings\n",
    "warnings.filterwarnings(\"ignore\")\n",
    "\n",
    "# Serve para Manter os gráficos nesse mesmo Notebook\n",
    "%matplotlib inline\n",
    "\n",
    "# Define o estilo do gráfico seaborn\n",
    "sns.set(style=\"whitegrid\")  "
   ]
  },
  {
   "cell_type": "markdown",
   "id": "0ad99163",
   "metadata": {},
   "source": [
    "<a id=\"2.2\"></a>\n",
    "<h4 style=\"font-family: Verdana; font-size: 25px; font-style: normal; font-weight: normal; text-decoration: none; text-transform: none; letter-spacing: 2px; color: #254E58; background-color: #ffffff;\"><b>2.2 | Carregando e Visualizando os</b> Dados"
   ]
  },
  {
   "cell_type": "code",
   "execution_count": 2,
   "id": "238d4d2a",
   "metadata": {},
   "outputs": [],
   "source": [
    "# Carregando os Dados\n",
    "dados = pd.read_csv('drug200.csv')"
   ]
  },
  {
   "cell_type": "markdown",
   "id": "b074d510",
   "metadata": {},
   "source": [
    "<a id=\"2.3\"></a>\n",
    "<h4 style=\"font-family: Verdana; font-size: 25px; font-style: normal; font-weight: normal; text-decoration: none; text-transform: none; letter-spacing: 2px; color: #254E58; background-color: #ffffff;\"><b>2.3 | Algumas </b> Informações dos Dados!"
   ]
  },
  {
   "cell_type": "markdown",
   "id": "667e3eda",
   "metadata": {},
   "source": [
    "- Visualizando todos os dados"
   ]
  },
  {
   "cell_type": "code",
   "execution_count": 3,
   "id": "1a2af8f4",
   "metadata": {},
   "outputs": [
    {
     "data": {
      "text/html": [
       "<div>\n",
       "<style scoped>\n",
       "    .dataframe tbody tr th:only-of-type {\n",
       "        vertical-align: middle;\n",
       "    }\n",
       "\n",
       "    .dataframe tbody tr th {\n",
       "        vertical-align: top;\n",
       "    }\n",
       "\n",
       "    .dataframe thead th {\n",
       "        text-align: right;\n",
       "    }\n",
       "</style>\n",
       "<table border=\"1\" class=\"dataframe\">\n",
       "  <thead>\n",
       "    <tr style=\"text-align: right;\">\n",
       "      <th></th>\n",
       "      <th>Age</th>\n",
       "      <th>Sex</th>\n",
       "      <th>BP</th>\n",
       "      <th>Cholesterol</th>\n",
       "      <th>Na_to_K</th>\n",
       "      <th>Drug</th>\n",
       "    </tr>\n",
       "  </thead>\n",
       "  <tbody>\n",
       "    <tr>\n",
       "      <th>0</th>\n",
       "      <td>23</td>\n",
       "      <td>F</td>\n",
       "      <td>HIGH</td>\n",
       "      <td>HIGH</td>\n",
       "      <td>25.355</td>\n",
       "      <td>drugY</td>\n",
       "    </tr>\n",
       "    <tr>\n",
       "      <th>1</th>\n",
       "      <td>47</td>\n",
       "      <td>M</td>\n",
       "      <td>LOW</td>\n",
       "      <td>HIGH</td>\n",
       "      <td>13.093</td>\n",
       "      <td>drugC</td>\n",
       "    </tr>\n",
       "    <tr>\n",
       "      <th>2</th>\n",
       "      <td>47</td>\n",
       "      <td>M</td>\n",
       "      <td>LOW</td>\n",
       "      <td>HIGH</td>\n",
       "      <td>10.114</td>\n",
       "      <td>drugC</td>\n",
       "    </tr>\n",
       "    <tr>\n",
       "      <th>3</th>\n",
       "      <td>28</td>\n",
       "      <td>F</td>\n",
       "      <td>NORMAL</td>\n",
       "      <td>HIGH</td>\n",
       "      <td>7.798</td>\n",
       "      <td>drugX</td>\n",
       "    </tr>\n",
       "    <tr>\n",
       "      <th>4</th>\n",
       "      <td>61</td>\n",
       "      <td>F</td>\n",
       "      <td>LOW</td>\n",
       "      <td>HIGH</td>\n",
       "      <td>18.043</td>\n",
       "      <td>drugY</td>\n",
       "    </tr>\n",
       "    <tr>\n",
       "      <th>...</th>\n",
       "      <td>...</td>\n",
       "      <td>...</td>\n",
       "      <td>...</td>\n",
       "      <td>...</td>\n",
       "      <td>...</td>\n",
       "      <td>...</td>\n",
       "    </tr>\n",
       "    <tr>\n",
       "      <th>195</th>\n",
       "      <td>56</td>\n",
       "      <td>F</td>\n",
       "      <td>LOW</td>\n",
       "      <td>HIGH</td>\n",
       "      <td>11.567</td>\n",
       "      <td>drugC</td>\n",
       "    </tr>\n",
       "    <tr>\n",
       "      <th>196</th>\n",
       "      <td>16</td>\n",
       "      <td>M</td>\n",
       "      <td>LOW</td>\n",
       "      <td>HIGH</td>\n",
       "      <td>12.006</td>\n",
       "      <td>drugC</td>\n",
       "    </tr>\n",
       "    <tr>\n",
       "      <th>197</th>\n",
       "      <td>52</td>\n",
       "      <td>M</td>\n",
       "      <td>NORMAL</td>\n",
       "      <td>HIGH</td>\n",
       "      <td>9.894</td>\n",
       "      <td>drugX</td>\n",
       "    </tr>\n",
       "    <tr>\n",
       "      <th>198</th>\n",
       "      <td>23</td>\n",
       "      <td>M</td>\n",
       "      <td>NORMAL</td>\n",
       "      <td>NORMAL</td>\n",
       "      <td>14.020</td>\n",
       "      <td>drugX</td>\n",
       "    </tr>\n",
       "    <tr>\n",
       "      <th>199</th>\n",
       "      <td>40</td>\n",
       "      <td>F</td>\n",
       "      <td>LOW</td>\n",
       "      <td>NORMAL</td>\n",
       "      <td>11.349</td>\n",
       "      <td>drugX</td>\n",
       "    </tr>\n",
       "  </tbody>\n",
       "</table>\n",
       "<p>200 rows × 6 columns</p>\n",
       "</div>"
      ],
      "text/plain": [
       "     Age Sex      BP Cholesterol  Na_to_K   Drug\n",
       "0     23   F    HIGH        HIGH   25.355  drugY\n",
       "1     47   M     LOW        HIGH   13.093  drugC\n",
       "2     47   M     LOW        HIGH   10.114  drugC\n",
       "3     28   F  NORMAL        HIGH    7.798  drugX\n",
       "4     61   F     LOW        HIGH   18.043  drugY\n",
       "..   ...  ..     ...         ...      ...    ...\n",
       "195   56   F     LOW        HIGH   11.567  drugC\n",
       "196   16   M     LOW        HIGH   12.006  drugC\n",
       "197   52   M  NORMAL        HIGH    9.894  drugX\n",
       "198   23   M  NORMAL      NORMAL   14.020  drugX\n",
       "199   40   F     LOW      NORMAL   11.349  drugX\n",
       "\n",
       "[200 rows x 6 columns]"
      ]
     },
     "execution_count": 3,
     "metadata": {},
     "output_type": "execute_result"
    }
   ],
   "source": [
    "dados"
   ]
  },
  {
   "cell_type": "markdown",
   "id": "b2eb6c75",
   "metadata": {},
   "source": [
    "- Visualizando as 5 primeiras e últimas linhas da base dados."
   ]
  },
  {
   "cell_type": "code",
   "execution_count": 4,
   "id": "3d97e96b",
   "metadata": {},
   "outputs": [
    {
     "data": {
      "text/html": [
       "<div>\n",
       "<style scoped>\n",
       "    .dataframe tbody tr th:only-of-type {\n",
       "        vertical-align: middle;\n",
       "    }\n",
       "\n",
       "    .dataframe tbody tr th {\n",
       "        vertical-align: top;\n",
       "    }\n",
       "\n",
       "    .dataframe thead th {\n",
       "        text-align: right;\n",
       "    }\n",
       "</style>\n",
       "<table border=\"1\" class=\"dataframe\">\n",
       "  <thead>\n",
       "    <tr style=\"text-align: right;\">\n",
       "      <th></th>\n",
       "      <th>Age</th>\n",
       "      <th>Sex</th>\n",
       "      <th>BP</th>\n",
       "      <th>Cholesterol</th>\n",
       "      <th>Na_to_K</th>\n",
       "      <th>Drug</th>\n",
       "    </tr>\n",
       "  </thead>\n",
       "  <tbody>\n",
       "    <tr>\n",
       "      <th>0</th>\n",
       "      <td>23</td>\n",
       "      <td>F</td>\n",
       "      <td>HIGH</td>\n",
       "      <td>HIGH</td>\n",
       "      <td>25.355</td>\n",
       "      <td>drugY</td>\n",
       "    </tr>\n",
       "    <tr>\n",
       "      <th>1</th>\n",
       "      <td>47</td>\n",
       "      <td>M</td>\n",
       "      <td>LOW</td>\n",
       "      <td>HIGH</td>\n",
       "      <td>13.093</td>\n",
       "      <td>drugC</td>\n",
       "    </tr>\n",
       "    <tr>\n",
       "      <th>2</th>\n",
       "      <td>47</td>\n",
       "      <td>M</td>\n",
       "      <td>LOW</td>\n",
       "      <td>HIGH</td>\n",
       "      <td>10.114</td>\n",
       "      <td>drugC</td>\n",
       "    </tr>\n",
       "    <tr>\n",
       "      <th>3</th>\n",
       "      <td>28</td>\n",
       "      <td>F</td>\n",
       "      <td>NORMAL</td>\n",
       "      <td>HIGH</td>\n",
       "      <td>7.798</td>\n",
       "      <td>drugX</td>\n",
       "    </tr>\n",
       "    <tr>\n",
       "      <th>4</th>\n",
       "      <td>61</td>\n",
       "      <td>F</td>\n",
       "      <td>LOW</td>\n",
       "      <td>HIGH</td>\n",
       "      <td>18.043</td>\n",
       "      <td>drugY</td>\n",
       "    </tr>\n",
       "  </tbody>\n",
       "</table>\n",
       "</div>"
      ],
      "text/plain": [
       "   Age Sex      BP Cholesterol  Na_to_K   Drug\n",
       "0   23   F    HIGH        HIGH   25.355  drugY\n",
       "1   47   M     LOW        HIGH   13.093  drugC\n",
       "2   47   M     LOW        HIGH   10.114  drugC\n",
       "3   28   F  NORMAL        HIGH    7.798  drugX\n",
       "4   61   F     LOW        HIGH   18.043  drugY"
      ]
     },
     "execution_count": 4,
     "metadata": {},
     "output_type": "execute_result"
    }
   ],
   "source": [
    "# Visualizando as 5 últimas linhas do DataFrame\n",
    "dados.head()"
   ]
  },
  {
   "cell_type": "code",
   "execution_count": 5,
   "id": "d2993013",
   "metadata": {},
   "outputs": [
    {
     "data": {
      "text/html": [
       "<div>\n",
       "<style scoped>\n",
       "    .dataframe tbody tr th:only-of-type {\n",
       "        vertical-align: middle;\n",
       "    }\n",
       "\n",
       "    .dataframe tbody tr th {\n",
       "        vertical-align: top;\n",
       "    }\n",
       "\n",
       "    .dataframe thead th {\n",
       "        text-align: right;\n",
       "    }\n",
       "</style>\n",
       "<table border=\"1\" class=\"dataframe\">\n",
       "  <thead>\n",
       "    <tr style=\"text-align: right;\">\n",
       "      <th></th>\n",
       "      <th>Age</th>\n",
       "      <th>Sex</th>\n",
       "      <th>BP</th>\n",
       "      <th>Cholesterol</th>\n",
       "      <th>Na_to_K</th>\n",
       "      <th>Drug</th>\n",
       "    </tr>\n",
       "  </thead>\n",
       "  <tbody>\n",
       "    <tr>\n",
       "      <th>195</th>\n",
       "      <td>56</td>\n",
       "      <td>F</td>\n",
       "      <td>LOW</td>\n",
       "      <td>HIGH</td>\n",
       "      <td>11.567</td>\n",
       "      <td>drugC</td>\n",
       "    </tr>\n",
       "    <tr>\n",
       "      <th>196</th>\n",
       "      <td>16</td>\n",
       "      <td>M</td>\n",
       "      <td>LOW</td>\n",
       "      <td>HIGH</td>\n",
       "      <td>12.006</td>\n",
       "      <td>drugC</td>\n",
       "    </tr>\n",
       "    <tr>\n",
       "      <th>197</th>\n",
       "      <td>52</td>\n",
       "      <td>M</td>\n",
       "      <td>NORMAL</td>\n",
       "      <td>HIGH</td>\n",
       "      <td>9.894</td>\n",
       "      <td>drugX</td>\n",
       "    </tr>\n",
       "    <tr>\n",
       "      <th>198</th>\n",
       "      <td>23</td>\n",
       "      <td>M</td>\n",
       "      <td>NORMAL</td>\n",
       "      <td>NORMAL</td>\n",
       "      <td>14.020</td>\n",
       "      <td>drugX</td>\n",
       "    </tr>\n",
       "    <tr>\n",
       "      <th>199</th>\n",
       "      <td>40</td>\n",
       "      <td>F</td>\n",
       "      <td>LOW</td>\n",
       "      <td>NORMAL</td>\n",
       "      <td>11.349</td>\n",
       "      <td>drugX</td>\n",
       "    </tr>\n",
       "  </tbody>\n",
       "</table>\n",
       "</div>"
      ],
      "text/plain": [
       "     Age Sex      BP Cholesterol  Na_to_K   Drug\n",
       "195   56   F     LOW        HIGH   11.567  drugC\n",
       "196   16   M     LOW        HIGH   12.006  drugC\n",
       "197   52   M  NORMAL        HIGH    9.894  drugX\n",
       "198   23   M  NORMAL      NORMAL   14.020  drugX\n",
       "199   40   F     LOW      NORMAL   11.349  drugX"
      ]
     },
     "execution_count": 5,
     "metadata": {},
     "output_type": "execute_result"
    }
   ],
   "source": [
    "# Visualizando as 5 últimas linhas do DataFrame\n",
    "dados.tail()"
   ]
  },
  {
   "cell_type": "markdown",
   "id": "49765832",
   "metadata": {},
   "source": [
    "- Visualizando com Background"
   ]
  },
  {
   "cell_type": "code",
   "execution_count": 6,
   "id": "527dfaf2",
   "metadata": {},
   "outputs": [
    {
     "data": {
      "text/html": [
       "<style type=\"text/css\">\n",
       "#T_4ce66 th {\n",
       "  color: white;\n",
       "  background-color: #333333;\n",
       "}\n",
       "#T_4ce66_row0_col0, #T_4ce66_row0_col1, #T_4ce66_row0_col2, #T_4ce66_row0_col3, #T_4ce66_row0_col4, #T_4ce66_row0_col5, #T_4ce66_row1_col0, #T_4ce66_row1_col1, #T_4ce66_row1_col2, #T_4ce66_row1_col3, #T_4ce66_row1_col4, #T_4ce66_row1_col5, #T_4ce66_row2_col0, #T_4ce66_row2_col1, #T_4ce66_row2_col2, #T_4ce66_row2_col3, #T_4ce66_row2_col4, #T_4ce66_row2_col5, #T_4ce66_row3_col0, #T_4ce66_row3_col1, #T_4ce66_row3_col2, #T_4ce66_row3_col3, #T_4ce66_row3_col4, #T_4ce66_row3_col5, #T_4ce66_row4_col0, #T_4ce66_row4_col1, #T_4ce66_row4_col2, #T_4ce66_row4_col3, #T_4ce66_row4_col4, #T_4ce66_row4_col5 {\n",
       "  background-color: #254E58;\n",
       "  color: #e9c46a;\n",
       "  border: 1.5px solid black;\n",
       "}\n",
       "</style>\n",
       "<table id=\"T_4ce66\">\n",
       "  <thead>\n",
       "    <tr>\n",
       "      <th class=\"blank level0\" >&nbsp;</th>\n",
       "      <th id=\"T_4ce66_level0_col0\" class=\"col_heading level0 col0\" >Age</th>\n",
       "      <th id=\"T_4ce66_level0_col1\" class=\"col_heading level0 col1\" >Sex</th>\n",
       "      <th id=\"T_4ce66_level0_col2\" class=\"col_heading level0 col2\" >BP</th>\n",
       "      <th id=\"T_4ce66_level0_col3\" class=\"col_heading level0 col3\" >Cholesterol</th>\n",
       "      <th id=\"T_4ce66_level0_col4\" class=\"col_heading level0 col4\" >Na_to_K</th>\n",
       "      <th id=\"T_4ce66_level0_col5\" class=\"col_heading level0 col5\" >Drug</th>\n",
       "    </tr>\n",
       "  </thead>\n",
       "  <tbody>\n",
       "    <tr>\n",
       "      <th id=\"T_4ce66_level0_row0\" class=\"row_heading level0 row0\" >0</th>\n",
       "      <td id=\"T_4ce66_row0_col0\" class=\"data row0 col0\" >23</td>\n",
       "      <td id=\"T_4ce66_row0_col1\" class=\"data row0 col1\" >F</td>\n",
       "      <td id=\"T_4ce66_row0_col2\" class=\"data row0 col2\" >HIGH</td>\n",
       "      <td id=\"T_4ce66_row0_col3\" class=\"data row0 col3\" >HIGH</td>\n",
       "      <td id=\"T_4ce66_row0_col4\" class=\"data row0 col4\" >25.355000</td>\n",
       "      <td id=\"T_4ce66_row0_col5\" class=\"data row0 col5\" >drugY</td>\n",
       "    </tr>\n",
       "    <tr>\n",
       "      <th id=\"T_4ce66_level0_row1\" class=\"row_heading level0 row1\" >1</th>\n",
       "      <td id=\"T_4ce66_row1_col0\" class=\"data row1 col0\" >47</td>\n",
       "      <td id=\"T_4ce66_row1_col1\" class=\"data row1 col1\" >M</td>\n",
       "      <td id=\"T_4ce66_row1_col2\" class=\"data row1 col2\" >LOW</td>\n",
       "      <td id=\"T_4ce66_row1_col3\" class=\"data row1 col3\" >HIGH</td>\n",
       "      <td id=\"T_4ce66_row1_col4\" class=\"data row1 col4\" >13.093000</td>\n",
       "      <td id=\"T_4ce66_row1_col5\" class=\"data row1 col5\" >drugC</td>\n",
       "    </tr>\n",
       "    <tr>\n",
       "      <th id=\"T_4ce66_level0_row2\" class=\"row_heading level0 row2\" >2</th>\n",
       "      <td id=\"T_4ce66_row2_col0\" class=\"data row2 col0\" >47</td>\n",
       "      <td id=\"T_4ce66_row2_col1\" class=\"data row2 col1\" >M</td>\n",
       "      <td id=\"T_4ce66_row2_col2\" class=\"data row2 col2\" >LOW</td>\n",
       "      <td id=\"T_4ce66_row2_col3\" class=\"data row2 col3\" >HIGH</td>\n",
       "      <td id=\"T_4ce66_row2_col4\" class=\"data row2 col4\" >10.114000</td>\n",
       "      <td id=\"T_4ce66_row2_col5\" class=\"data row2 col5\" >drugC</td>\n",
       "    </tr>\n",
       "    <tr>\n",
       "      <th id=\"T_4ce66_level0_row3\" class=\"row_heading level0 row3\" >3</th>\n",
       "      <td id=\"T_4ce66_row3_col0\" class=\"data row3 col0\" >28</td>\n",
       "      <td id=\"T_4ce66_row3_col1\" class=\"data row3 col1\" >F</td>\n",
       "      <td id=\"T_4ce66_row3_col2\" class=\"data row3 col2\" >NORMAL</td>\n",
       "      <td id=\"T_4ce66_row3_col3\" class=\"data row3 col3\" >HIGH</td>\n",
       "      <td id=\"T_4ce66_row3_col4\" class=\"data row3 col4\" >7.798000</td>\n",
       "      <td id=\"T_4ce66_row3_col5\" class=\"data row3 col5\" >drugX</td>\n",
       "    </tr>\n",
       "    <tr>\n",
       "      <th id=\"T_4ce66_level0_row4\" class=\"row_heading level0 row4\" >4</th>\n",
       "      <td id=\"T_4ce66_row4_col0\" class=\"data row4 col0\" >61</td>\n",
       "      <td id=\"T_4ce66_row4_col1\" class=\"data row4 col1\" >F</td>\n",
       "      <td id=\"T_4ce66_row4_col2\" class=\"data row4 col2\" >LOW</td>\n",
       "      <td id=\"T_4ce66_row4_col3\" class=\"data row4 col3\" >HIGH</td>\n",
       "      <td id=\"T_4ce66_row4_col4\" class=\"data row4 col4\" >18.043000</td>\n",
       "      <td id=\"T_4ce66_row4_col5\" class=\"data row4 col5\" >drugY</td>\n",
       "    </tr>\n",
       "  </tbody>\n",
       "</table>\n"
      ],
      "text/plain": [
       "<pandas.io.formats.style.Styler at 0x207da39c350>"
      ]
     },
     "execution_count": 6,
     "metadata": {},
     "output_type": "execute_result"
    }
   ],
   "source": [
    "styled_df = dados.head().style\n",
    "\n",
    "# Defina a cor de fundo, a cor do texto e a borda de todo o DataFrame\n",
    "styled_df.set_properties(**{\"background-color\": \"#254E58\", \"color\": \"#e9c46a\", \"border\": \"1.5px solid black\"})\n",
    "\n",
    "# Modificando a cor de fundo dos cabeçalhos da tabela\n",
    "styled_df.set_table_styles([\n",
    "    {\"selector\": \"th\", \"props\": [(\"color\", 'white'), (\"background-color\", \"#333333\")]}\n",
    "])"
   ]
  },
  {
   "cell_type": "markdown",
   "id": "277df583",
   "metadata": {},
   "source": [
    "> <span style='font-size:15px; font-family:Verdana;color: #254E58; border-bottom: solid 3px'><b>2.3.1 | \n",
    "Nome das Colunas</b></span>"
   ]
  },
  {
   "cell_type": "code",
   "execution_count": 7,
   "id": "fb05862b",
   "metadata": {},
   "outputs": [
    {
     "data": {
      "text/plain": [
       "Index(['Age', 'Sex', 'BP', 'Cholesterol', 'Na_to_K', 'Drug'], dtype='object')"
      ]
     },
     "execution_count": 7,
     "metadata": {},
     "output_type": "execute_result"
    }
   ],
   "source": [
    "# Verificando o nome das colunas\n",
    "dados.columns"
   ]
  },
  {
   "cell_type": "markdown",
   "id": "fa1f64cf",
   "metadata": {},
   "source": [
    "> <span style='font-size:15px; font-family:Verdana;color: #254E58; border-bottom: solid 3px'><b>2.3.2 | \n",
    "Verificando o Números de Linhas e Colunas</b></span>"
   ]
  },
  {
   "cell_type": "code",
   "execution_count": 8,
   "id": "dd38bc91",
   "metadata": {},
   "outputs": [
    {
     "data": {
      "text/plain": [
       "(200, 6)"
      ]
     },
     "execution_count": 8,
     "metadata": {},
     "output_type": "execute_result"
    }
   ],
   "source": [
    "# Verificar o tamanho da base de dados \"(Linhas, Colunas\")\n",
    "dados.shape"
   ]
  },
  {
   "cell_type": "code",
   "execution_count": 9,
   "id": "c7a78656",
   "metadata": {},
   "outputs": [
    {
     "name": "stdout",
     "output_type": "stream",
     "text": [
      "Número de Linhas : 200 \n",
      "Número de Colunas : 6\n"
     ]
    }
   ],
   "source": [
    "# Verificando o Tamanho da Base de Dados\n",
    "linhas , colunas =  dados.shape\n",
    "print(\"Número de Linhas : {} \\nNúmero de Colunas : {}\".format(linhas , colunas))"
   ]
  },
  {
   "cell_type": "markdown",
   "id": "de546089",
   "metadata": {},
   "source": [
    "> <span style='font-size:15px; font-family:Verdana;color: #254E58; border-bottom: solid 3px'><b>2.3.3 | Informações Básicas</b></span>"
   ]
  },
  {
   "cell_type": "markdown",
   "id": "2bef6df1",
   "metadata": {},
   "source": [
    "- Verificando o tipo de dados"
   ]
  },
  {
   "cell_type": "code",
   "execution_count": 10,
   "id": "44aa2b66",
   "metadata": {},
   "outputs": [
    {
     "name": "stdout",
     "output_type": "stream",
     "text": [
      "<class 'pandas.core.frame.DataFrame'>\n",
      "RangeIndex: 200 entries, 0 to 199\n",
      "Data columns (total 6 columns):\n",
      " #   Column       Non-Null Count  Dtype  \n",
      "---  ------       --------------  -----  \n",
      " 0   Age          200 non-null    int64  \n",
      " 1   Sex          200 non-null    object \n",
      " 2   BP           200 non-null    object \n",
      " 3   Cholesterol  200 non-null    object \n",
      " 4   Na_to_K      200 non-null    float64\n",
      " 5   Drug         200 non-null    object \n",
      "dtypes: float64(1), int64(1), object(4)\n",
      "memory usage: 9.5+ KB\n"
     ]
    }
   ],
   "source": [
    "# Verificando o tipo de dados\n",
    "dados.info()"
   ]
  },
  {
   "cell_type": "code",
   "execution_count": 11,
   "id": "4a84ead0",
   "metadata": {},
   "outputs": [
    {
     "data": {
      "text/plain": [
       "Age              int64\n",
       "Sex             object\n",
       "BP              object\n",
       "Cholesterol     object\n",
       "Na_to_K        float64\n",
       "Drug            object\n",
       "dtype: object"
      ]
     },
     "execution_count": 11,
     "metadata": {},
     "output_type": "execute_result"
    }
   ],
   "source": [
    "# Outra forma de Verificar o tipo de dados\n",
    "dados.dtypes"
   ]
  },
  {
   "cell_type": "markdown",
   "id": "a83bc979",
   "metadata": {},
   "source": [
    "- Verificando a quantidade de itens"
   ]
  },
  {
   "cell_type": "code",
   "execution_count": 12,
   "id": "a31c930f",
   "metadata": {},
   "outputs": [
    {
     "data": {
      "text/plain": [
       "Age            200\n",
       "Sex            200\n",
       "BP             200\n",
       "Cholesterol    200\n",
       "Na_to_K        200\n",
       "Drug           200\n",
       "dtype: int64"
      ]
     },
     "execution_count": 12,
     "metadata": {},
     "output_type": "execute_result"
    }
   ],
   "source": [
    "# Verificando a quantidade de Registros\n",
    "dados.count()"
   ]
  },
  {
   "cell_type": "markdown",
   "id": "0f8dfd87",
   "metadata": {},
   "source": [
    "> <span style='font-size:15px; font-family:Verdana;color: #254E58; border-bottom: solid 3px'><b>2.3.4 | Verificando Valores Ausentes/Nulos</b></span>"
   ]
  },
  {
   "cell_type": "markdown",
   "id": "07c3f733",
   "metadata": {},
   "source": [
    "- Verificando se há valores ausentes usando o **isna**"
   ]
  },
  {
   "cell_type": "code",
   "execution_count": 13,
   "id": "b5764989",
   "metadata": {},
   "outputs": [
    {
     "data": {
      "text/plain": [
       "Age            0\n",
       "Sex            0\n",
       "BP             0\n",
       "Cholesterol    0\n",
       "Na_to_K        0\n",
       "Drug           0\n",
       "dtype: int64"
      ]
     },
     "execution_count": 13,
     "metadata": {},
     "output_type": "execute_result"
    }
   ],
   "source": [
    "# Verificando se há valores ausentes\n",
    "dados.isna().sum()"
   ]
  },
  {
   "cell_type": "code",
   "execution_count": 14,
   "id": "463cf393",
   "metadata": {},
   "outputs": [
    {
     "data": {
      "text/plain": [
       "0"
      ]
     },
     "execution_count": 14,
     "metadata": {},
     "output_type": "execute_result"
    }
   ],
   "source": [
    "# Verificando se há valores ausentes\n",
    "dados.isna().sum().sum()"
   ]
  },
  {
   "cell_type": "markdown",
   "id": "c4ef332e",
   "metadata": {},
   "source": [
    "- Verificando se há valores ausentes usando o **isnull**"
   ]
  },
  {
   "cell_type": "code",
   "execution_count": 15,
   "id": "a59d7359",
   "metadata": {},
   "outputs": [
    {
     "data": {
      "text/plain": [
       "Age            0\n",
       "Sex            0\n",
       "BP             0\n",
       "Cholesterol    0\n",
       "Na_to_K        0\n",
       "Drug           0\n",
       "dtype: int64"
      ]
     },
     "execution_count": 15,
     "metadata": {},
     "output_type": "execute_result"
    }
   ],
   "source": [
    "# Verificando se há valores ausentes\n",
    "dados.isnull().sum()"
   ]
  },
  {
   "cell_type": "code",
   "execution_count": 16,
   "id": "a09134a0",
   "metadata": {},
   "outputs": [
    {
     "data": {
      "text/plain": [
       "0"
      ]
     },
     "execution_count": 16,
     "metadata": {},
     "output_type": "execute_result"
    }
   ],
   "source": [
    "# Verificando se há valores ausentes\n",
    "dados.isnull().sum().sum()"
   ]
  },
  {
   "cell_type": "markdown",
   "id": "33eb3a34",
   "metadata": {},
   "source": [
    "> <span style='font-size:15px; font-family:Verdana;color: #254E58; border-bottom: solid 3px'><b>2.3.5 | Verificando Valores Duplicados</b></span>"
   ]
  },
  {
   "cell_type": "code",
   "execution_count": 17,
   "id": "293e8125",
   "metadata": {},
   "outputs": [
    {
     "data": {
      "text/plain": [
       "0      False\n",
       "1      False\n",
       "2      False\n",
       "3      False\n",
       "4      False\n",
       "       ...  \n",
       "195    False\n",
       "196    False\n",
       "197    False\n",
       "198    False\n",
       "199    False\n",
       "Length: 200, dtype: bool"
      ]
     },
     "execution_count": 17,
     "metadata": {},
     "output_type": "execute_result"
    }
   ],
   "source": [
    "# Verificando se há valores duplicados\n",
    "dados.duplicated()"
   ]
  },
  {
   "cell_type": "code",
   "execution_count": 18,
   "id": "a6778f78",
   "metadata": {},
   "outputs": [
    {
     "data": {
      "text/plain": [
       "0"
      ]
     },
     "execution_count": 18,
     "metadata": {},
     "output_type": "execute_result"
    }
   ],
   "source": [
    "# Verificando se há valores duplicados\n",
    "dados.duplicated().sum()"
   ]
  },
  {
   "cell_type": "markdown",
   "id": "5dfa86ea",
   "metadata": {},
   "source": [
    "> <span style='font-size:15px; font-family:Verdana;color: #254E58; border-bottom: solid 3px'><b>2.3.6 | \n",
    "Verificando Valores ùnicos em Colunas Categóricas</b></span>"
   ]
  },
  {
   "cell_type": "markdown",
   "id": "f0e2b776",
   "metadata": {},
   "source": [
    "- Variável **Sexo**"
   ]
  },
  {
   "cell_type": "code",
   "execution_count": 19,
   "id": "8868de47",
   "metadata": {},
   "outputs": [
    {
     "data": {
      "text/plain": [
       "array(['F', 'M'], dtype=object)"
      ]
     },
     "execution_count": 19,
     "metadata": {},
     "output_type": "execute_result"
    }
   ],
   "source": [
    "# Verificando os valores únicos em uma coluna Específica\n",
    "dados.Sex.unique()"
   ]
  },
  {
   "cell_type": "code",
   "execution_count": 20,
   "id": "6b4df891",
   "metadata": {},
   "outputs": [
    {
     "data": {
      "text/plain": [
       "array(['F', 'M'], dtype=object)"
      ]
     },
     "execution_count": 20,
     "metadata": {},
     "output_type": "execute_result"
    }
   ],
   "source": [
    "# Outra forma de Verificar os valores únicos em uma coluna Específica\n",
    "dados['Sex'].unique()"
   ]
  },
  {
   "cell_type": "markdown",
   "id": "84356180",
   "metadata": {},
   "source": [
    "- Variável **BP** *(níveil de pressão arterial)*"
   ]
  },
  {
   "cell_type": "code",
   "execution_count": 21,
   "id": "85df6628",
   "metadata": {},
   "outputs": [
    {
     "data": {
      "text/plain": [
       "array(['HIGH', 'LOW', 'NORMAL'], dtype=object)"
      ]
     },
     "execution_count": 21,
     "metadata": {},
     "output_type": "execute_result"
    }
   ],
   "source": [
    "# Vericando os valores Únicos\n",
    "dados['BP'].unique()"
   ]
  },
  {
   "cell_type": "markdown",
   "id": "53d4e10d",
   "metadata": {},
   "source": [
    "- Variável **Cholesterol** *(níveil de Colesterol)*"
   ]
  },
  {
   "cell_type": "code",
   "execution_count": 22,
   "id": "b1128153",
   "metadata": {},
   "outputs": [
    {
     "data": {
      "text/plain": [
       "array(['HIGH', 'NORMAL'], dtype=object)"
      ]
     },
     "execution_count": 22,
     "metadata": {},
     "output_type": "execute_result"
    }
   ],
   "source": [
    "# Vericando os valores Únicos\n",
    "dados['Cholesterol'].unique()"
   ]
  },
  {
   "cell_type": "markdown",
   "id": "0cd8bb70",
   "metadata": {},
   "source": [
    "- Variável **Drug** *(é o tipo de medicamento ou droga a ser aplicada)*"
   ]
  },
  {
   "cell_type": "code",
   "execution_count": 23,
   "id": "4b727eba",
   "metadata": {},
   "outputs": [
    {
     "data": {
      "text/plain": [
       "array(['drugY', 'drugC', 'drugX', 'drugA', 'drugB'], dtype=object)"
      ]
     },
     "execution_count": 23,
     "metadata": {},
     "output_type": "execute_result"
    }
   ],
   "source": [
    "# Vericando os valores Únicos\n",
    "dados['Drug'].unique()"
   ]
  },
  {
   "cell_type": "markdown",
   "id": "d12952ec",
   "metadata": {},
   "source": [
    "<a id=\"2.4\"></a>\n",
    "<h4 style=\"font-family: Verdana; font-size: 25px; font-style: normal; font-weight: normal; text-decoration: none; text-transform: none; letter-spacing: 2px; color: #254E58; background-color: #ffffff;\"><b>2.4 | Estatística Descritiva </b> → Análise Matemática "
   ]
  },
  {
   "cell_type": "markdown",
   "id": "4365c348",
   "metadata": {},
   "source": [
    "- *Essa análise só faz sentido para variáveis numericas*"
   ]
  },
  {
   "cell_type": "markdown",
   "id": "71adf17a",
   "metadata": {},
   "source": [
    "#### Principais Elementos mostrados nessa análise\n",
    "\n",
    "- $count →$ *Quantidade de registros*\n",
    "\n",
    "- $mean →$  *Valor mediano/médio*, ou seja, é a **Média**\n",
    "\n",
    "- $std →$  *Desvio Padrão*\n",
    "\n",
    "- $min →$ *Valor mínimo*\n",
    "\n",
    "- $25$% $→$ *Primeiro Quartil* $(Q_1)$\n",
    "\n",
    "- $50$% $→$ *Segundo Quartil* $(Q_2)$ que também representa a **Mediana**\n",
    "\n",
    "- $75$% $→$ *Terceiro Quartil* $(Q_3)$\n",
    "\n",
    "- $max →$  *Valor máximo*"
   ]
  },
  {
   "cell_type": "code",
   "execution_count": 24,
   "id": "69b1633d",
   "metadata": {},
   "outputs": [
    {
     "data": {
      "text/html": [
       "<div>\n",
       "<style scoped>\n",
       "    .dataframe tbody tr th:only-of-type {\n",
       "        vertical-align: middle;\n",
       "    }\n",
       "\n",
       "    .dataframe tbody tr th {\n",
       "        vertical-align: top;\n",
       "    }\n",
       "\n",
       "    .dataframe thead th {\n",
       "        text-align: right;\n",
       "    }\n",
       "</style>\n",
       "<table border=\"1\" class=\"dataframe\">\n",
       "  <thead>\n",
       "    <tr style=\"text-align: right;\">\n",
       "      <th></th>\n",
       "      <th>Age</th>\n",
       "      <th>Na_to_K</th>\n",
       "    </tr>\n",
       "  </thead>\n",
       "  <tbody>\n",
       "    <tr>\n",
       "      <th>count</th>\n",
       "      <td>200.000000</td>\n",
       "      <td>200.000000</td>\n",
       "    </tr>\n",
       "    <tr>\n",
       "      <th>mean</th>\n",
       "      <td>44.315000</td>\n",
       "      <td>16.084485</td>\n",
       "    </tr>\n",
       "    <tr>\n",
       "      <th>std</th>\n",
       "      <td>16.544315</td>\n",
       "      <td>7.223956</td>\n",
       "    </tr>\n",
       "    <tr>\n",
       "      <th>min</th>\n",
       "      <td>15.000000</td>\n",
       "      <td>6.269000</td>\n",
       "    </tr>\n",
       "    <tr>\n",
       "      <th>25%</th>\n",
       "      <td>31.000000</td>\n",
       "      <td>10.445500</td>\n",
       "    </tr>\n",
       "    <tr>\n",
       "      <th>50%</th>\n",
       "      <td>45.000000</td>\n",
       "      <td>13.936500</td>\n",
       "    </tr>\n",
       "    <tr>\n",
       "      <th>75%</th>\n",
       "      <td>58.000000</td>\n",
       "      <td>19.380000</td>\n",
       "    </tr>\n",
       "    <tr>\n",
       "      <th>max</th>\n",
       "      <td>74.000000</td>\n",
       "      <td>38.247000</td>\n",
       "    </tr>\n",
       "  </tbody>\n",
       "</table>\n",
       "</div>"
      ],
      "text/plain": [
       "              Age     Na_to_K\n",
       "count  200.000000  200.000000\n",
       "mean    44.315000   16.084485\n",
       "std     16.544315    7.223956\n",
       "min     15.000000    6.269000\n",
       "25%     31.000000   10.445500\n",
       "50%     45.000000   13.936500\n",
       "75%     58.000000   19.380000\n",
       "max     74.000000   38.247000"
      ]
     },
     "execution_count": 24,
     "metadata": {},
     "output_type": "execute_result"
    }
   ],
   "source": [
    "# Análise matematica - ESTATISTICA DESCRITIVA\n",
    "dados.describe()"
   ]
  },
  {
   "cell_type": "markdown",
   "id": "47ed638c",
   "metadata": {},
   "source": [
    "> <span style='font-size:15px; font-family:Verdana;color: #254E58; border-bottom: solid 3px'><b>3.4.1 | Visualizando a Estatística Descritiva com um Display</b></span>"
   ]
  },
  {
   "cell_type": "code",
   "execution_count": 25,
   "id": "d0946c38",
   "metadata": {},
   "outputs": [
    {
     "data": {
      "text/html": [
       "<style type=\"text/css\">\n",
       "#T_0cb88 th {\n",
       "  background-color: #254E58;\n",
       "  color: white;\n",
       "  font-weight: bold;\n",
       "  text-align: left;\n",
       "  padding: 8px;\n",
       "}\n",
       "#T_0cb88 td {\n",
       "  padding: 8px;\n",
       "}\n",
       "#T_0cb88_row0_col0, #T_0cb88_row0_col1, #T_0cb88_row1_col0, #T_0cb88_row1_col1, #T_0cb88_row2_col0, #T_0cb88_row2_col1, #T_0cb88_row3_col0, #T_0cb88_row3_col1, #T_0cb88_row4_col0, #T_0cb88_row4_col1, #T_0cb88_row5_col0, #T_0cb88_row5_col1, #T_0cb88_row6_col0, #T_0cb88_row6_col1, #T_0cb88_row7_col0, #T_0cb88_row7_col1 {\n",
       "  font-size: 14px;\n",
       "  background-color: #F5F5F5;\n",
       "  border-collapse: collapse;\n",
       "  margin: 10px;\n",
       "}\n",
       "</style>\n",
       "<table id=\"T_0cb88\">\n",
       "  <thead>\n",
       "    <tr>\n",
       "      <th class=\"blank level0\" >&nbsp;</th>\n",
       "      <th id=\"T_0cb88_level0_col0\" class=\"col_heading level0 col0\" >Age</th>\n",
       "      <th id=\"T_0cb88_level0_col1\" class=\"col_heading level0 col1\" >Na_to_K</th>\n",
       "    </tr>\n",
       "  </thead>\n",
       "  <tbody>\n",
       "    <tr>\n",
       "      <th id=\"T_0cb88_level0_row0\" class=\"row_heading level0 row0\" >count</th>\n",
       "      <td id=\"T_0cb88_row0_col0\" class=\"data row0 col0\" >200.000000</td>\n",
       "      <td id=\"T_0cb88_row0_col1\" class=\"data row0 col1\" >200.000000</td>\n",
       "    </tr>\n",
       "    <tr>\n",
       "      <th id=\"T_0cb88_level0_row1\" class=\"row_heading level0 row1\" >mean</th>\n",
       "      <td id=\"T_0cb88_row1_col0\" class=\"data row1 col0\" >44.315000</td>\n",
       "      <td id=\"T_0cb88_row1_col1\" class=\"data row1 col1\" >16.084485</td>\n",
       "    </tr>\n",
       "    <tr>\n",
       "      <th id=\"T_0cb88_level0_row2\" class=\"row_heading level0 row2\" >std</th>\n",
       "      <td id=\"T_0cb88_row2_col0\" class=\"data row2 col0\" >16.544315</td>\n",
       "      <td id=\"T_0cb88_row2_col1\" class=\"data row2 col1\" >7.223956</td>\n",
       "    </tr>\n",
       "    <tr>\n",
       "      <th id=\"T_0cb88_level0_row3\" class=\"row_heading level0 row3\" >min</th>\n",
       "      <td id=\"T_0cb88_row3_col0\" class=\"data row3 col0\" >15.000000</td>\n",
       "      <td id=\"T_0cb88_row3_col1\" class=\"data row3 col1\" >6.269000</td>\n",
       "    </tr>\n",
       "    <tr>\n",
       "      <th id=\"T_0cb88_level0_row4\" class=\"row_heading level0 row4\" >25%</th>\n",
       "      <td id=\"T_0cb88_row4_col0\" class=\"data row4 col0\" >31.000000</td>\n",
       "      <td id=\"T_0cb88_row4_col1\" class=\"data row4 col1\" >10.445500</td>\n",
       "    </tr>\n",
       "    <tr>\n",
       "      <th id=\"T_0cb88_level0_row5\" class=\"row_heading level0 row5\" >50%</th>\n",
       "      <td id=\"T_0cb88_row5_col0\" class=\"data row5 col0\" >45.000000</td>\n",
       "      <td id=\"T_0cb88_row5_col1\" class=\"data row5 col1\" >13.936500</td>\n",
       "    </tr>\n",
       "    <tr>\n",
       "      <th id=\"T_0cb88_level0_row6\" class=\"row_heading level0 row6\" >75%</th>\n",
       "      <td id=\"T_0cb88_row6_col0\" class=\"data row6 col0\" >58.000000</td>\n",
       "      <td id=\"T_0cb88_row6_col1\" class=\"data row6 col1\" >19.380000</td>\n",
       "    </tr>\n",
       "    <tr>\n",
       "      <th id=\"T_0cb88_level0_row7\" class=\"row_heading level0 row7\" >max</th>\n",
       "      <td id=\"T_0cb88_row7_col0\" class=\"data row7 col0\" >74.000000</td>\n",
       "      <td id=\"T_0cb88_row7_col1\" class=\"data row7 col1\" >38.247000</td>\n",
       "    </tr>\n",
       "  </tbody>\n",
       "</table>\n"
      ],
      "text/plain": [
       "<pandas.io.formats.style.Styler at 0x207da524dd0>"
      ]
     },
     "execution_count": 25,
     "metadata": {},
     "output_type": "execute_result"
    }
   ],
   "source": [
    "# Visualizando a \"Estatística Descritiva\" colocando Background\n",
    "\n",
    "styled_df = dados.describe().style \\\n",
    "    .set_table_styles([\n",
    "        {'selector': 'th', 'props': [('background-color', '#254E58'), ('color', 'white'), ('font-weight', 'bold'), ('text-align', 'left'), ('padding', '8px')]},\n",
    "        {'selector': 'td', 'props': [('padding', '8px')]}\n",
    "    ]) \\\n",
    "    .set_properties(**{'font-size': '14px', 'background-color': '#F5F5F5', 'border-collapse': 'collapse', 'margin': '10px'})\n",
    "\n",
    "styled_df"
   ]
  },
  {
   "cell_type": "markdown",
   "id": "56868c42",
   "metadata": {},
   "source": [
    "> <span style='font-size:15px; font-family:Verdana;color: #254E58; border-bottom: solid 3px'><b>2.4.1 | Estatística Descritiva para variável Idade</b></span>"
   ]
  },
  {
   "cell_type": "code",
   "execution_count": 26,
   "id": "b3442615",
   "metadata": {},
   "outputs": [
    {
     "data": {
      "text/plain": [
       "count    200.000000\n",
       "mean      44.315000\n",
       "std       16.544315\n",
       "min       15.000000\n",
       "25%       31.000000\n",
       "50%       45.000000\n",
       "75%       58.000000\n",
       "max       74.000000\n",
       "Name: Age, dtype: float64"
      ]
     },
     "execution_count": 26,
     "metadata": {},
     "output_type": "execute_result"
    }
   ],
   "source": [
    "# Verificando somente a Variável Idade\n",
    "dados.Age.describe()"
   ]
  },
  {
   "cell_type": "markdown",
   "id": "9250121c",
   "metadata": {},
   "source": [
    "<a id=\"2.5\"></a>\n",
    "<h4 style=\"font-family: Verdana; font-size: 25px; font-style: normal; font-weight: normal; text-decoration: none; text-transform: none; letter-spacing: 2px; color: #254E58; background-color: #ffffff;\"><b>2.5 | Analisando a Frequência </b> dos dados Categoricos"
   ]
  },
  {
   "cell_type": "markdown",
   "id": "4bddef56",
   "metadata": {},
   "source": [
    "#### Principais Elementos mostrados nessa análise\n",
    "\n",
    "- $unique →$  Indica a quantidade de observações únicas;\n",
    "\n",
    "- $top →$ Indica qual é o rotulo mais frequente;\n",
    "\n",
    "- $freq →$ Indica a frequência que cada rotulo aparece ou ocorre."
   ]
  },
  {
   "cell_type": "code",
   "execution_count": 27,
   "id": "42d6225d",
   "metadata": {},
   "outputs": [
    {
     "data": {
      "text/html": [
       "<div>\n",
       "<style scoped>\n",
       "    .dataframe tbody tr th:only-of-type {\n",
       "        vertical-align: middle;\n",
       "    }\n",
       "\n",
       "    .dataframe tbody tr th {\n",
       "        vertical-align: top;\n",
       "    }\n",
       "\n",
       "    .dataframe thead th {\n",
       "        text-align: right;\n",
       "    }\n",
       "</style>\n",
       "<table border=\"1\" class=\"dataframe\">\n",
       "  <thead>\n",
       "    <tr style=\"text-align: right;\">\n",
       "      <th></th>\n",
       "      <th>Sex</th>\n",
       "      <th>BP</th>\n",
       "      <th>Cholesterol</th>\n",
       "      <th>Drug</th>\n",
       "    </tr>\n",
       "  </thead>\n",
       "  <tbody>\n",
       "    <tr>\n",
       "      <th>count</th>\n",
       "      <td>200</td>\n",
       "      <td>200</td>\n",
       "      <td>200</td>\n",
       "      <td>200</td>\n",
       "    </tr>\n",
       "    <tr>\n",
       "      <th>unique</th>\n",
       "      <td>2</td>\n",
       "      <td>3</td>\n",
       "      <td>2</td>\n",
       "      <td>5</td>\n",
       "    </tr>\n",
       "    <tr>\n",
       "      <th>top</th>\n",
       "      <td>M</td>\n",
       "      <td>HIGH</td>\n",
       "      <td>HIGH</td>\n",
       "      <td>drugY</td>\n",
       "    </tr>\n",
       "    <tr>\n",
       "      <th>freq</th>\n",
       "      <td>104</td>\n",
       "      <td>77</td>\n",
       "      <td>103</td>\n",
       "      <td>91</td>\n",
       "    </tr>\n",
       "  </tbody>\n",
       "</table>\n",
       "</div>"
      ],
      "text/plain": [
       "        Sex    BP Cholesterol   Drug\n",
       "count   200   200         200    200\n",
       "unique    2     3           2      5\n",
       "top       M  HIGH        HIGH  drugY\n",
       "freq    104    77         103     91"
      ]
     },
     "execution_count": 27,
     "metadata": {},
     "output_type": "execute_result"
    }
   ],
   "source": [
    "# Verificando a distribuição dos dados categoricos\n",
    "dados.select_dtypes(include= 'object').describe() # OU df.describe(include = 'O')"
   ]
  },
  {
   "cell_type": "code",
   "execution_count": 28,
   "id": "36a22cab",
   "metadata": {},
   "outputs": [
    {
     "data": {
      "text/html": [
       "<div>\n",
       "<style scoped>\n",
       "    .dataframe tbody tr th:only-of-type {\n",
       "        vertical-align: middle;\n",
       "    }\n",
       "\n",
       "    .dataframe tbody tr th {\n",
       "        vertical-align: top;\n",
       "    }\n",
       "\n",
       "    .dataframe thead th {\n",
       "        text-align: right;\n",
       "    }\n",
       "</style>\n",
       "<table border=\"1\" class=\"dataframe\">\n",
       "  <thead>\n",
       "    <tr style=\"text-align: right;\">\n",
       "      <th></th>\n",
       "      <th>Sex</th>\n",
       "      <th>BP</th>\n",
       "      <th>Cholesterol</th>\n",
       "      <th>Drug</th>\n",
       "    </tr>\n",
       "  </thead>\n",
       "  <tbody>\n",
       "    <tr>\n",
       "      <th>count</th>\n",
       "      <td>200</td>\n",
       "      <td>200</td>\n",
       "      <td>200</td>\n",
       "      <td>200</td>\n",
       "    </tr>\n",
       "    <tr>\n",
       "      <th>unique</th>\n",
       "      <td>2</td>\n",
       "      <td>3</td>\n",
       "      <td>2</td>\n",
       "      <td>5</td>\n",
       "    </tr>\n",
       "    <tr>\n",
       "      <th>top</th>\n",
       "      <td>M</td>\n",
       "      <td>HIGH</td>\n",
       "      <td>HIGH</td>\n",
       "      <td>drugY</td>\n",
       "    </tr>\n",
       "    <tr>\n",
       "      <th>freq</th>\n",
       "      <td>104</td>\n",
       "      <td>77</td>\n",
       "      <td>103</td>\n",
       "      <td>91</td>\n",
       "    </tr>\n",
       "  </tbody>\n",
       "</table>\n",
       "</div>"
      ],
      "text/plain": [
       "        Sex    BP Cholesterol   Drug\n",
       "count   200   200         200    200\n",
       "unique    2     3           2      5\n",
       "top       M  HIGH        HIGH  drugY\n",
       "freq    104    77         103     91"
      ]
     },
     "execution_count": 28,
     "metadata": {},
     "output_type": "execute_result"
    }
   ],
   "source": [
    "# Outra forma de Verificar a distribuição dos dados categoricos\n",
    "dados.describe(include = 'O')"
   ]
  },
  {
   "cell_type": "markdown",
   "id": "4592a6ee",
   "metadata": {},
   "source": [
    "<a id=\"2.6\"></a>\n",
    "<h4 style=\"font-family: Verdana; font-size: 25px; font-style: normal; font-weight: normal; text-decoration: none; text-transform: none; letter-spacing: 2px; color: #254E58; background-color: #ffffff;\"><b>2.6 | Associação </b>de Variáveis"
   ]
  },
  {
   "cell_type": "markdown",
   "id": "e1f34982",
   "metadata": {},
   "source": [
    "> <span style='font-size:15px; font-family:Verdana;color: #254E58; border-bottom: solid 3px'><b>2.5.1 | Verificando a Média de Idade por Sexo</b></span>"
   ]
  },
  {
   "cell_type": "code",
   "execution_count": 29,
   "id": "47084c1b",
   "metadata": {},
   "outputs": [
    {
     "data": {
      "text/plain": [
       "Sex\n",
       "F    42.562500\n",
       "M    45.932692\n",
       "Name: Age, dtype: float64"
      ]
     },
     "execution_count": 29,
     "metadata": {},
     "output_type": "execute_result"
    }
   ],
   "source": [
    "# Verificando a Média de Idade por Sexo\n",
    "dados.groupby('Sex')['Age'].mean()"
   ]
  },
  {
   "cell_type": "markdown",
   "id": "147be27e",
   "metadata": {},
   "source": [
    "> <span style='font-size:15px; font-family:Verdana;color: #254E58; border-bottom: solid 3px'><b>2.5.2 | Verificando a Média de Idade por BP</b></span>"
   ]
  },
  {
   "cell_type": "code",
   "execution_count": 30,
   "id": "55117edd",
   "metadata": {},
   "outputs": [
    {
     "data": {
      "text/plain": [
       "BP\n",
       "HIGH      42.233766\n",
       "LOW       47.031250\n",
       "NORMAL    44.084746\n",
       "Name: Age, dtype: float64"
      ]
     },
     "execution_count": 30,
     "metadata": {},
     "output_type": "execute_result"
    }
   ],
   "source": [
    "# Verificando a Média de Idade por BP\n",
    "dados.groupby('BP')['Age'].mean()"
   ]
  },
  {
   "cell_type": "markdown",
   "id": "0ba7080e",
   "metadata": {},
   "source": [
    "> <span style='font-size:15px; font-family:Verdana;color: #254E58; border-bottom: solid 3px'><b>2.5.3 | Verificando a Média de Idade por Colesterol</b></span>"
   ]
  },
  {
   "cell_type": "code",
   "execution_count": 31,
   "id": "68bd882d",
   "metadata": {},
   "outputs": [
    {
     "data": {
      "text/plain": [
       "Cholesterol\n",
       "HIGH      45.407767\n",
       "NORMAL    43.154639\n",
       "Name: Age, dtype: float64"
      ]
     },
     "execution_count": 31,
     "metadata": {},
     "output_type": "execute_result"
    }
   ],
   "source": [
    "# Verificando a Média de Idade por Colesterol\n",
    "dados.groupby('Cholesterol')['Age'].mean()"
   ]
  },
  {
   "cell_type": "markdown",
   "id": "4ffde279",
   "metadata": {},
   "source": [
    "> <span style='font-size:15px; font-family:Verdana;color: #254E58; border-bottom: solid 3px'><b>2.5.4 | Vericando a Média de Idade por consumo de medicamentos  (𝐷𝑟𝑢𝑔)</b></span>"
   ]
  },
  {
   "cell_type": "code",
   "execution_count": 32,
   "id": "b3477b7a",
   "metadata": {},
   "outputs": [
    {
     "data": {
      "text/plain": [
       "Drug\n",
       "drugA    35.869565\n",
       "drugB    62.500000\n",
       "drugC    42.500000\n",
       "drugX    44.018519\n",
       "drugY    43.747253\n",
       "Name: Age, dtype: float64"
      ]
     },
     "execution_count": 32,
     "metadata": {},
     "output_type": "execute_result"
    }
   ],
   "source": [
    "# Vericando a Média de Idade por consumo de medicamentos  (𝐷𝑟𝑢𝑔)\n",
    "dados.groupby('Drug')['Age'].mean()"
   ]
  },
  {
   "cell_type": "markdown",
   "id": "bac4a3cf",
   "metadata": {},
   "source": [
    "<a id=\"2.7\"></a>\n",
    "<h4 style=\"font-family: Verdana; font-size: 25px; font-style: normal; font-weight: normal; text-decoration: none; text-transform: none; letter-spacing: 2px; color: #254E58; background-color: #ffffff;\"><b>2.7 | Visualização </b>de Dados"
   ]
  },
  {
   "cell_type": "markdown",
   "id": "abd19e01",
   "metadata": {},
   "source": [
    "> <span style='font-size:15px; font-family:Verdana;color: #254E58; border-bottom: solid 3px'><b>2.7.1 | Visualizando o comportamento da variavel BP</b></span>"
   ]
  },
  {
   "cell_type": "code",
   "execution_count": 33,
   "id": "6fef572c",
   "metadata": {},
   "outputs": [
    {
     "data": {
      "image/png": "[encoded data removed]",
      "text/plain": [
       "<Figure size 640x480 with 1 Axes>"
      ]
     },
     "metadata": {},
     "output_type": "display_data"
    }
   ],
   "source": [
    "sns.countplot(data=dados, x='BP', palette='crest');"
   ]
  },
  {
   "cell_type": "code",
   "execution_count": 34,
   "id": "e1390fb0",
   "metadata": {
    "scrolled": true
   },
   "outputs": [
    {
     "data": {
      "image/png": "[encoded data removed]",
      "text/plain": [
       "<Figure size 640x480 with 1 Axes>"
      ]
     },
     "metadata": {},
     "output_type": "display_data"
    }
   ],
   "source": [
    "# Analisando a variavel BP\n",
    "sns.countplot(data=dados, x='BP', palette='crest', ax=plt.gca()).set_facecolor('lightgray');"
   ]
  },
  {
   "cell_type": "code",
   "execution_count": 35,
   "id": "be352999",
   "metadata": {},
   "outputs": [
    {
     "data": {
      "image/png": "[encoded data removed]",
      "text/plain": [
       "<Figure size 800x600 with 1 Axes>"
      ]
     },
     "metadata": {},
     "output_type": "display_data"
    }
   ],
   "source": [
    "plt.figure(figsize=(8, 6))\n",
    "sns.countplot(data=dados, x='BP', palette='crest')\n",
    "plt.title('Análise da Variável BP - Nível de Pressão Arterial')\n",
    "plt.xlabel('Nível de Pressão Arterial')\n",
    "plt.ylabel('Contagem')\n",
    "plt.xticks(rotation=45)  # Rotaciona os rótulos no eixo x para facilitar a leitura\n",
    "plt.show();"
   ]
  },
  {
   "cell_type": "markdown",
   "id": "9a33c2d1",
   "metadata": {},
   "source": [
    "Verificando a porcentagem de valores"
   ]
  },
  {
   "cell_type": "code",
   "execution_count": 36,
   "id": "c3392f5e",
   "metadata": {},
   "outputs": [
    {
     "data": {
      "text/plain": [
       "BP\n",
       "HIGH      38.5\n",
       "LOW       32.0\n",
       "NORMAL    29.5\n",
       "Name: count, dtype: float64"
      ]
     },
     "execution_count": 36,
     "metadata": {},
     "output_type": "execute_result"
    }
   ],
   "source": [
    "# Verificando a porcentagem de valores\n",
    "(dados.BP.value_counts())*100/200"
   ]
  },
  {
   "cell_type": "code",
   "execution_count": 37,
   "id": "c879ced9",
   "metadata": {},
   "outputs": [
    {
     "data": {
      "text/plain": [
       "BP\n",
       "HIGH      38.5\n",
       "LOW       32.0\n",
       "NORMAL    29.5\n",
       "Name: count, dtype: float64"
      ]
     },
     "execution_count": 37,
     "metadata": {},
     "output_type": "execute_result"
    }
   ],
   "source": [
    "# Outra forma de Verificar a porcentagem de valores\n",
    "(dados['BP'].value_counts() * 100 / 200)"
   ]
  },
  {
   "cell_type": "code",
   "execution_count": 38,
   "id": "3760e00c",
   "metadata": {},
   "outputs": [
    {
     "name": "stdout",
     "output_type": "stream",
     "text": [
      "Contagem de Valores BP:\n",
      "BP\n",
      "HIGH      77\n",
      "LOW       64\n",
      "NORMAL    59\n",
      "Name: count, dtype: int64\n",
      "\n",
      "Porcentagens em relação a 200:\n",
      "BP\n",
      "HIGH      38.5\n",
      "LOW       32.0\n",
      "NORMAL    29.5\n",
      "Name: count, dtype: float64\n"
     ]
    }
   ],
   "source": [
    "bp_quantidade = dados['BP'].value_counts()  # Conta a frequência de valores na coluna 'BP'\n",
    "bp_porcentagem = (bp_quantidade * 100) / 200  # Calcula a porcentagem em relação a 200\n",
    "\n",
    "# Exibe as contagens e as porcentagens\n",
    "print(\"Contagem de Valores BP:\\n{}\".format(bp_quantidade))\n",
    "print(\"\\nPorcentagens em relação a 200:\\n{}\".format(bp_porcentagem))"
   ]
  },
  {
   "cell_type": "markdown",
   "id": "d9a950a2",
   "metadata": {},
   "source": [
    "##### **Conclusão**👇🏽👇👇🏽\n",
    "\n",
    "- Cerca de $30$% dos pacientes apresentam *pressão arterial* normal"
   ]
  },
  {
   "cell_type": "markdown",
   "id": "5044125e",
   "metadata": {},
   "source": [
    "> <span style='font-size:15px; font-family:Verdana;color: #254E58; border-bottom: solid 3px'><b>2.7.2 | Visualizando o comportamento da variavel DRUG</b></span>"
   ]
  },
  {
   "cell_type": "code",
   "execution_count": 39,
   "id": "b315d7db",
   "metadata": {},
   "outputs": [
    {
     "data": {
      "text/plain": [
       "Drug\n",
       "drugY    91\n",
       "drugX    54\n",
       "drugA    23\n",
       "drugC    16\n",
       "drugB    16\n",
       "Name: count, dtype: int64"
      ]
     },
     "execution_count": 39,
     "metadata": {},
     "output_type": "execute_result"
    }
   ],
   "source": [
    "# Realizando a Contagem de registros\n",
    "dados.Drug.value_counts()"
   ]
  },
  {
   "cell_type": "code",
   "execution_count": 40,
   "id": "b207ee79",
   "metadata": {},
   "outputs": [
    {
     "data": {
      "image/png": "[encoded data removed]",
      "text/plain": [
       "<Figure size 800x600 with 1 Axes>"
      ]
     },
     "metadata": {},
     "output_type": "display_data"
    }
   ],
   "source": [
    "plt.figure(figsize=(8, 6))\n",
    "sns.countplot(data=dados, x='Drug', palette='crest')\n",
    "plt.title('Tipos de Medicamentos')\n",
    "plt.xlabel('Medicamento')\n",
    "plt.ylabel('Contagem')\n",
    "plt.xticks(rotation=45)  # Rotaciona os rótulos no eixo x para facilitar a leitura\n",
    "plt.show();"
   ]
  },
  {
   "cell_type": "markdown",
   "id": "df8011c1",
   "metadata": {},
   "source": [
    "##### **Conclusão**👇🏽👇👇🏽\n",
    "\n",
    "- O medicamento do tipo $Y$ é o mais consumido."
   ]
  },
  {
   "cell_type": "markdown",
   "id": "2d55f918",
   "metadata": {},
   "source": [
    "> <span style='font-size:15px; font-family:Verdana;color: #254E58; border-bottom: solid 3px'><b>2.7.3 | Visualizando a associação das variaveis Idade, Sexo e Drug</b></span>"
   ]
  },
  {
   "cell_type": "code",
   "execution_count": 41,
   "id": "71bc5631",
   "metadata": {},
   "outputs": [
    {
     "data": {
      "image/png": "[encoded data removed]",
      "text/plain": [
       "<Figure size 567.625x500 with 1 Axes>"
      ]
     },
     "metadata": {},
     "output_type": "display_data"
    }
   ],
   "source": [
    "# Gráficamente\n",
    "sns.catplot(x='Drug',y='Age', hue='Sex', data=dados, palette='Set1');"
   ]
  },
  {
   "cell_type": "code",
   "execution_count": 42,
   "id": "b82b9f9e",
   "metadata": {},
   "outputs": [
    {
     "data": {
      "image/png": "[encoded data removed]",
      "text/plain": [
       "<Figure size 500x500 with 1 Axes>"
      ]
     },
     "metadata": {},
     "output_type": "display_data"
    }
   ],
   "source": [
    "# Gráfico\n",
    "plt.figure(figsize=(5,5))\n",
    "sns.swarmplot(x='Drug', y='Age', data = dados)\n",
    "plt.legend(dados.Drug.value_counts().index)\n",
    "plt.title('Idade x Medicamentos')\n",
    "plt.grid()\n",
    "plt.show();"
   ]
  },
  {
   "cell_type": "code",
   "execution_count": 43,
   "id": "b3b95c3f",
   "metadata": {},
   "outputs": [
    {
     "data": {
      "image/png": "[encoded data removed]",
      "text/plain": [
       "<Figure size 500x500 with 1 Axes>"
      ]
     },
     "metadata": {},
     "output_type": "display_data"
    }
   ],
   "source": [
    "# Defina uma paleta de cores personalizada\n",
    "minhas_cores = sns.color_palette(\"Set2\")\n",
    "\n",
    "plt.figure(figsize=(5, 5))\n",
    "sns.set(style=\"whitegrid\")  # Define o estilo do gráfico seaborn\n",
    "sns.swarmplot(x='Drug', y='Age', data=dados, palette=minhas_cores)\n",
    "plt.legend(dados.Drug.value_counts().index)\n",
    "plt.title('Idade x Medicamentos')\n",
    "plt.grid(True)\n",
    "plt.show();"
   ]
  },
  {
   "cell_type": "markdown",
   "id": "44d4fcb9",
   "metadata": {},
   "source": [
    "##### **Conclusões**👇🏽👇👇🏽\n",
    "\n",
    "- O medicamento do tipo $B$ é usado apenas por pacientes com $idade > 50$ anos;\n",
    "\n",
    "- O medicamento do tipo $A$ é usado apenas por pacientes com $idade < 50$ anos."
   ]
  },
  {
   "cell_type": "markdown",
   "id": "ee669a69",
   "metadata": {},
   "source": [
    "> <span style='font-size:15px; font-family:Verdana;color: #254E58; border-bottom: solid 3px'><b>2.7.4 | Analisando e Visualizando o consumo de medicamentos por sexo</b></span>"
   ]
  },
  {
   "cell_type": "code",
   "execution_count": 44,
   "id": "9d94a5d9",
   "metadata": {},
   "outputs": [
    {
     "data": {
      "text/html": [
       "<div>\n",
       "<style scoped>\n",
       "    .dataframe tbody tr th:only-of-type {\n",
       "        vertical-align: middle;\n",
       "    }\n",
       "\n",
       "    .dataframe tbody tr th {\n",
       "        vertical-align: top;\n",
       "    }\n",
       "\n",
       "    .dataframe thead th {\n",
       "        text-align: right;\n",
       "    }\n",
       "</style>\n",
       "<table border=\"1\" class=\"dataframe\">\n",
       "  <thead>\n",
       "    <tr style=\"text-align: right;\">\n",
       "      <th></th>\n",
       "      <th>Drug</th>\n",
       "      <th>Sex</th>\n",
       "      <th>Count</th>\n",
       "    </tr>\n",
       "  </thead>\n",
       "  <tbody>\n",
       "    <tr>\n",
       "      <th>0</th>\n",
       "      <td>drugA</td>\n",
       "      <td>F</td>\n",
       "      <td>9</td>\n",
       "    </tr>\n",
       "    <tr>\n",
       "      <th>1</th>\n",
       "      <td>drugA</td>\n",
       "      <td>M</td>\n",
       "      <td>14</td>\n",
       "    </tr>\n",
       "    <tr>\n",
       "      <th>2</th>\n",
       "      <td>drugB</td>\n",
       "      <td>F</td>\n",
       "      <td>6</td>\n",
       "    </tr>\n",
       "    <tr>\n",
       "      <th>3</th>\n",
       "      <td>drugB</td>\n",
       "      <td>M</td>\n",
       "      <td>10</td>\n",
       "    </tr>\n",
       "    <tr>\n",
       "      <th>4</th>\n",
       "      <td>drugC</td>\n",
       "      <td>F</td>\n",
       "      <td>7</td>\n",
       "    </tr>\n",
       "    <tr>\n",
       "      <th>5</th>\n",
       "      <td>drugC</td>\n",
       "      <td>M</td>\n",
       "      <td>9</td>\n",
       "    </tr>\n",
       "    <tr>\n",
       "      <th>6</th>\n",
       "      <td>drugX</td>\n",
       "      <td>F</td>\n",
       "      <td>27</td>\n",
       "    </tr>\n",
       "    <tr>\n",
       "      <th>7</th>\n",
       "      <td>drugX</td>\n",
       "      <td>M</td>\n",
       "      <td>27</td>\n",
       "    </tr>\n",
       "    <tr>\n",
       "      <th>8</th>\n",
       "      <td>drugY</td>\n",
       "      <td>F</td>\n",
       "      <td>47</td>\n",
       "    </tr>\n",
       "    <tr>\n",
       "      <th>9</th>\n",
       "      <td>drugY</td>\n",
       "      <td>M</td>\n",
       "      <td>44</td>\n",
       "    </tr>\n",
       "  </tbody>\n",
       "</table>\n",
       "</div>"
      ],
      "text/plain": [
       "    Drug Sex  Count\n",
       "0  drugA   F      9\n",
       "1  drugA   M     14\n",
       "2  drugB   F      6\n",
       "3  drugB   M     10\n",
       "4  drugC   F      7\n",
       "5  drugC   M      9\n",
       "6  drugX   F     27\n",
       "7  drugX   M     27\n",
       "8  drugY   F     47\n",
       "9  drugY   M     44"
      ]
     },
     "execution_count": 44,
     "metadata": {},
     "output_type": "execute_result"
    }
   ],
   "source": [
    "# Analisando o consumo de medicamentos por sexo\n",
    "df_sex_drug = dados.groupby(['Drug', 'Sex']).size().reset_index(name='Count')\n",
    "df_sex_drug"
   ]
  },
  {
   "cell_type": "code",
   "execution_count": 45,
   "id": "ef8e8260",
   "metadata": {},
   "outputs": [
    {
     "data": {
      "image/png": "[encoded data removed]",
      "text/plain": [
       "<Figure size 900x500 with 1 Axes>"
      ]
     },
     "metadata": {},
     "output_type": "display_data"
    }
   ],
   "source": [
    "# Visualizando\n",
    "plt.figure(figsize=(9,5))\n",
    "sns.barplot(x=\"Drug\", y=\"Count\", hue=\"Sex\", data=df_sex_drug)\n",
    "plt.title('Sexo vs Medicamentos')\n",
    "plt.show();"
   ]
  },
  {
   "cell_type": "markdown",
   "id": "fa3bd3d6",
   "metadata": {},
   "source": [
    "#### **Conclisões**👇🏽👇👇🏽\n",
    "\n",
    "- O medicamento do tipo $Y$ é o mais usado por mulheres; \n",
    "\n",
    "- Enquanto que os demais medicamentos são mais usados po homens."
   ]
  },
  {
   "cell_type": "markdown",
   "id": "416c4765",
   "metadata": {},
   "source": [
    "> <span style='font-size:15px; font-family:Verdana;color: #254E58; border-bottom: solid 3px'><b>2.7.5 |Visualizando o tipo de drogas/medicamentos em função da Pressão Arterial</b></span>"
   ]
  },
  {
   "cell_type": "code",
   "execution_count": 46,
   "id": "fd9ac8e6",
   "metadata": {},
   "outputs": [
    {
     "data": {
      "image/png": "[encoded data removed]",
      "text/plain": [
       "<Figure size 640x480 with 1 Axes>"
      ]
     },
     "metadata": {},
     "output_type": "display_data"
    }
   ],
   "source": [
    "# Analisando e Visualizando o tipo de drogas em função do nivel de Pressão Arterial.\n",
    "sns.countplot(x='Drug', hue='BP', data=dados, palette='magma');"
   ]
  },
  {
   "cell_type": "markdown",
   "id": "d0c6a354",
   "metadata": {},
   "source": [
    "#### **Conclusões**👇🏽👇👇🏽\n",
    "\n",
    "- O medicamento do tipo $Y$, é usado principalmente por pacientes com ALTO $BP$\n",
    "\n",
    "- O medicamento do tipo $C$, é usado apenas por pessoas com BAIXO $BP$\n",
    "\n",
    "- O medicamento do tipo $X$, não é usado por pessoas com ALTO $BP$\n",
    "\n",
    "- Os medicamento do tipo $A$ e $B$, são usados apenas por pessoas com ALTO $BP$"
   ]
  },
  {
   "cell_type": "markdown",
   "id": "c79e9cea",
   "metadata": {},
   "source": [
    "> <span style='font-size:15px; font-family:Verdana;color: #254E58; border-bottom: solid 3px'><b>2.7.6 |Visualizando o tipo de drogas/medicamentos por nivel de Colesterol</b></span>"
   ]
  },
  {
   "cell_type": "code",
   "execution_count": 47,
   "id": "39434495",
   "metadata": {},
   "outputs": [
    {
     "data": {
      "image/png": "[encoded data removed]",
      "text/plain": [
       "<Figure size 640x480 with 1 Axes>"
      ]
     },
     "metadata": {},
     "output_type": "display_data"
    }
   ],
   "source": [
    "# Analisando e Visualizando o tipo de medicamentos por nivel de Colesterol.\n",
    "sns.countplot(x='Drug', hue='Cholesterol', data=dados, palette='magma');"
   ]
  },
  {
   "cell_type": "markdown",
   "id": "2a74f734",
   "metadata": {},
   "source": [
    "#### **Conclusão**👇🏽👇👇🏽\n",
    "\n",
    "- O medicamento do tipo $C$ é usado apenas por pessoas que apresentam um nivel ALTO de Colesterol"
   ]
  },
  {
   "cell_type": "markdown",
   "id": "3142354e",
   "metadata": {},
   "source": [
    "> <span style='font-size:15px; font-family:Verdana;color: #254E58; border-bottom: solid 3px'><b>2.7.7 |Visualizando relação entre Drogas e a proporção de Sódio (Na) para Potássio (K)</b></span>"
   ]
  },
  {
   "cell_type": "code",
   "execution_count": 48,
   "id": "76ae57f1",
   "metadata": {},
   "outputs": [
    {
     "data": {
      "image/png": "[encoded data removed]",
      "text/plain": [
       "<Figure size 500x500 with 1 Axes>"
      ]
     },
     "metadata": {},
     "output_type": "display_data"
    }
   ],
   "source": [
    "# Visualizando a Relação entre Drogas e a proporção de Sódio (Na)para Potássio (K)\n",
    "sns.catplot(x='Drug', y='Na_to_K', data=dados, palette='viridis');"
   ]
  },
  {
   "cell_type": "code",
   "execution_count": 49,
   "id": "e10c591f",
   "metadata": {},
   "outputs": [
    {
     "data": {
      "image/png": "[encoded data removed]",
      "text/plain": [
       "<Figure size 640x480 with 1 Axes>"
      ]
     },
     "metadata": {},
     "output_type": "display_data"
    }
   ],
   "source": [
    "sns.histplot(x='Na_to_K', hue='Drug', data=dados)\n",
    "plt.show();"
   ]
  },
  {
   "cell_type": "markdown",
   "id": "bb58c277",
   "metadata": {},
   "source": [
    "##### **Conclusão**👇🏽👇👇🏽 \n",
    "\n",
    "- O medicamento do tipo $Y$ é usado apenas por pacientes com razão **Na** (Sódio) para **K** (Potássio) $> 15$"
   ]
  },
  {
   "cell_type": "code",
   "execution_count": 50,
   "id": "eeb3770c",
   "metadata": {},
   "outputs": [
    {
     "data": {
      "text/html": [
       "<marquee style='width: 100%; color: #0a5c5c;'><b> CIENTISTA DE DADOS !</b></marquee>\n"
      ],
      "text/plain": [
       "<IPython.core.display.HTML object>"
      ]
     },
     "metadata": {},
     "output_type": "display_data"
    }
   ],
   "source": [
    "%%html\n",
    "<marquee style='width: 100%; color: #0a5c5c;'><b> CIENTISTA DE DADOS !</b></marquee>"
   ]
  },
  {
   "cell_type": "code",
   "execution_count": null,
   "id": "5ba66d45",
   "metadata": {},
   "outputs": [],
   "source": []
  }
 ],
 "metadata": {
  "kernelspec": {
   "display_name": "Python 3 (ipykernel)",
   "language": "python",
   "name": "python3"
  },
  "language_info": {
   "codemirror_mode": {
    "name": "ipython",
    "version": 3
   },
   "file_extension": ".py",
   "mimetype": "text/x-python",
   "name": "python",
   "nbconvert_exporter": "python",
   "pygments_lexer": "ipython3",
   "version": "3.11.5"
  }
 },
 "nbformat": 4,
 "nbformat_minor": 5
}
